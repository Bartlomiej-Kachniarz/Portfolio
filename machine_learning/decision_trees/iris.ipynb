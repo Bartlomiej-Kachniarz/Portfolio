{
 "cells": [
  {
   "cell_type": "code",
   "execution_count": 1,
   "metadata": {},
   "outputs": [],
   "source": [
    "from sklearn.datasets import load_iris\n",
    "from sklearn.tree import DecisionTreeClassifier"
   ]
  },
  {
   "cell_type": "code",
   "execution_count": 4,
   "metadata": {},
   "outputs": [],
   "source": [
    "iris = load_iris()\n",
    "X = iris.data[:, 2:]  # petal length and width\n",
    "y = iris.target"
   ]
  },
  {
   "cell_type": "code",
   "execution_count": 18,
   "metadata": {},
   "outputs": [
    {
     "data": {
      "text/html": [
       "<style>#sk-container-id-3 {color: black;}#sk-container-id-3 pre{padding: 0;}#sk-container-id-3 div.sk-toggleable {background-color: white;}#sk-container-id-3 label.sk-toggleable__label {cursor: pointer;display: block;width: 100%;margin-bottom: 0;padding: 0.3em;box-sizing: border-box;text-align: center;}#sk-container-id-3 label.sk-toggleable__label-arrow:before {content: \"▸\";float: left;margin-right: 0.25em;color: #696969;}#sk-container-id-3 label.sk-toggleable__label-arrow:hover:before {color: black;}#sk-container-id-3 div.sk-estimator:hover label.sk-toggleable__label-arrow:before {color: black;}#sk-container-id-3 div.sk-toggleable__content {max-height: 0;max-width: 0;overflow: hidden;text-align: left;background-color: #f0f8ff;}#sk-container-id-3 div.sk-toggleable__content pre {margin: 0.2em;color: black;border-radius: 0.25em;background-color: #f0f8ff;}#sk-container-id-3 input.sk-toggleable__control:checked~div.sk-toggleable__content {max-height: 200px;max-width: 100%;overflow: auto;}#sk-container-id-3 input.sk-toggleable__control:checked~label.sk-toggleable__label-arrow:before {content: \"▾\";}#sk-container-id-3 div.sk-estimator input.sk-toggleable__control:checked~label.sk-toggleable__label {background-color: #d4ebff;}#sk-container-id-3 div.sk-label input.sk-toggleable__control:checked~label.sk-toggleable__label {background-color: #d4ebff;}#sk-container-id-3 input.sk-hidden--visually {border: 0;clip: rect(1px 1px 1px 1px);clip: rect(1px, 1px, 1px, 1px);height: 1px;margin: -1px;overflow: hidden;padding: 0;position: absolute;width: 1px;}#sk-container-id-3 div.sk-estimator {font-family: monospace;background-color: #f0f8ff;border: 1px dotted black;border-radius: 0.25em;box-sizing: border-box;margin-bottom: 0.5em;}#sk-container-id-3 div.sk-estimator:hover {background-color: #d4ebff;}#sk-container-id-3 div.sk-parallel-item::after {content: \"\";width: 100%;border-bottom: 1px solid gray;flex-grow: 1;}#sk-container-id-3 div.sk-label:hover label.sk-toggleable__label {background-color: #d4ebff;}#sk-container-id-3 div.sk-serial::before {content: \"\";position: absolute;border-left: 1px solid gray;box-sizing: border-box;top: 0;bottom: 0;left: 50%;z-index: 0;}#sk-container-id-3 div.sk-serial {display: flex;flex-direction: column;align-items: center;background-color: white;padding-right: 0.2em;padding-left: 0.2em;position: relative;}#sk-container-id-3 div.sk-item {position: relative;z-index: 1;}#sk-container-id-3 div.sk-parallel {display: flex;align-items: stretch;justify-content: center;background-color: white;position: relative;}#sk-container-id-3 div.sk-item::before, #sk-container-id-3 div.sk-parallel-item::before {content: \"\";position: absolute;border-left: 1px solid gray;box-sizing: border-box;top: 0;bottom: 0;left: 50%;z-index: -1;}#sk-container-id-3 div.sk-parallel-item {display: flex;flex-direction: column;z-index: 1;position: relative;background-color: white;}#sk-container-id-3 div.sk-parallel-item:first-child::after {align-self: flex-end;width: 50%;}#sk-container-id-3 div.sk-parallel-item:last-child::after {align-self: flex-start;width: 50%;}#sk-container-id-3 div.sk-parallel-item:only-child::after {width: 0;}#sk-container-id-3 div.sk-dashed-wrapped {border: 1px dashed gray;margin: 0 0.4em 0.5em 0.4em;box-sizing: border-box;padding-bottom: 0.4em;background-color: white;}#sk-container-id-3 div.sk-label label {font-family: monospace;font-weight: bold;display: inline-block;line-height: 1.2em;}#sk-container-id-3 div.sk-label-container {text-align: center;}#sk-container-id-3 div.sk-container {/* jupyter's `normalize.less` sets `[hidden] { display: none; }` but bootstrap.min.css set `[hidden] { display: none !important; }` so we also need the `!important` here to be able to override the default hidden behavior on the sphinx rendered scikit-learn.org. See: https://github.com/scikit-learn/scikit-learn/issues/21755 */display: inline-block !important;position: relative;}#sk-container-id-3 div.sk-text-repr-fallback {display: none;}</style><div id=\"sk-container-id-3\" class=\"sk-top-container\"><div class=\"sk-text-repr-fallback\"><pre>DecisionTreeClassifier(max_depth=3)</pre><b>In a Jupyter environment, please rerun this cell to show the HTML representation or trust the notebook. <br />On GitHub, the HTML representation is unable to render, please try loading this page with nbviewer.org.</b></div><div class=\"sk-container\" hidden><div class=\"sk-item\"><div class=\"sk-estimator sk-toggleable\"><input class=\"sk-toggleable__control sk-hidden--visually\" id=\"sk-estimator-id-3\" type=\"checkbox\" checked><label for=\"sk-estimator-id-3\" class=\"sk-toggleable__label sk-toggleable__label-arrow\">DecisionTreeClassifier</label><div class=\"sk-toggleable__content\"><pre>DecisionTreeClassifier(max_depth=3)</pre></div></div></div></div></div>"
      ],
      "text/plain": [
       "DecisionTreeClassifier(max_depth=3)"
      ]
     },
     "execution_count": 18,
     "metadata": {},
     "output_type": "execute_result"
    }
   ],
   "source": [
    "dtree_clsf = DecisionTreeClassifier(max_depth=3)\n",
    "dtree_clsf.fit(X=X, y=y)"
   ]
  },
  {
   "cell_type": "code",
   "execution_count": 24,
   "metadata": {},
   "outputs": [
    {
     "data": {
      "text/plain": [
       "['petal length (cm)', 'petal width (cm)']"
      ]
     },
     "execution_count": 24,
     "metadata": {},
     "output_type": "execute_result"
    }
   ],
   "source": [
    "iris.feature_names[2:]"
   ]
  },
  {
   "cell_type": "code",
   "execution_count": 22,
   "metadata": {},
   "outputs": [
    {
     "data": {
      "text/plain": [
       "array(['setosa', 'versicolor', 'virginica'], dtype='<U10')"
      ]
     },
     "execution_count": 22,
     "metadata": {},
     "output_type": "execute_result"
    }
   ],
   "source": [
    "iris.target_names"
   ]
  },
  {
   "cell_type": "code",
   "execution_count": 19,
   "metadata": {},
   "outputs": [],
   "source": [
    "from sklearn.tree import export_graphviz\n",
    "\n",
    "export_graphviz(\n",
    "    decision_tree=dtree_clsf,\n",
    "    out_file=\"iris_dtree.dot\",\n",
    "    feature_names=iris.feature_names[2:],\n",
    "    class_names=iris.target_names,\n",
    "    rounded=True,\n",
    "    filled=True,\n",
    ")"
   ]
  },
  {
   "cell_type": "code",
   "execution_count": 14,
   "metadata": {},
   "outputs": [
    {
     "name": "stdout",
     "output_type": "stream",
     "text": [
      "\u001b[34m==>\u001b[0m \u001b[1mDownloading https://ghcr.io/v2/homebrew/core/graphviz/manifests/10.0.1\u001b[0m\n",
      "######################################################################### 100.0%\n",
      "\u001b[32m==>\u001b[0m \u001b[1mFetching dependencies for graphviz: \u001b[32mlibavif\u001b[39m, \u001b[32mgd\u001b[39m, \u001b[32mopenssl@3\u001b[39m, \u001b[32msqlite\u001b[39m, \u001b[32mjasper\u001b[39m, \u001b[32mnetpbm\u001b[39m, \u001b[32mgts\u001b[39m, \u001b[32mgdk-pixbuf\u001b[39m, \u001b[32mlibrsvg\u001b[39m, \u001b[32mm4\u001b[39m and \u001b[32mlibtool\u001b[39m\u001b[0m\n",
      "\u001b[34m==>\u001b[0m \u001b[1mDownloading https://ghcr.io/v2/homebrew/core/libavif/manifests/1.0.4\u001b[0m\n",
      "######################################################################### 100.0%\n",
      "\u001b[32m==>\u001b[0m \u001b[1mFetching \u001b[32mlibavif\u001b[39m\u001b[0m\n",
      "\u001b[34m==>\u001b[0m \u001b[1mDownloading https://ghcr.io/v2/homebrew/core/libavif/blobs/sha256:9008bf7646\u001b[0m\n",
      "######################################################################### 100.0%\n",
      "\u001b[34m==>\u001b[0m \u001b[1mDownloading https://ghcr.io/v2/homebrew/core/gd/manifests/2.3.3_6\u001b[0m\n",
      "######################################################################### 100.0%\n",
      "\u001b[32m==>\u001b[0m \u001b[1mFetching \u001b[32mgd\u001b[39m\u001b[0m\n",
      "\u001b[34m==>\u001b[0m \u001b[1mDownloading https://ghcr.io/v2/homebrew/core/gd/blobs/sha256:e278f6f79e6ac00\u001b[0m\n",
      "######################################################################### 100.0%\n",
      "\u001b[34m==>\u001b[0m \u001b[1mDownloading https://ghcr.io/v2/homebrew/core/openssl/3/manifests/3.3.0-1\u001b[0m\n",
      "######################################################################### 100.0%\n",
      "\u001b[32m==>\u001b[0m \u001b[1mFetching \u001b[32mopenssl@3\u001b[39m\u001b[0m\n",
      "\u001b[34m==>\u001b[0m \u001b[1mDownloading https://ghcr.io/v2/homebrew/core/openssl/3/blobs/sha256:ec6f9daf\u001b[0m\n",
      "######################################################################### 100.0%\n",
      "\u001b[34m==>\u001b[0m \u001b[1mDownloading https://ghcr.io/v2/homebrew/core/sqlite/manifests/3.45.3\u001b[0m\n",
      "######################################################################### 100.0%\n",
      "\u001b[32m==>\u001b[0m \u001b[1mFetching \u001b[32msqlite\u001b[39m\u001b[0m\n",
      "\u001b[34m==>\u001b[0m \u001b[1mDownloading https://ghcr.io/v2/homebrew/core/sqlite/blobs/sha256:253a7732af3\u001b[0m\n",
      "######################################################################### 100.0%\n",
      "\u001b[34m==>\u001b[0m \u001b[1mDownloading https://ghcr.io/v2/homebrew/core/jasper/manifests/4.2.3\u001b[0m\n",
      "######################################################################### 100.0%\n",
      "\u001b[32m==>\u001b[0m \u001b[1mFetching \u001b[32mjasper\u001b[39m\u001b[0m\n",
      "\u001b[34m==>\u001b[0m \u001b[1mDownloading https://ghcr.io/v2/homebrew/core/jasper/blobs/sha256:b2acb59eda3\u001b[0m\n",
      "######################################################################### 100.0%\n",
      "\u001b[34m==>\u001b[0m \u001b[1mDownloading https://ghcr.io/v2/homebrew/core/netpbm/manifests/11.02.09\u001b[0m\n",
      "######################################################################### 100.0%\n",
      "\u001b[32m==>\u001b[0m \u001b[1mFetching \u001b[32mnetpbm\u001b[39m\u001b[0m\n",
      "\u001b[34m==>\u001b[0m \u001b[1mDownloading https://ghcr.io/v2/homebrew/core/netpbm/blobs/sha256:a69bee1c788\u001b[0m\n",
      "######################################################################### 100.0%\n",
      "\u001b[34m==>\u001b[0m \u001b[1mDownloading https://ghcr.io/v2/homebrew/core/gts/manifests/0.7.6_3\u001b[0m\n",
      "######################################################################### 100.0%\n",
      "\u001b[32m==>\u001b[0m \u001b[1mFetching \u001b[32mgts\u001b[39m\u001b[0m\n",
      "\u001b[34m==>\u001b[0m \u001b[1mDownloading https://ghcr.io/v2/homebrew/core/gts/blobs/sha256:45ce1fc7fc4da5\u001b[0m\n",
      "######################################################################### 100.0%\n",
      "\u001b[34m==>\u001b[0m \u001b[1mDownloading https://ghcr.io/v2/homebrew/core/gdk-pixbuf/manifests/2.42.11-1\u001b[0m\n",
      "######################################################################### 100.0%\n",
      "\u001b[32m==>\u001b[0m \u001b[1mFetching \u001b[32mgdk-pixbuf\u001b[39m\u001b[0m\n",
      "\u001b[34m==>\u001b[0m \u001b[1mDownloading https://ghcr.io/v2/homebrew/core/gdk-pixbuf/blobs/sha256:5a18df5\u001b[0m\n",
      "######################################################################### 100.0%\n",
      "\u001b[34m==>\u001b[0m \u001b[1mDownloading https://ghcr.io/v2/homebrew/core/librsvg/manifests/2.58.0\u001b[0m\n",
      "######################################################################### 100.0%\n",
      "\u001b[32m==>\u001b[0m \u001b[1mFetching \u001b[32mlibrsvg\u001b[39m\u001b[0m\n",
      "\u001b[34m==>\u001b[0m \u001b[1mDownloading https://ghcr.io/v2/homebrew/core/librsvg/blobs/sha256:102ea16956\u001b[0m\n",
      "######################################################################### 100.0%\n",
      "\u001b[34m==>\u001b[0m \u001b[1mDownloading https://ghcr.io/v2/homebrew/core/m4/manifests/1.4.19\u001b[0m\n",
      "######################################################################### 100.0%\n",
      "\u001b[32m==>\u001b[0m \u001b[1mFetching \u001b[32mm4\u001b[39m\u001b[0m\n",
      "\u001b[34m==>\u001b[0m \u001b[1mDownloading https://ghcr.io/v2/homebrew/core/m4/blobs/sha256:f42d89db519a07d\u001b[0m\n",
      "######################################################################### 100.0%\n",
      "\u001b[34m==>\u001b[0m \u001b[1mDownloading https://ghcr.io/v2/homebrew/core/libtool/manifests/2.4.7-1\u001b[0m\n",
      "######################################################################### 100.0%\n",
      "\u001b[32m==>\u001b[0m \u001b[1mFetching \u001b[32mlibtool\u001b[39m\u001b[0m\n",
      "\u001b[34m==>\u001b[0m \u001b[1mDownloading https://ghcr.io/v2/homebrew/core/libtool/blobs/sha256:211b174c29\u001b[0m\n",
      "######################################################################### 100.0%\n",
      "\u001b[32m==>\u001b[0m \u001b[1mFetching \u001b[32mgraphviz\u001b[39m\u001b[0m\n",
      "\u001b[34m==>\u001b[0m \u001b[1mDownloading https://ghcr.io/v2/homebrew/core/graphviz/blobs/sha256:cd3b730ae\u001b[0m\n",
      "######################################################################### 100.0%\n",
      "\u001b[32m==>\u001b[0m \u001b[1mInstalling dependencies for graphviz: \u001b[32mlibavif\u001b[39m, \u001b[32mgd\u001b[39m, \u001b[32mopenssl@3\u001b[39m, \u001b[32msqlite\u001b[39m, \u001b[32mjasper\u001b[39m, \u001b[32mnetpbm\u001b[39m, \u001b[32mgts\u001b[39m, \u001b[32mgdk-pixbuf\u001b[39m, \u001b[32mlibrsvg\u001b[39m, \u001b[32mm4\u001b[39m and \u001b[32mlibtool\u001b[39m\u001b[0m\n",
      "\u001b[32m==>\u001b[0m \u001b[1mInstalling graphviz dependency: \u001b[32mlibavif\u001b[39m\u001b[0m\n",
      "\u001b[34m==>\u001b[0m \u001b[1mDownloading https://ghcr.io/v2/homebrew/core/libavif/manifests/1.0.4\u001b[0m\n",
      "Already downloaded: /Users/Bartek/Library/Caches/Homebrew/downloads/be5adfc796abe915819451a1488fc3b9f68d320a8bb92c451c21f450b4e4e672--libavif-1.0.4.bottle_manifest.json\n",
      "\u001b[34m==>\u001b[0m \u001b[1mPouring libavif--1.0.4.arm64_sonoma.bottle.tar.gz\u001b[0m\n",
      "🍺  /opt/homebrew/Cellar/libavif/1.0.4: 19 files, 538KB\n",
      "\u001b[32m==>\u001b[0m \u001b[1mInstalling graphviz dependency: \u001b[32mgd\u001b[39m\u001b[0m\n",
      "\u001b[34m==>\u001b[0m \u001b[1mDownloading https://ghcr.io/v2/homebrew/core/gd/manifests/2.3.3_6\u001b[0m\n",
      "Already downloaded: /Users/Bartek/Library/Caches/Homebrew/downloads/1f63d9efd8c74faa4477bd8b8a3970abd38e51230ed052918bb6f3715aab8b61--gd-2.3.3_6.bottle_manifest.json\n",
      "\u001b[34m==>\u001b[0m \u001b[1mPouring gd--2.3.3_6.arm64_sonoma.bottle.tar.gz\u001b[0m\n",
      "🍺  /opt/homebrew/Cellar/gd/2.3.3_6: 33 files, 1.5MB\n",
      "\u001b[32m==>\u001b[0m \u001b[1mInstalling graphviz dependency: \u001b[32mopenssl@3\u001b[39m\u001b[0m\n",
      "\u001b[34m==>\u001b[0m \u001b[1mDownloading https://ghcr.io/v2/homebrew/core/openssl/3/manifests/3.3.0-1\u001b[0m\n",
      "Already downloaded: /Users/Bartek/Library/Caches/Homebrew/downloads/cd7e4cb72da375d51619d8c60fb91a70696e352edb515631b5751d05342e471d--openssl@3-3.3.0-1.bottle_manifest.json\n",
      "\u001b[34m==>\u001b[0m \u001b[1mPouring openssl@3--3.3.0.arm64_sonoma.bottle.1.tar.gz\u001b[0m\n",
      "🍺  /opt/homebrew/Cellar/openssl@3/3.3.0: 6,976 files, 32.4MB\n",
      "\u001b[32m==>\u001b[0m \u001b[1mInstalling graphviz dependency: \u001b[32msqlite\u001b[39m\u001b[0m\n",
      "\u001b[34m==>\u001b[0m \u001b[1mDownloading https://ghcr.io/v2/homebrew/core/sqlite/manifests/3.45.3\u001b[0m\n",
      "Already downloaded: /Users/Bartek/Library/Caches/Homebrew/downloads/9eebda014aefbd585433274db989aa060c29200f656e6e106b4c1956438a2401--sqlite-3.45.3.bottle_manifest.json\n",
      "\u001b[34m==>\u001b[0m \u001b[1mPouring sqlite--3.45.3.arm64_sonoma.bottle.tar.gz\u001b[0m\n",
      "🍺  /opt/homebrew/Cellar/sqlite/3.45.3: 11 files, 4.8MB\n",
      "\u001b[32m==>\u001b[0m \u001b[1mInstalling graphviz dependency: \u001b[32mjasper\u001b[39m\u001b[0m\n",
      "\u001b[34m==>\u001b[0m \u001b[1mDownloading https://ghcr.io/v2/homebrew/core/jasper/manifests/4.2.3\u001b[0m\n",
      "Already downloaded: /Users/Bartek/Library/Caches/Homebrew/downloads/f44f5d01554c4c946459413e8e0442d063afc89acca3acb56b9e0c68bd22d344--jasper-4.2.3.bottle_manifest.json\n",
      "\u001b[34m==>\u001b[0m \u001b[1mPouring jasper--4.2.3.arm64_sonoma.bottle.tar.gz\u001b[0m\n",
      "🍺  /opt/homebrew/Cellar/jasper/4.2.3: 44 files, 1.6MB\n",
      "\u001b[32m==>\u001b[0m \u001b[1mInstalling graphviz dependency: \u001b[32mnetpbm\u001b[39m\u001b[0m\n",
      "\u001b[34m==>\u001b[0m \u001b[1mDownloading https://ghcr.io/v2/homebrew/core/netpbm/manifests/11.02.09\u001b[0m\n",
      "Already downloaded: /Users/Bartek/Library/Caches/Homebrew/downloads/1c4be61c6a2db4fdbc7e0252e62cd50fb8296d87a1cc919668ac3c70c6ff7e7f--netpbm-11.02.09.bottle_manifest.json\n",
      "\u001b[34m==>\u001b[0m \u001b[1mPouring netpbm--11.02.09.arm64_sonoma.bottle.tar.gz\u001b[0m\n",
      "🍺  /opt/homebrew/Cellar/netpbm/11.02.09: 416 files, 18.7MB\n",
      "\u001b[32m==>\u001b[0m \u001b[1mInstalling graphviz dependency: \u001b[32mgts\u001b[39m\u001b[0m\n",
      "\u001b[34m==>\u001b[0m \u001b[1mDownloading https://ghcr.io/v2/homebrew/core/gts/manifests/0.7.6_3\u001b[0m\n",
      "Already downloaded: /Users/Bartek/Library/Caches/Homebrew/downloads/0cb7519523b42ff855917c33218c1ef771e3060080fea895de59eb848c833cd1--gts-0.7.6_3.bottle_manifest.json\n",
      "\u001b[34m==>\u001b[0m \u001b[1mPouring gts--0.7.6_3.arm64_sonoma.bottle.tar.gz\u001b[0m\n",
      "🍺  /opt/homebrew/Cellar/gts/0.7.6_3: 26 files, 1.6MB\n",
      "\u001b[32m==>\u001b[0m \u001b[1mInstalling graphviz dependency: \u001b[32mgdk-pixbuf\u001b[39m\u001b[0m\n",
      "\u001b[34m==>\u001b[0m \u001b[1mDownloading https://ghcr.io/v2/homebrew/core/gdk-pixbuf/manifests/2.42.11-1\u001b[0m\n",
      "Already downloaded: /Users/Bartek/Library/Caches/Homebrew/downloads/e33b7eccf9c79f017289001438f9402b37bc235e3dc91458dd57345ad2ed1098--gdk-pixbuf-2.42.11-1.bottle_manifest.json\n",
      "\u001b[34m==>\u001b[0m \u001b[1mPouring gdk-pixbuf--2.42.11.arm64_sonoma.bottle.1.tar.gz\u001b[0m\n",
      "\u001b[34m==>\u001b[0m \u001b[1m/opt/homebrew/Cellar/gdk-pixbuf/2.42.11/bin/gdk-pixbuf-query-loaders --updat\u001b[0m\n",
      "🍺  /opt/homebrew/Cellar/gdk-pixbuf/2.42.11: 151 files, 4.0MB\n",
      "\u001b[32m==>\u001b[0m \u001b[1mInstalling graphviz dependency: \u001b[32mlibrsvg\u001b[39m\u001b[0m\n",
      "\u001b[34m==>\u001b[0m \u001b[1mDownloading https://ghcr.io/v2/homebrew/core/librsvg/manifests/2.58.0\u001b[0m\n",
      "Already downloaded: /Users/Bartek/Library/Caches/Homebrew/downloads/7b1ad23688052396ca6401b20573b2f69fafc28221b623268521dc99ef161ea7--librsvg-2.58.0.bottle_manifest.json\n",
      "\u001b[34m==>\u001b[0m \u001b[1mPouring librsvg--2.58.0.arm64_sonoma.bottle.tar.gz\u001b[0m\n",
      "\u001b[34m==>\u001b[0m \u001b[1m/opt/homebrew/opt/gdk-pixbuf/bin/gdk-pixbuf-query-loaders --update-cache\u001b[0m\n",
      "🍺  /opt/homebrew/Cellar/librsvg/2.58.0: 22 files, 46.5MB\n",
      "\u001b[32m==>\u001b[0m \u001b[1mInstalling graphviz dependency: \u001b[32mm4\u001b[39m\u001b[0m\n",
      "\u001b[34m==>\u001b[0m \u001b[1mDownloading https://ghcr.io/v2/homebrew/core/m4/manifests/1.4.19\u001b[0m\n",
      "Already downloaded: /Users/Bartek/Library/Caches/Homebrew/downloads/5b2a7f715487b7377e409e8ca58569040cd89f33859f691210c58d94410fd33b--m4-1.4.19.bottle_manifest.json\n",
      "\u001b[34m==>\u001b[0m \u001b[1mPouring m4--1.4.19.arm64_sonoma.bottle.tar.gz\u001b[0m\n",
      "🍺  /opt/homebrew/Cellar/m4/1.4.19: 13 files, 726.2KB\n",
      "\u001b[32m==>\u001b[0m \u001b[1mInstalling graphviz dependency: \u001b[32mlibtool\u001b[39m\u001b[0m\n",
      "\u001b[34m==>\u001b[0m \u001b[1mDownloading https://ghcr.io/v2/homebrew/core/libtool/manifests/2.4.7-1\u001b[0m\n",
      "Already downloaded: /Users/Bartek/Library/Caches/Homebrew/downloads/606e79b61b857bc4e83f71abf7afa8e087c4ad71539989e7066a4055439bf129--libtool-2.4.7-1.bottle_manifest.json\n",
      "\u001b[34m==>\u001b[0m \u001b[1mPouring libtool--2.4.7.arm64_sonoma.bottle.1.tar.gz\u001b[0m\n",
      "🍺  /opt/homebrew/Cellar/libtool/2.4.7: 75 files, 3.8MB\n",
      "\u001b[32m==>\u001b[0m \u001b[1mInstalling \u001b[32mgraphviz\u001b[39m\u001b[0m\n",
      "\u001b[34m==>\u001b[0m \u001b[1mPouring graphviz--10.0.1.arm64_sonoma.bottle.tar.gz\u001b[0m\n",
      "🍺  /opt/homebrew/Cellar/graphviz/10.0.1: 282 files, 7MB\n",
      "\u001b[34m==>\u001b[0m \u001b[1mRunning `brew cleanup graphviz`...\u001b[0m\n",
      "Disable this behaviour by setting HOMEBREW_NO_INSTALL_CLEANUP.\n",
      "Hide these hints with HOMEBREW_NO_ENV_HINTS (see `man brew`).\n",
      "\u001b[34m==>\u001b[0m \u001b[1mUpgrading 9 dependents of upgraded formulae:\u001b[0m\n",
      "Disable this behaviour by setting HOMEBREW_NO_INSTALLED_DEPENDENTS_CHECK.\n",
      "Hide these hints with HOMEBREW_NO_ENV_HINTS (see `man brew`).\n",
      "apache-arrow 15.0.2_1 -> 16.0.0, aria2 1.36.0_2 -> 1.37.0, llvm 17.0.6_1 -> 18.1.4, dvc 3.49.0_1 -> 3.50.0_1, openjdk@11 11.0.22 -> 11.0.23, openjdk@17 17.0.10 -> 17.0.11, python@3.11 3.11.8 -> 3.11.9, python@3.9 3.9.18_2 -> 3.9.19, qemu 8.2.1 -> 9.0.0\n",
      "\u001b[34m==>\u001b[0m \u001b[1mDownloading https://ghcr.io/v2/homebrew/core/llvm/manifests/18.1.4\u001b[0m\n",
      "######################################################################### 100.0%\n",
      "\u001b[32m==>\u001b[0m \u001b[1mFetching dependencies for llvm: \u001b[32mz3\u001b[39m\u001b[0m\n",
      "\u001b[34m==>\u001b[0m \u001b[1mDownloading https://ghcr.io/v2/homebrew/core/z3/manifests/4.13.0\u001b[0m\n",
      "######################################################################### 100.0%\n",
      "\u001b[32m==>\u001b[0m \u001b[1mFetching \u001b[32mz3\u001b[39m\u001b[0m\n",
      "\u001b[34m==>\u001b[0m \u001b[1mDownloading https://ghcr.io/v2/homebrew/core/z3/blobs/sha256:d7a6ead5ea667ca\u001b[0m\n",
      "######################################################################### 100.0%\n",
      "\u001b[32m==>\u001b[0m \u001b[1mFetching \u001b[32mllvm\u001b[39m\u001b[0m\n",
      "\u001b[34m==>\u001b[0m \u001b[1mDownloading https://ghcr.io/v2/homebrew/core/llvm/blobs/sha256:de8dabe8f97e0\u001b[0m\n",
      "######################################################################### 100.0%\n",
      "\u001b[34m==>\u001b[0m \u001b[1mDownloading https://ghcr.io/v2/homebrew/core/openjdk/11/manifests/11.0.23\u001b[0m\n",
      "######################################################################### 100.0%\n",
      "\u001b[34m==>\u001b[0m \u001b[1mDownloading https://ghcr.io/v2/homebrew/core/openjdk/17/manifests/17.0.11\u001b[0m\n",
      "######################################################################### 100.0%\n",
      "\u001b[34m==>\u001b[0m \u001b[1mDownloading https://ghcr.io/v2/homebrew/core/python/3.11/manifests/3.11.9\u001b[0m\n",
      "Already downloaded: /Users/Bartek/Library/Caches/Homebrew/downloads/434092e38cddf8d8908f3dad7a233fe43e47dc9fdf39bac5845e656f0bc1110f--python@3.11-3.11.9.bottle_manifest.json\n",
      "\u001b[34m==>\u001b[0m \u001b[1mDownloading https://ghcr.io/v2/homebrew/core/python/3.9/manifests/3.9.19\u001b[0m\n",
      "Already downloaded: /Users/Bartek/Library/Caches/Homebrew/downloads/a06962c691411ca6de68630d27da5504bf1851925f6621d4a0ed2475760f2bf6--python@3.9-3.9.19.bottle_manifest.json\n",
      "\u001b[34m==>\u001b[0m \u001b[1mDownloading https://ghcr.io/v2/homebrew/core/apache-arrow/manifests/16.0.0\u001b[0m\n",
      "######################################################################### 100.0%\n",
      "\u001b[32m==>\u001b[0m \u001b[1mFetching dependencies for apache-arrow: \u001b[32mgrpc\u001b[39m and \u001b[32msnappy\u001b[39m\u001b[0m\n",
      "\u001b[34m==>\u001b[0m \u001b[1mDownloading https://ghcr.io/v2/homebrew/core/grpc/manifests/1.62.2\u001b[0m\n",
      "######################################################################### 100.0%\n",
      "\u001b[32m==>\u001b[0m \u001b[1mFetching \u001b[32mgrpc\u001b[39m\u001b[0m\n",
      "\u001b[34m==>\u001b[0m \u001b[1mDownloading https://ghcr.io/v2/homebrew/core/grpc/blobs/sha256:1703b2ac05602\u001b[0m\n",
      "######################################################################### 100.0%\n",
      "\u001b[34m==>\u001b[0m \u001b[1mDownloading https://ghcr.io/v2/homebrew/core/snappy/manifests/1.2.0\u001b[0m\n",
      "######################################################################### 100.0%\n",
      "\u001b[32m==>\u001b[0m \u001b[1mFetching \u001b[32msnappy\u001b[39m\u001b[0m\n",
      "\u001b[34m==>\u001b[0m \u001b[1mDownloading https://ghcr.io/v2/homebrew/core/snappy/blobs/sha256:4a20c424a6c\u001b[0m\n",
      "######################################################################### 100.0%\n",
      "\u001b[32m==>\u001b[0m \u001b[1mFetching \u001b[32mapache-arrow\u001b[39m\u001b[0m\n",
      "\u001b[34m==>\u001b[0m \u001b[1mDownloading https://ghcr.io/v2/homebrew/core/apache-arrow/blobs/sha256:d1b43\u001b[0m\n",
      "######################################################################### 100.0%\n",
      "\u001b[34m==>\u001b[0m \u001b[1mDownloading https://ghcr.io/v2/homebrew/core/qemu/manifests/9.0.0\u001b[0m\n",
      "######################################################################### 100.0%\n",
      "\u001b[32m==>\u001b[0m \u001b[1mFetching \u001b[32mqemu\u001b[39m\u001b[0m\n",
      "\u001b[34m==>\u001b[0m \u001b[1mDownloading https://ghcr.io/v2/homebrew/core/qemu/blobs/sha256:8a28629a57bbf\u001b[0m\n",
      "######################################################################### 100.0%\n",
      "\u001b[34m==>\u001b[0m \u001b[1mDownloading https://ghcr.io/v2/homebrew/core/aria2/manifests/1.37.0\u001b[0m\n",
      "Already downloaded: /Users/Bartek/Library/Caches/Homebrew/downloads/bd22e55cc310b2a1a34f17adb4c9d346a1b18a840e8628f474f6226a1621b22f--aria2-1.37.0.bottle_manifest.json\n",
      "\u001b[34m==>\u001b[0m \u001b[1mDownloading https://ghcr.io/v2/homebrew/core/dvc/manifests/3.50.0_1\u001b[0m\n",
      "######################################################################### 100.0%\n",
      "\u001b[32m==>\u001b[0m \u001b[1mFetching \u001b[32mdvc\u001b[39m\u001b[0m\n",
      "\u001b[34m==>\u001b[0m \u001b[1mDownloading https://ghcr.io/v2/homebrew/core/dvc/blobs/sha256:a2030dba0cf109\u001b[0m\n",
      "######################################################################### 100.0%\n",
      "\u001b[32m==>\u001b[0m \u001b[1mUpgrading \u001b[32mllvm\u001b[39m\u001b[0m\n",
      "  17.0.6_1 -> 18.1.4 \n",
      "\u001b[32m==>\u001b[0m \u001b[1mInstalling dependencies for llvm: \u001b[32mz3\u001b[39m\u001b[0m\n",
      "\u001b[32m==>\u001b[0m \u001b[1mInstalling llvm dependency: \u001b[32mz3\u001b[39m\u001b[0m\n",
      "\u001b[34m==>\u001b[0m \u001b[1mDownloading https://ghcr.io/v2/homebrew/core/z3/manifests/4.13.0\u001b[0m\n",
      "Already downloaded: /Users/Bartek/Library/Caches/Homebrew/downloads/f76733dc8564492bde6da5ddd68bf485a259b09d276de374047a4600ed52edff--z3-4.13.0.bottle_manifest.json\n",
      "\u001b[34m==>\u001b[0m \u001b[1mPouring z3--4.13.0.arm64_sonoma.bottle.tar.gz\u001b[0m\n",
      "🍺  /opt/homebrew/Cellar/z3/4.13.0: 119 files, 31.1MB\n",
      "\u001b[32m==>\u001b[0m \u001b[1mInstalling \u001b[32mllvm\u001b[39m\u001b[0m\n",
      "\u001b[34m==>\u001b[0m \u001b[1mPouring llvm--18.1.4.arm64_sonoma.bottle.tar.gz\u001b[0m\n",
      "🍺  /opt/homebrew/Cellar/llvm/18.1.4: 7,721 files, 1.8GB\n",
      "\u001b[34m==>\u001b[0m \u001b[1mRunning `brew cleanup llvm`...\u001b[0m\n",
      "Removing: /opt/homebrew/Cellar/llvm/17.0.6_1... (7,207 files, 1.7GB)\n",
      "\u001b[32m==>\u001b[0m \u001b[1mUpgrading \u001b[32mapache-arrow\u001b[39m\u001b[0m\n",
      "  15.0.2_1 -> 16.0.0 \n",
      "\u001b[32m==>\u001b[0m \u001b[1mInstalling dependencies for apache-arrow: \u001b[32mgrpc\u001b[39m and \u001b[32msnappy\u001b[39m\u001b[0m\n",
      "\u001b[32m==>\u001b[0m \u001b[1mInstalling apache-arrow dependency: \u001b[32mgrpc\u001b[39m\u001b[0m\n",
      "\u001b[34m==>\u001b[0m \u001b[1mDownloading https://ghcr.io/v2/homebrew/core/grpc/manifests/1.62.2\u001b[0m\n",
      "Already downloaded: /Users/Bartek/Library/Caches/Homebrew/downloads/7b7c51b2ed77f0a33b744f31c98fc872b8d3804458f9735d9c4721612a7971c6--grpc-1.62.2.bottle_manifest.json\n",
      "\u001b[34m==>\u001b[0m \u001b[1mPouring grpc--1.62.2.arm64_sonoma.bottle.tar.gz\u001b[0m\n",
      "🍺  /opt/homebrew/Cellar/grpc/1.62.2: 372 files, 25.3MB\n",
      "\u001b[32m==>\u001b[0m \u001b[1mInstalling apache-arrow dependency: \u001b[32msnappy\u001b[39m\u001b[0m\n",
      "\u001b[34m==>\u001b[0m \u001b[1mDownloading https://ghcr.io/v2/homebrew/core/snappy/manifests/1.2.0\u001b[0m\n",
      "Already downloaded: /Users/Bartek/Library/Caches/Homebrew/downloads/c34a2ae3372f6ff70136ccca7ef7d4fe3483cbbc2c425a7c6f0d4ae40a0bca95--snappy-1.2.0.bottle_manifest.json\n",
      "\u001b[34m==>\u001b[0m \u001b[1mPouring snappy--1.2.0.arm64_sonoma.bottle.tar.gz\u001b[0m\n",
      "🍺  /opt/homebrew/Cellar/snappy/1.2.0: 18 files, 167.7KB\n",
      "\u001b[32m==>\u001b[0m \u001b[1mInstalling \u001b[32mapache-arrow\u001b[39m\u001b[0m\n",
      "\u001b[34m==>\u001b[0m \u001b[1mPouring apache-arrow--16.0.0.arm64_sonoma.bottle.tar.gz\u001b[0m\n",
      "🍺  /opt/homebrew/Cellar/apache-arrow/16.0.0: 587 files, 116.2MB\n",
      "\u001b[34m==>\u001b[0m \u001b[1mRunning `brew cleanup apache-arrow`...\u001b[0m\n",
      "Removing: /opt/homebrew/Cellar/apache-arrow/15.0.2_1... (587 files, 115.2MB)\n",
      "Removing: /Users/Bartek/Library/Caches/Homebrew/apache-arrow_bottle_manifest--15.0.2_1... (37.1KB)\n",
      "Removing: /Users/Bartek/Library/Caches/Homebrew/apache-arrow--15.0.2_1... (25.0MB)\n",
      "\u001b[32m==>\u001b[0m \u001b[1mUpgrading \u001b[32mqemu\u001b[39m\u001b[0m\n",
      "  8.2.1 -> 9.0.0 \n",
      "\u001b[34m==>\u001b[0m \u001b[1mPouring qemu--9.0.0.arm64_sonoma.bottle.tar.gz\u001b[0m\n",
      "🍺  /opt/homebrew/Cellar/qemu/9.0.0: 163 files, 577.4MB\n",
      "\u001b[34m==>\u001b[0m \u001b[1mRunning `brew cleanup qemu`...\u001b[0m\n",
      "Removing: /opt/homebrew/Cellar/qemu/8.2.1... (162 files, 562MB)\n",
      "Removing: /Users/Bartek/Library/Caches/Homebrew/qemu_bottle_manifest--8.2.1... (42.3KB)\n",
      "Removing: /Users/Bartek/Library/Caches/Homebrew/qemu--8.2.1... (102MB)\n",
      "\u001b[32m==>\u001b[0m \u001b[1mUpgrading \u001b[32mdvc\u001b[39m\u001b[0m\n",
      "  3.49.0_1 -> 3.50.0_1 \n",
      "\u001b[34m==>\u001b[0m \u001b[1mPouring dvc--3.50.0_1.arm64_sonoma.bottle.tar.gz\u001b[0m\n",
      "\u001b[34m==>\u001b[0m \u001b[1mCaveats\u001b[0m\n",
      "zsh completions have been installed to:\n",
      "  /opt/homebrew/share/zsh/site-functions\n",
      "\u001b[34m==>\u001b[0m \u001b[1mSummary\u001b[0m\n",
      "🍺  /opt/homebrew/Cellar/dvc/3.50.0_1: 10,106 files, 247.8MB\n",
      "\u001b[34m==>\u001b[0m \u001b[1mRunning `brew cleanup dvc`...\u001b[0m\n",
      "Removing: /opt/homebrew/Cellar/dvc/3.49.0_1... (11,175 files, 258.8MB)\n",
      "Removing: /Users/Bartek/Library/Caches/Homebrew/dvc_bottle_manifest--3.49.0_1... (53.0KB)\n",
      "Removing: /Users/Bartek/Library/Caches/Homebrew/dvc--3.49.0_1... (42.4MB)\n",
      "\u001b[32m==>\u001b[0m \u001b[1mChecking for dependents of upgraded formulae...\u001b[0m\n",
      "\u001b[34m==>\u001b[0m \u001b[1mNo broken dependents to reinstall!\u001b[0m\n",
      "\u001b[32m==>\u001b[0m \u001b[1mCaveats\u001b[0m\n",
      "\u001b[34m==>\u001b[0m \u001b[1mdvc\u001b[0m\n",
      "zsh completions have been installed to:\n",
      "  /opt/homebrew/share/zsh/site-functions\n"
     ]
    }
   ],
   "source": [
    "! brew install graphviz"
   ]
  },
  {
   "cell_type": "code",
   "execution_count": 20,
   "metadata": {},
   "outputs": [],
   "source": [
    "! dot -Tpng iris_dtree.dot -o iris_dtree.png"
   ]
  },
  {
   "cell_type": "code",
   "execution_count": null,
   "metadata": {},
   "outputs": [],
   "source": []
  }
 ],
 "metadata": {
  "kernelspec": {
   "display_name": "venv",
   "language": "python",
   "name": "python3"
  },
  "language_info": {
   "codemirror_mode": {
    "name": "ipython",
    "version": 3
   },
   "file_extension": ".py",
   "mimetype": "text/x-python",
   "name": "python",
   "nbconvert_exporter": "python",
   "pygments_lexer": "ipython3",
   "version": "3.11.8"
  }
 },
 "nbformat": 4,
 "nbformat_minor": 2
}
