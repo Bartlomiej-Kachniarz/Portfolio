{
 "cells": [
  {
   "cell_type": "markdown",
   "metadata": {},
   "source": [
    "# NLTK sentiment analysis"
   ]
  },
  {
   "cell_type": "markdown",
   "metadata": {},
   "source": [
    "## Importing and looking through datasets"
   ]
  },
  {
   "cell_type": "code",
   "execution_count": 1,
   "metadata": {},
   "outputs": [],
   "source": [
    "import mlflow\n",
    "mlflow.autolog()"
   ]
  },
  {
   "cell_type": "code",
   "execution_count": 2,
   "metadata": {},
   "outputs": [
    {
     "name": "stderr",
     "output_type": "stream",
     "text": [
      "2023/08/17 22:29:20 INFO mlflow.tracking.fluent: Autologging successfully enabled for sklearn.\n",
      "[nltk_data] Downloading package names to /Users/Bartek/nltk_data...\n",
      "[nltk_data]   Package names is already up-to-date!\n",
      "[nltk_data] Downloading package stopwords to\n",
      "[nltk_data]     /Users/Bartek/nltk_data...\n",
      "[nltk_data]   Package stopwords is already up-to-date!\n",
      "[nltk_data] Downloading package state_union to\n",
      "[nltk_data]     /Users/Bartek/nltk_data...\n",
      "[nltk_data]   Package state_union is already up-to-date!\n",
      "[nltk_data] Downloading package twitter_samples to\n",
      "[nltk_data]     /Users/Bartek/nltk_data...\n",
      "[nltk_data]   Package twitter_samples is already up-to-date!\n",
      "[nltk_data] Downloading package movie_reviews to\n",
      "[nltk_data]     /Users/Bartek/nltk_data...\n",
      "[nltk_data]   Package movie_reviews is already up-to-date!\n",
      "[nltk_data] Downloading package averaged_perceptron_tagger to\n",
      "[nltk_data]     /Users/Bartek/nltk_data...\n",
      "[nltk_data]   Package averaged_perceptron_tagger is already up-to-\n",
      "[nltk_data]       date!\n",
      "[nltk_data] Downloading package vader_lexicon to\n",
      "[nltk_data]     /Users/Bartek/nltk_data...\n",
      "[nltk_data]   Package vader_lexicon is already up-to-date!\n",
      "[nltk_data] Downloading package punkt to /Users/Bartek/nltk_data...\n",
      "[nltk_data]   Package punkt is already up-to-date!\n"
     ]
    },
    {
     "data": {
      "text/plain": [
       "True"
      ]
     },
     "execution_count": 2,
     "metadata": {},
     "output_type": "execute_result"
    }
   ],
   "source": [
    "import nltk\n",
    "nltk.download([\n",
    "    \"names\",\n",
    "    \"stopwords\",\n",
    "    \"state_union\",\n",
    "    \"twitter_samples\",\n",
    "    \"movie_reviews\",\n",
    "    \"averaged_perceptron_tagger\",\n",
    "    \"vader_lexicon\",\n",
    "    \"punkt\"\n",
    "    ])"
   ]
  },
  {
   "cell_type": "code",
   "execution_count": 3,
   "metadata": {},
   "outputs": [],
   "source": [
    "su_words = [w for w in nltk.corpus.state_union.words() if w.isalpha()] #only words made from letters"
   ]
  },
  {
   "cell_type": "code",
   "execution_count": 4,
   "metadata": {},
   "outputs": [
    {
     "data": {
      "text/plain": [
       "['PRESIDENT',\n",
       " 'HARRY',\n",
       " 'S',\n",
       " 'TRUMAN',\n",
       " 'S',\n",
       " 'ADDRESS',\n",
       " 'BEFORE',\n",
       " 'A',\n",
       " 'JOINT',\n",
       " 'SESSION']"
      ]
     },
     "execution_count": 4,
     "metadata": {},
     "output_type": "execute_result"
    }
   ],
   "source": [
    "su_words[:10]"
   ]
  },
  {
   "cell_type": "code",
   "execution_count": 5,
   "metadata": {},
   "outputs": [],
   "source": [
    "stopwords = nltk.corpus.stopwords.words(\"english\") # to filter out words like \"a\" \"of\", \"the\""
   ]
  },
  {
   "cell_type": "code",
   "execution_count": 6,
   "metadata": {},
   "outputs": [],
   "source": [
    "su_words = [w for w in su_words if w.lower() not in stopwords]"
   ]
  },
  {
   "cell_type": "code",
   "execution_count": 7,
   "metadata": {},
   "outputs": [
    {
     "data": {
      "text/plain": [
       "['PRESIDENT',\n",
       " 'HARRY',\n",
       " 'TRUMAN',\n",
       " 'ADDRESS',\n",
       " 'JOINT',\n",
       " 'SESSION',\n",
       " 'CONGRESS',\n",
       " 'April',\n",
       " 'Mr',\n",
       " 'Speaker']"
      ]
     },
     "execution_count": 7,
     "metadata": {},
     "output_type": "execute_result"
    }
   ],
   "source": [
    "su_words[:10]"
   ]
  },
  {
   "cell_type": "code",
   "execution_count": 8,
   "metadata": {},
   "outputs": [],
   "source": [
    "from pprint import pprint\n",
    "\n",
    "decl_of_indep_text = \"\"\"\n",
    "The unanimous Declaration of the thirteen united States of America, When in the Course of human events, it becomes necessary for one people to dissolve the political bands which have connected them with another, and to assume among the powers of the earth, the separate and equal station to which the Laws of Nature and of Nature's God entitle them, a decent respect to the opinions of mankind requires that they should declare the causes which impel them to the separation.\n",
    "We hold these truths to be self-evident, that all men are created equal, that they are endowed by their Creator with certain unalienable Rights, that among these are Life, Liberty and the pursuit of Happiness.--That to secure these rights, Governments are instituted among Men, deriving their just powers from the consent of the governed, --That whenever any Form of Government becomes destructive of these ends, it is the Right of the People to alter or to abolish it, and to institute new Government, laying its foundation on such principles and organizing its powers in such form, as to them shall seem most likely to effect their Safety and Happiness. Prudence, indeed, will dictate that Governments long established should not be changed for light and transient causes; and accordingly all experience hath shewn, that mankind are more disposed to suffer, while evils are sufferable, than to right themselves by abolishing the forms to which they are accustomed. But when a long train of abuses and usurpations, pursuing invariably the same Object evinces a design to reduce them under absolute Despotism, it is their right, it is their duty, to throw off such Government, and to provide new Guards for their future security.--Such has been the patient sufferance of these Colonies; and such is now the necessity which constrains them to alter their former Systems of Government. The history of the present King of Great Britain is a history of repeated injuries and usurpations, all having in direct object the establishment of an absolute Tyranny over these States. To prove this, let Facts be submitted to a candid world.\n",
    "He has refused his Assent to Laws, the most wholesome and necessary for the public good.\n",
    "He has forbidden his Governors to pass Laws of immediate and pressing importance, unless suspended in their operation till his Assent should be obtained; and when so suspended, he has utterly neglected to attend to them.\n",
    "He has refused to pass other Laws for the accommodation of large districts of people, unless those people would relinquish the right of Representation in the Legislature, a right inestimable to them and formidable to tyrants only.\n",
    "He has called together legislative bodies at places unusual, uncomfortable, and distant from the depository of their public Records, for the sole purpose of fatiguing them into compliance with his measures.\n",
    "He has dissolved Representative Houses repeatedly, for opposing with manly firmness his invasions on the rights of the people.\n",
    "He has refused for a long time, after such dissolutions, to cause others to be elected; whereby the Legislative powers, incapable of Annihilation, have returned to the People at large for their exercise; the State remaining in the mean time exposed to all the dangers of invasion from without, and convulsions within.\n",
    "He has endeavoured to prevent the population of these States; for that purpose obstructing the Laws for Naturalization of Foreigners; refusing to pass others to encourage their migrations hither, and raising the conditions of new Appropriations of Lands.\n",
    "He has obstructed the Administration of Justice, by refusing his Assent to Laws for establishing Judiciary powers.\n",
    "He has made Judges dependent on his Will alone, for the tenure of their offices, and the amount and payment of their salaries.\n",
    "He has erected a multitude of New Offices, and sent hither swarms of Officers to harrass our people, and eat out their substance.\n",
    "He has kept among us, in times of peace, Standing Armies without the Consent of our legislatures.\n",
    "He has affected to render the Military independent of and superior to the Civil power.\n",
    "He has combined with others to subject us to a jurisdiction foreign to our constitution, and unacknowledged by our laws; giving his Assent to their Acts of pretended Legislation:\n",
    "For Quartering large bodies of armed troops among us:\n",
    "For protecting them, by a mock Trial, from punishment for any Murders which they should commit on the Inhabitants of these States:\n",
    "For cutting off our Trade with all parts of the world:\n",
    "For imposing Taxes on us without our Consent:\n",
    "For depriving us in many cases, of the benefits of Trial by Jury:\n",
    "For transporting us beyond Seas to be tried for pretended offences\n",
    "For abolishing the free System of English Laws in a neighbouring Province, establishing therein an Arbitrary government, and enlarging its Boundaries so as to render it at once an example and fit instrument for introducing the same absolute rule into these Colonies:\n",
    "For taking away our Charters, abolishing our most valuable Laws, and altering fundamentally the Forms of our Governments:\n",
    "For suspending our own Legislatures, and declaring themselves invested with power to legislate for us in all cases whatsoever.\n",
    "He has abdicated Government here, by declaring us out of his Protection and waging War against us.\n",
    "He has plundered our seas, ravaged our Coasts, burnt our towns, and destroyed the lives of our people.\n",
    "He is at this time transporting large Armies of foreign Mercenaries to compleat the works of death, desolation and tyranny, already begun with circumstances of Cruelty & perfidy scarcely paralleled in the most barbarous ages, and totally unworthy the Head of a civilized nation.\n",
    "He has constrained our fellow Citizens taken Captive on the high Seas to bear Arms against their Country, to become the executioners of their friends and Brethren, or to fall themselves by their Hands.\n",
    "He has excited domestic insurrections amongst us, and has endeavoured to bring on the inhabitants of our frontiers, the merciless Indian Savages, whose known rule of warfare, is an undistinguished destruction of all ages, sexes and conditions.\n",
    "In every stage of these Oppressions We have Petitioned for Redress in the most humble terms: Our repeated Petitions have been answered only by repeated injury. A Prince whose character is thus marked by every act which may define a Tyrant, is unfit to be the ruler of a free people.\n",
    "Nor have We been wanting in attentions to our Brittish brethren. We have warned them from time to time of attempts by their legislature to extend an unwarrantable jurisdiction over us. We have reminded them of the circumstances of our emigration and settlement here. We have appealed to their native justice and magnanimity, and we have conjured them by the ties of our common kindred to disavow these usurpations, which, would inevitably interrupt our connections and correspondence. They too have been deaf to the voice of justice and of consanguinity. We must, therefore, acquiesce in the necessity, which denounces our Separation, and hold them, as we hold the rest of mankind, Enemies in War, in Peace Friends.\n",
    "We, therefore, the Representatives of the united States of America, in General Congress, Assembled, appealing to the Supreme Judge of the world for the rectitude of our intentions, do, in the Name, and by Authority of the good People of these Colonies, solemnly publish and declare, That these United Colonies are, and of Right ought to be Free and Independent States; that they are Absolved from all Allegiance to the British Crown, and that all political connection between them and the State of Great Britain, is and ought to be totally dissolved; and that as Free and Independent States, they have full Power to levy War, conclude Peace, contract Alliances, establish Commerce, and to do all other Acts and Things which Independent States may of right do. And for the support of this Declaration, with a firm reliance on the protection of divine Providence, we mutually pledge to each other our Lives, our Fortunes and our sacred Honor.\n",
    "\"\"\""
   ]
  },
  {
   "cell_type": "markdown",
   "metadata": {},
   "source": [
    "## Tokenization and frequency distributions"
   ]
  },
  {
   "cell_type": "code",
   "execution_count": 9,
   "metadata": {},
   "outputs": [
    {
     "name": "stdout",
     "output_type": "stream",
     "text": [
      "['The', 'unanimous', 'Declaration', 'of', 'the', 'thirteen', 'united',\n",
      " 'States', 'of', 'America', ',', 'When', 'in', 'the', 'Course', 'of', 'human',\n",
      " 'events', ',', 'it', 'becomes', 'necessary', 'for', 'one', 'people', 'to',\n",
      " 'dissolve', 'the', 'political', 'bands', 'which', 'have', 'connected', 'them',\n",
      " 'with', 'another', ',', 'and', 'to', 'assume', 'among', 'the', 'powers', 'of',\n",
      " 'the', 'earth', ',', 'the', 'separate', 'and', 'equal', 'station', 'to',\n",
      " 'which', 'the', 'Laws', 'of', 'Nature', 'and', 'of', 'Nature', \"'s\", 'God',\n",
      " 'entitle', 'them', ',', 'a', 'decent', 'respect', 'to', 'the', 'opinions',\n",
      " 'of', 'mankind', 'requires', 'that', 'they', 'should', 'declare', 'the',\n",
      " 'causes', 'which', 'impel', 'them', 'to', 'the', 'separation', '.', 'We',\n",
      " 'hold', 'these', 'truths', 'to', 'be', 'self-evident', ',', 'that', 'all',\n",
      " 'men', 'are', 'created', 'equal', ',', 'that', 'they', 'are', 'endowed', 'by',\n",
      " 'their', 'Creator', 'with', 'certain', 'unalienable', 'Rights', ',', 'that',\n",
      " 'among', 'these', 'are', 'Life', ',', 'Liberty', 'and', 'the', 'pursuit',\n",
      " 'of', 'Happiness.', '--', 'That', 'to', 'secure', 'these', 'rights', ',',\n",
      " 'Governments', 'are', 'instituted', 'among', 'Men', ',', 'deriving', 'their',\n",
      " 'just', 'powers', 'from', 'the', 'consent', 'of', 'the', 'governed', ',',\n",
      " '--', 'That', 'whenever', 'any', 'Form', 'of', 'Government', 'becomes',\n",
      " 'destructive', 'of', 'these', 'ends', ',', 'it', 'is', 'the', 'Right', 'of',\n",
      " 'the', 'People', 'to', 'alter', 'or', 'to', 'abolish', 'it', ',', 'and', 'to',\n",
      " 'institute', 'new', 'Government', ',', 'laying', 'its', 'foundation', 'on',\n",
      " 'such', 'principles', 'and', 'organizing', 'its', 'powers', 'in', 'such',\n",
      " 'form', ',', 'as', 'to', 'them', 'shall', 'seem', 'most', 'likely', 'to',\n",
      " 'effect', 'their', 'Safety', 'and', 'Happiness', '.', 'Prudence', ',',\n",
      " 'indeed', ',', 'will', 'dictate', 'that', 'Governments', 'long',\n",
      " 'established', 'should', 'not', 'be', 'changed', 'for', 'light', 'and',\n",
      " 'transient', 'causes', ';', 'and', 'accordingly', 'all', 'experience', 'hath',\n",
      " 'shewn', ',', 'that', 'mankind', 'are', 'more', 'disposed', 'to', 'suffer',\n",
      " ',', 'while', 'evils', 'are', 'sufferable', ',', 'than', 'to', 'right',\n",
      " 'themselves', 'by', 'abolishing', 'the', 'forms', 'to', 'which', 'they',\n",
      " 'are', 'accustomed', '.', 'But', 'when', 'a', 'long', 'train', 'of', 'abuses',\n",
      " 'and', 'usurpations', ',', 'pursuing', 'invariably', 'the', 'same', 'Object',\n",
      " 'evinces', 'a', 'design', 'to', 'reduce', 'them', 'under', 'absolute',\n",
      " 'Despotism', ',', 'it', 'is', 'their', 'right', ',', 'it', 'is', 'their',\n",
      " 'duty', ',', 'to', 'throw', 'off', 'such', 'Government', ',', 'and', 'to',\n",
      " 'provide', 'new', 'Guards', 'for', 'their', 'future', 'security.', '--',\n",
      " 'Such', 'has', 'been', 'the', 'patient', 'sufferance', 'of', 'these',\n",
      " 'Colonies', ';', 'and', 'such', 'is', 'now', 'the', 'necessity', 'which',\n",
      " 'constrains', 'them', 'to', 'alter', 'their', 'former', 'Systems', 'of',\n",
      " 'Government', '.', 'The', 'history', 'of', 'the', 'present', 'King', 'of',\n",
      " 'Great', 'Britain', 'is', 'a', 'history', 'of', 'repeated', 'injuries', 'and',\n",
      " 'usurpations', ',', 'all', 'having', 'in', 'direct', 'object', 'the',\n",
      " 'establishment', 'of', 'an', 'absolute', 'Tyranny', 'over', 'these', 'States',\n",
      " '.', 'To', 'prove', 'this', ',', 'let', 'Facts', 'be', 'submitted', 'to', 'a',\n",
      " 'candid', 'world', '.', 'He', 'has', 'refused', 'his', 'Assent', 'to', 'Laws',\n",
      " ',', 'the', 'most', 'wholesome', 'and', 'necessary', 'for', 'the', 'public',\n",
      " 'good', '.', 'He', 'has', 'forbidden', 'his', 'Governors', 'to', 'pass',\n",
      " 'Laws', 'of', 'immediate', 'and', 'pressing', 'importance', ',', 'unless',\n",
      " 'suspended', 'in', 'their', 'operation', 'till', 'his', 'Assent', 'should',\n",
      " 'be', 'obtained', ';', 'and', 'when', 'so', 'suspended', ',', 'he', 'has',\n",
      " 'utterly', 'neglected', 'to', 'attend', 'to', 'them', '.', 'He', 'has',\n",
      " 'refused', 'to', 'pass', 'other', 'Laws', 'for', 'the', 'accommodation', 'of',\n",
      " 'large', 'districts', 'of', 'people', ',', 'unless', 'those', 'people',\n",
      " 'would', 'relinquish', 'the', 'right', 'of', 'Representation', 'in', 'the',\n",
      " 'Legislature', ',', 'a', 'right', 'inestimable', 'to', 'them', 'and',\n",
      " 'formidable', 'to', 'tyrants', 'only', '.', 'He', 'has', 'called', 'together',\n",
      " 'legislative', 'bodies', 'at', 'places', 'unusual', ',', 'uncomfortable', ',',\n",
      " 'and', 'distant', 'from', 'the', 'depository', 'of', 'their', 'public',\n",
      " 'Records', ',', 'for', 'the', 'sole', 'purpose', 'of', 'fatiguing', 'them',\n",
      " 'into', 'compliance', 'with', 'his', 'measures', '.', 'He', 'has',\n",
      " 'dissolved', 'Representative', 'Houses', 'repeatedly', ',', 'for', 'opposing',\n",
      " 'with', 'manly', 'firmness', 'his', 'invasions', 'on', 'the', 'rights', 'of',\n",
      " 'the', 'people', '.', 'He', 'has', 'refused', 'for', 'a', 'long', 'time', ',',\n",
      " 'after', 'such', 'dissolutions', ',', 'to', 'cause', 'others', 'to', 'be',\n",
      " 'elected', ';', 'whereby', 'the', 'Legislative', 'powers', ',', 'incapable',\n",
      " 'of', 'Annihilation', ',', 'have', 'returned', 'to', 'the', 'People', 'at',\n",
      " 'large', 'for', 'their', 'exercise', ';', 'the', 'State', 'remaining', 'in',\n",
      " 'the', 'mean', 'time', 'exposed', 'to', 'all', 'the', 'dangers', 'of',\n",
      " 'invasion', 'from', 'without', ',', 'and', 'convulsions', 'within', '.', 'He',\n",
      " 'has', 'endeavoured', 'to', 'prevent', 'the', 'population', 'of', 'these',\n",
      " 'States', ';', 'for', 'that', 'purpose', 'obstructing', 'the', 'Laws', 'for',\n",
      " 'Naturalization', 'of', 'Foreigners', ';', 'refusing', 'to', 'pass', 'others',\n",
      " 'to', 'encourage', 'their', 'migrations', 'hither', ',', 'and', 'raising',\n",
      " 'the', 'conditions', 'of', 'new', 'Appropriations', 'of', 'Lands', '.', 'He',\n",
      " 'has', 'obstructed', 'the', 'Administration', 'of', 'Justice', ',', 'by',\n",
      " 'refusing', 'his', 'Assent', 'to', 'Laws', 'for', 'establishing', 'Judiciary',\n",
      " 'powers', '.', 'He', 'has', 'made', 'Judges', 'dependent', 'on', 'his',\n",
      " 'Will', 'alone', ',', 'for', 'the', 'tenure', 'of', 'their', 'offices', ',',\n",
      " 'and', 'the', 'amount', 'and', 'payment', 'of', 'their', 'salaries', '.',\n",
      " 'He', 'has', 'erected', 'a', 'multitude', 'of', 'New', 'Offices', ',', 'and',\n",
      " 'sent', 'hither', 'swarms', 'of', 'Officers', 'to', 'harrass', 'our',\n",
      " 'people', ',', 'and', 'eat', 'out', 'their', 'substance', '.', 'He', 'has',\n",
      " 'kept', 'among', 'us', ',', 'in', 'times', 'of', 'peace', ',', 'Standing',\n",
      " 'Armies', 'without', 'the', 'Consent', 'of', 'our', 'legislatures', '.', 'He',\n",
      " 'has', 'affected', 'to', 'render', 'the', 'Military', 'independent', 'of',\n",
      " 'and', 'superior', 'to', 'the', 'Civil', 'power', '.', 'He', 'has',\n",
      " 'combined', 'with', 'others', 'to', 'subject', 'us', 'to', 'a',\n",
      " 'jurisdiction', 'foreign', 'to', 'our', 'constitution', ',', 'and',\n",
      " 'unacknowledged', 'by', 'our', 'laws', ';', 'giving', 'his', 'Assent', 'to',\n",
      " 'their', 'Acts', 'of', 'pretended', 'Legislation', ':', 'For', 'Quartering',\n",
      " 'large', 'bodies', 'of', 'armed', 'troops', 'among', 'us', ':', 'For',\n",
      " 'protecting', 'them', ',', 'by', 'a', 'mock', 'Trial', ',', 'from',\n",
      " 'punishment', 'for', 'any', 'Murders', 'which', 'they', 'should', 'commit',\n",
      " 'on', 'the', 'Inhabitants', 'of', 'these', 'States', ':', 'For', 'cutting',\n",
      " 'off', 'our', 'Trade', 'with', 'all', 'parts', 'of', 'the', 'world', ':',\n",
      " 'For', 'imposing', 'Taxes', 'on', 'us', 'without', 'our', 'Consent', ':',\n",
      " 'For', 'depriving', 'us', 'in', 'many', 'cases', ',', 'of', 'the', 'benefits',\n",
      " 'of', 'Trial', 'by', 'Jury', ':', 'For', 'transporting', 'us', 'beyond',\n",
      " 'Seas', 'to', 'be', 'tried', 'for', 'pretended', 'offences', 'For',\n",
      " 'abolishing', 'the', 'free', 'System', 'of', 'English', 'Laws', 'in', 'a',\n",
      " 'neighbouring', 'Province', ',', 'establishing', 'therein', 'an', 'Arbitrary',\n",
      " 'government', ',', 'and', 'enlarging', 'its', 'Boundaries', 'so', 'as', 'to',\n",
      " 'render', 'it', 'at', 'once', 'an', 'example', 'and', 'fit', 'instrument',\n",
      " 'for', 'introducing', 'the', 'same', 'absolute', 'rule', 'into', 'these',\n",
      " 'Colonies', ':', 'For', 'taking', 'away', 'our', 'Charters', ',',\n",
      " 'abolishing', 'our', 'most', 'valuable', 'Laws', ',', 'and', 'altering',\n",
      " 'fundamentally', 'the', 'Forms', 'of', 'our', 'Governments', ':', 'For',\n",
      " 'suspending', 'our', 'own', 'Legislatures', ',', 'and', 'declaring',\n",
      " 'themselves', 'invested', 'with', 'power', 'to', 'legislate', 'for', 'us',\n",
      " 'in', 'all', 'cases', 'whatsoever', '.', 'He', 'has', 'abdicated',\n",
      " 'Government', 'here', ',', 'by', 'declaring', 'us', 'out', 'of', 'his',\n",
      " 'Protection', 'and', 'waging', 'War', 'against', 'us', '.', 'He', 'has',\n",
      " 'plundered', 'our', 'seas', ',', 'ravaged', 'our', 'Coasts', ',', 'burnt',\n",
      " 'our', 'towns', ',', 'and', 'destroyed', 'the', 'lives', 'of', 'our',\n",
      " 'people', '.', 'He', 'is', 'at', 'this', 'time', 'transporting', 'large',\n",
      " 'Armies', 'of', 'foreign', 'Mercenaries', 'to', 'compleat', 'the', 'works',\n",
      " 'of', 'death', ',', 'desolation', 'and', 'tyranny', ',', 'already', 'begun',\n",
      " 'with', 'circumstances', 'of', 'Cruelty', '&', 'perfidy', 'scarcely',\n",
      " 'paralleled', 'in', 'the', 'most', 'barbarous', 'ages', ',', 'and', 'totally',\n",
      " 'unworthy', 'the', 'Head', 'of', 'a', 'civilized', 'nation', '.', 'He', 'has',\n",
      " 'constrained', 'our', 'fellow', 'Citizens', 'taken', 'Captive', 'on', 'the',\n",
      " 'high', 'Seas', 'to', 'bear', 'Arms', 'against', 'their', 'Country', ',',\n",
      " 'to', 'become', 'the', 'executioners', 'of', 'their', 'friends', 'and',\n",
      " 'Brethren', ',', 'or', 'to', 'fall', 'themselves', 'by', 'their', 'Hands',\n",
      " '.', 'He', 'has', 'excited', 'domestic', 'insurrections', 'amongst', 'us',\n",
      " ',', 'and', 'has', 'endeavoured', 'to', 'bring', 'on', 'the', 'inhabitants',\n",
      " 'of', 'our', 'frontiers', ',', 'the', 'merciless', 'Indian', 'Savages', ',',\n",
      " 'whose', 'known', 'rule', 'of', 'warfare', ',', 'is', 'an', 'undistinguished',\n",
      " 'destruction', 'of', 'all', 'ages', ',', 'sexes', 'and', 'conditions', '.',\n",
      " 'In', 'every', 'stage', 'of', 'these', 'Oppressions', 'We', 'have',\n",
      " 'Petitioned', 'for', 'Redress', 'in', 'the', 'most', 'humble', 'terms', ':',\n",
      " 'Our', 'repeated', 'Petitions', 'have', 'been', 'answered', 'only', 'by',\n",
      " 'repeated', 'injury', '.', 'A', 'Prince', 'whose', 'character', 'is', 'thus',\n",
      " 'marked', 'by', 'every', 'act', 'which', 'may', 'define', 'a', 'Tyrant', ',',\n",
      " 'is', 'unfit', 'to', 'be', 'the', 'ruler', 'of', 'a', 'free', 'people', '.',\n",
      " 'Nor', 'have', 'We', 'been', 'wanting', 'in', 'attentions', 'to', 'our',\n",
      " 'Brittish', 'brethren', '.', 'We', 'have', 'warned', 'them', 'from', 'time',\n",
      " 'to', 'time', 'of', 'attempts', 'by', 'their', 'legislature', 'to', 'extend',\n",
      " 'an', 'unwarrantable', 'jurisdiction', 'over', 'us', '.', 'We', 'have',\n",
      " 'reminded', 'them', 'of', 'the', 'circumstances', 'of', 'our', 'emigration',\n",
      " 'and', 'settlement', 'here', '.', 'We', 'have', 'appealed', 'to', 'their',\n",
      " 'native', 'justice', 'and', 'magnanimity', ',', 'and', 'we', 'have',\n",
      " 'conjured', 'them', 'by', 'the', 'ties', 'of', 'our', 'common', 'kindred',\n",
      " 'to', 'disavow', 'these', 'usurpations', ',', 'which', ',', 'would',\n",
      " 'inevitably', 'interrupt', 'our', 'connections', 'and', 'correspondence', '.',\n",
      " 'They', 'too', 'have', 'been', 'deaf', 'to', 'the', 'voice', 'of', 'justice',\n",
      " 'and', 'of', 'consanguinity', '.', 'We', 'must', ',', 'therefore', ',',\n",
      " 'acquiesce', 'in', 'the', 'necessity', ',', 'which', 'denounces', 'our',\n",
      " 'Separation', ',', 'and', 'hold', 'them', ',', 'as', 'we', 'hold', 'the',\n",
      " 'rest', 'of', 'mankind', ',', 'Enemies', 'in', 'War', ',', 'in', 'Peace',\n",
      " 'Friends', '.', 'We', ',', 'therefore', ',', 'the', 'Representatives', 'of',\n",
      " 'the', 'united', 'States', 'of', 'America', ',', 'in', 'General', 'Congress',\n",
      " ',', 'Assembled', ',', 'appealing', 'to', 'the', 'Supreme', 'Judge', 'of',\n",
      " 'the', 'world', 'for', 'the', 'rectitude', 'of', 'our', 'intentions', ',',\n",
      " 'do', ',', 'in', 'the', 'Name', ',', 'and', 'by', 'Authority', 'of', 'the',\n",
      " 'good', 'People', 'of', 'these', 'Colonies', ',', 'solemnly', 'publish',\n",
      " 'and', 'declare', ',', 'That', 'these', 'United', 'Colonies', 'are', ',',\n",
      " 'and', 'of', 'Right', 'ought', 'to', 'be', 'Free', 'and', 'Independent',\n",
      " 'States', ';', 'that', 'they', 'are', 'Absolved', 'from', 'all', 'Allegiance',\n",
      " 'to', 'the', 'British', 'Crown', ',', 'and', 'that', 'all', 'political',\n",
      " 'connection', 'between', 'them', 'and', 'the', 'State', 'of', 'Great',\n",
      " 'Britain', ',', 'is', 'and', 'ought', 'to', 'be', 'totally', 'dissolved', ';',\n",
      " 'and', 'that', 'as', 'Free', 'and', 'Independent', 'States', ',', 'they',\n",
      " 'have', 'full', 'Power', 'to', 'levy', 'War', ',', 'conclude', 'Peace', ',',\n",
      " 'contract', 'Alliances', ',', 'establish', 'Commerce', ',', 'and', 'to', 'do',\n",
      " 'all', 'other', 'Acts', 'and', 'Things', 'which', 'Independent', 'States',\n",
      " 'may', 'of', 'right', 'do', '.', 'And', 'for', 'the', 'support', 'of', 'this',\n",
      " 'Declaration', ',', 'with', 'a', 'firm', 'reliance', 'on', 'the',\n",
      " 'protection', 'of', 'divine', 'Providence', ',', 'we', 'mutually', 'pledge',\n",
      " 'to', 'each', 'other', 'our', 'Lives', ',', 'our', 'Fortunes', 'and', 'our',\n",
      " 'sacred', 'Honor', '.']\n"
     ]
    }
   ],
   "source": [
    "pprint(nltk.word_tokenize(decl_of_indep_text), width=79, compact=True)\n",
    "\n",
    "text_tokenized = nltk.word_tokenize(decl_of_indep_text)"
   ]
  },
  {
   "cell_type": "code",
   "execution_count": 10,
   "metadata": {},
   "outputs": [
    {
     "data": {
      "text/plain": [
       "['The',\n",
       " 'unanimous',\n",
       " 'Declaration',\n",
       " 'of',\n",
       " 'the',\n",
       " 'thirteen',\n",
       " 'united',\n",
       " 'States',\n",
       " 'of',\n",
       " 'America']"
      ]
     },
     "execution_count": 10,
     "metadata": {},
     "output_type": "execute_result"
    }
   ],
   "source": [
    "text_tokenized[:10]"
   ]
  },
  {
   "cell_type": "code",
   "execution_count": 11,
   "metadata": {},
   "outputs": [],
   "source": [
    "text = [w for w in text_tokenized if w.lower() not in stopwords]\n",
    "text = [w for w in text if w.isalpha()]"
   ]
  },
  {
   "cell_type": "code",
   "execution_count": 12,
   "metadata": {},
   "outputs": [
    {
     "data": {
      "text/plain": [
       "['unanimous',\n",
       " 'Declaration',\n",
       " 'thirteen',\n",
       " 'united',\n",
       " 'States',\n",
       " 'America',\n",
       " 'Course',\n",
       " 'human',\n",
       " 'events',\n",
       " 'becomes']"
      ]
     },
     "execution_count": 12,
     "metadata": {},
     "output_type": "execute_result"
    }
   ],
   "source": [
    "text[:10]"
   ]
  },
  {
   "cell_type": "code",
   "execution_count": 13,
   "metadata": {},
   "outputs": [],
   "source": [
    "fd_decl_of_indep = nltk.FreqDist(text)\n",
    "fd_su_words = nltk.FreqDist(su_words)"
   ]
  },
  {
   "cell_type": "code",
   "execution_count": 14,
   "metadata": {},
   "outputs": [
    {
     "data": {
      "text/plain": [
       "[('us', 11),\n",
       " ('States', 8),\n",
       " ('Laws', 8),\n",
       " ('people', 7),\n",
       " ('among', 5),\n",
       " ('powers', 5),\n",
       " ('Government', 5),\n",
       " ('right', 5),\n",
       " ('time', 5),\n",
       " ('Colonies', 4)]"
      ]
     },
     "execution_count": 14,
     "metadata": {},
     "output_type": "execute_result"
    }
   ],
   "source": [
    "fd_decl_of_indep.most_common()[:10]"
   ]
  },
  {
   "cell_type": "code",
   "execution_count": 15,
   "metadata": {},
   "outputs": [
    {
     "data": {
      "text/plain": [
       "[('must', 1568),\n",
       " ('people', 1291),\n",
       " ('world', 1128),\n",
       " ('year', 1097),\n",
       " ('America', 1076),\n",
       " ('us', 1049),\n",
       " ('new', 1049),\n",
       " ('Congress', 1014),\n",
       " ('years', 827),\n",
       " ('American', 784)]"
      ]
     },
     "execution_count": 15,
     "metadata": {},
     "output_type": "execute_result"
    }
   ],
   "source": [
    "fd_su_words.most_common()[:10]"
   ]
  },
  {
   "cell_type": "code",
   "execution_count": 16,
   "metadata": {},
   "outputs": [
    {
     "data": {
      "text/plain": [
       "1076"
      ]
     },
     "execution_count": 16,
     "metadata": {},
     "output_type": "execute_result"
    }
   ],
   "source": [
    "fd_su_words[\"America\"]"
   ]
  },
  {
   "cell_type": "code",
   "execution_count": 17,
   "metadata": {},
   "outputs": [
    {
     "data": {
      "text/plain": [
       "0"
      ]
     },
     "execution_count": 17,
     "metadata": {},
     "output_type": "execute_result"
    }
   ],
   "source": [
    "fd_su_words[\"america\"] # no KeyError raised here"
   ]
  },
  {
   "cell_type": "code",
   "execution_count": 18,
   "metadata": {},
   "outputs": [
    {
     "data": {
      "text/plain": [
       "3"
      ]
     },
     "execution_count": 18,
     "metadata": {},
     "output_type": "execute_result"
    }
   ],
   "source": [
    "fd_su_words[\"AMERICA\"]"
   ]
  },
  {
   "cell_type": "code",
   "execution_count": 19,
   "metadata": {},
   "outputs": [
    {
     "data": {
      "text/plain": [
       "180589"
      ]
     },
     "execution_count": 19,
     "metadata": {},
     "output_type": "execute_result"
    }
   ],
   "source": [
    "len([w.lower() for w in su_words])"
   ]
  },
  {
   "cell_type": "code",
   "execution_count": 20,
   "metadata": {},
   "outputs": [],
   "source": [
    "lower_fd_su_words = nltk.FreqDist([w.lower() for w in su_words])"
   ]
  },
  {
   "cell_type": "code",
   "execution_count": 21,
   "metadata": {},
   "outputs": [
    {
     "data": {
      "text/plain": [
       "[('must', 1569),\n",
       " ('people', 1313),\n",
       " ('world', 1213),\n",
       " ('new', 1112),\n",
       " ('year', 1104),\n",
       " ('america', 1079),\n",
       " ('congress', 1078),\n",
       " ('us', 1049),\n",
       " ('government', 969),\n",
       " ('years', 829)]"
      ]
     },
     "execution_count": 21,
     "metadata": {},
     "output_type": "execute_result"
    }
   ],
   "source": [
    "lower_fd_su_words.most_common()[:10]"
   ]
  },
  {
   "cell_type": "code",
   "execution_count": 22,
   "metadata": {},
   "outputs": [
    {
     "data": {
      "text/plain": [
       "1079"
      ]
     },
     "execution_count": 22,
     "metadata": {},
     "output_type": "execute_result"
    }
   ],
   "source": [
    "lower_fd_su_words[\"america\"] # as expected"
   ]
  },
  {
   "cell_type": "markdown",
   "metadata": {},
   "source": [
    "## Concordance and collocations analysis"
   ]
  },
  {
   "cell_type": "code",
   "execution_count": 23,
   "metadata": {},
   "outputs": [],
   "source": [
    "su_text = nltk.Text(nltk.corpus.state_union.words())"
   ]
  },
  {
   "cell_type": "code",
   "execution_count": 24,
   "metadata": {},
   "outputs": [
    {
     "name": "stdout",
     "output_type": "stream",
     "text": [
      "Displaying 10 of 541 matches:\n",
      "ues , in the Congress of the United States . Only yesterday , we laid to rest \n",
      "inate the world . While these great states have a special responsibility to en\n",
      "on the obligations resting upon all states , large and small , not to use forc\n",
      " . The respon sibility of the great states is to serve and not to dominate the\n",
      " 1946 To the Congress of the United States : A quarter century ago the Congres\n",
      "g of the year 1946 finds the United States strong and deservedly confident . W\n",
      "e citizenry . We have in the United States Government rich resources in inform\n",
      "t that the nations come together as States in the Assembly and in the Security\n",
      "s based on the policy of the United States that people be permitted to choose \n",
      ", the Soviet Union , and the United States conferred together in San Francisco\n"
     ]
    }
   ],
   "source": [
    "su_text.concordance(\"states\", lines=10)"
   ]
  },
  {
   "cell_type": "code",
   "execution_count": 25,
   "metadata": {},
   "outputs": [
    {
     "name": "stdout",
     "output_type": "stream",
     "text": [
      "ues , in the Congress of the United States . Only yesterday , we laid to rest \n",
      "inate the world . While these great states have a special responsibility to en\n",
      "on the obligations resting upon all states , large and small , not to use forc\n",
      " . The respon sibility of the great states is to serve and not to dominate the\n",
      " 1946 To the Congress of the United States : A quarter century ago the Congres\n",
      "g of the year 1946 finds the United States strong and deservedly confident . W\n",
      "e citizenry . We have in the United States Government rich resources in inform\n",
      "t that the nations come together as States in the Assembly and in the Security\n",
      "s based on the policy of the United States that people be permitted to choose \n",
      ", the Soviet Union , and the United States conferred together in San Francisco\n"
     ]
    }
   ],
   "source": [
    "concordence_list = su_text.concordance_list(\"states\", lines=10)\n",
    "for line in concordence_list:\n",
    "    print(line.line)"
   ]
  },
  {
   "cell_type": "code",
   "execution_count": 26,
   "metadata": {},
   "outputs": [
    {
     "data": {
      "text/plain": [
       "'have a special responsibility to en'"
      ]
     },
     "execution_count": 26,
     "metadata": {},
     "output_type": "execute_result"
    }
   ],
   "source": [
    "concordence_list[1].right_print"
   ]
  },
  {
   "cell_type": "code",
   "execution_count": 27,
   "metadata": {},
   "outputs": [],
   "source": [
    "decl_nltk_words = nltk.word_tokenize(decl_of_indep_text)\n",
    "decl_nltk_words = [w.lower() for w in decl_nltk_words if w.isalpha()]\n",
    "decl_nltk_text = nltk.Text(decl_nltk_words)\n",
    "fd_decl_nltk_text = decl_nltk_text.vocab()"
   ]
  },
  {
   "cell_type": "code",
   "execution_count": 28,
   "metadata": {},
   "outputs": [
    {
     "name": "stdout",
     "output_type": "stream",
     "text": [
      "  the    of    to   and   for   our their   has    in    he \n",
      "   78    78    65    56    29    26    20    20    19    19 \n"
     ]
    }
   ],
   "source": [
    "fd_decl_nltk_text.tabulate(10)"
   ]
  },
  {
   "cell_type": "code",
   "execution_count": 29,
   "metadata": {},
   "outputs": [],
   "source": [
    "su_words = [w for w in nltk.corpus.state_union.words() if w.isalpha()] # redownloading state union words\n",
    "su_words_lower = [w.lower() for w in su_words]"
   ]
  },
  {
   "cell_type": "code",
   "execution_count": 30,
   "metadata": {},
   "outputs": [],
   "source": [
    "finder = nltk.collocations.TrigramCollocationFinder.from_words(su_words_lower)"
   ]
  },
  {
   "cell_type": "code",
   "execution_count": 31,
   "metadata": {},
   "outputs": [
    {
     "data": {
      "text/plain": [
       "[(('the', 'united', 'states'), 327),\n",
       " (('the', 'american', 'people'), 208),\n",
       " (('the', 'state', 'of'), 171),\n",
       " (('to', 'the', 'congress'), 164),\n",
       " (('state', 'of', 'the'), 164),\n",
       " (('of', 'the', 'world'), 155),\n",
       " (('of', 'the', 'union'), 155),\n",
       " (('of', 'the', 'united'), 146),\n",
       " (('in', 'the', 'world'), 136),\n",
       " (('the', 'federal', 'government'), 132)]"
      ]
     },
     "execution_count": 31,
     "metadata": {},
     "output_type": "execute_result"
    }
   ],
   "source": [
    "finder.ngram_fd.most_common(10)"
   ]
  },
  {
   "cell_type": "markdown",
   "metadata": {},
   "source": [
    "## Using pretrained sentiment analyzer model"
   ]
  },
  {
   "cell_type": "code",
   "execution_count": 32,
   "metadata": {},
   "outputs": [
    {
     "data": {
      "text/plain": [
       "{'neg': 0.0, 'neu': 1.0, 'pos': 0.0, 'compound': 0.0}"
      ]
     },
     "execution_count": 32,
     "metadata": {},
     "output_type": "execute_result"
    }
   ],
   "source": [
    "from nltk.sentiment import SentimentIntensityAnalyzer   # VADER model for sentiment analysis is better for short texts\n",
    "sia = SentimentIntensityAnalyzer()\n",
    "sia.polarity_scores(\"Shakespeare didn't know how to predict the outcome of his works\")"
   ]
  },
  {
   "cell_type": "code",
   "execution_count": 33,
   "metadata": {},
   "outputs": [],
   "source": [
    "tweets = [t.replace(\"://\", \"//\") for t in nltk.corpus.twitter_samples.strings()]"
   ]
  },
  {
   "cell_type": "code",
   "execution_count": 34,
   "metadata": {},
   "outputs": [
    {
     "name": "stdout",
     "output_type": "stream",
     "text": [
      "Negative \n",
      "> Question Time crowd emerge as stars on a night of vicious attacks on leaders: Cameron, Miliband and Clegg all ... http//t.co/okONAfO2b2 \n",
      "\n",
      "\n",
      "Negative \n",
      "> @__sabaa I'll say rumble in da kumble BC that's all I know :((( \n",
      "\n",
      "\n",
      "Positive \n",
      "> RT @NicolaSturgeon: If Miliband is going to let Tories in rather than work with SNP, we will definitely need lots of SNP MPs to protect Sco… \n",
      "\n",
      "\n",
      "Positive \n",
      "> So you can keep me inside of pocket of ur wripped jeans :) \n",
      "\n",
      "\n",
      "Positive \n",
      "> @JabongIndia ready and eagerly waiting for the next question. bring it on :) #JabongatPumaUrbanStampede #JabongatPumaUrbanStampede \n",
      "\n",
      "\n",
      "Negative \n",
      "> @AlanRoden What it boils down to, is the simple fact that Labour refuse to budge. SNP will use this in a way that pins them against Scots. \n",
      "\n",
      "\n",
      "Positive \n",
      "> RT @KevinJPringle: Gordon Brown says the Tories are an \"anti-Scottish\" party - so why did Labour form an alliance with them in #indyref? ht… \n",
      "\n",
      "\n",
      "Positive \n",
      "> Farage looks like he is waiting for the Krypton Factor to start. \n",
      "\n",
      "\n",
      "Negative \n",
      "> Mega-rich City bankers stump up cash for David Cameron's General Election campaign http//t.co/hmgdYLd3Ji http//t.co/yVqc1DNsdP \n",
      "\n",
      "\n",
      "Negative \n",
      "> ( ♥ #FLAKA__HERE ♥ ) Ed Miliband: 'Prefiero no ser primer ministro a pactar con el SN... http//t.co/bVSKeFOLny ( ♥ #FLAKA__HERE ♥ ) \n",
      "\n",
      "\n"
     ]
    }
   ],
   "source": [
    "from random import shuffle\n",
    "\n",
    "def sia_tweet_is_positive(tweet: str) -> bool:\n",
    "    \"\"\"True if tweet has positive compound sentiment, False otherwise.\"\"\"\n",
    "    if sia.polarity_scores(tweet)[\"compound\"] > 0:\n",
    "        return(\"Positive\")\n",
    "    return(\"Negative\")\n",
    "\n",
    "shuffle(tweets)\n",
    "for tweet in tweets[:10]:\n",
    "    print(sia_tweet_is_positive(tweet), \"\\n>\", tweet, \"\\n\\n\")"
   ]
  },
  {
   "cell_type": "code",
   "execution_count": 35,
   "metadata": {},
   "outputs": [],
   "source": [
    "positive_reviews_ids = nltk.corpus.movie_reviews.fileids(categories=[\"pos\"])\n",
    "negative_reviews_ids = nltk.corpus.movie_reviews.fileids(categories=[\"neg\"])\n",
    "all_review_ids = positive_reviews_ids + negative_reviews_ids"
   ]
  },
  {
   "cell_type": "code",
   "execution_count": 36,
   "metadata": {},
   "outputs": [],
   "source": [
    "from statistics import mean\n",
    "\n",
    "def is_positive(review_id: str) -> bool:\n",
    "    \"\"\"Returns true if the sentiment compound score for every sentence is positive.\"\"\"\n",
    "    reviews_text = nltk.corpus.movie_reviews.raw(review_id)\n",
    "    sia_scores = [\n",
    "        sia.polarity_scores(line)[\"compound\"] for line in nltk.sent_tokenize(reviews_text)\n",
    "    ]\n",
    "    return mean(sia_scores) > 0"
   ]
  },
  {
   "cell_type": "code",
   "execution_count": 37,
   "metadata": {},
   "outputs": [
    {
     "name": "stdout",
     "output_type": "stream",
     "text": [
      "\n",
      "      Correct positive: 831\n",
      "      Wrong positive: 551\n",
      "      Correct negative: 449\n",
      "      Wrong negative: 169\n",
      "      \n"
     ]
    }
   ],
   "source": [
    "shuffle(all_review_ids)\n",
    "\n",
    "pos_assignemnts_counter = 0\n",
    "false_positive = 0\n",
    "neg_assignemnts_counter = 0\n",
    "false_negative = 0\n",
    "\n",
    "for review_id in all_review_ids:\n",
    "    if is_positive(review_id):\n",
    "        if review_id in positive_reviews_ids:\n",
    "            pos_assignemnts_counter += 1\n",
    "        elif review_id in negative_reviews_ids:\n",
    "            false_positive += 1\n",
    "    else:\n",
    "        if review_id in negative_reviews_ids:\n",
    "            neg_assignemnts_counter += 1\n",
    "        elif review_id in positive_reviews_ids:\n",
    "            false_negative += 1\n",
    "\n",
    "print(f\"\"\"\n",
    "      Correct positive: {pos_assignemnts_counter}\n",
    "      Wrong positive: {false_positive}\n",
    "      Correct negative: {neg_assignemnts_counter}\n",
    "      Wrong negative: {false_negative}\n",
    "      \"\"\")\n",
    "            \n",
    "            "
   ]
  },
  {
   "cell_type": "code",
   "execution_count": 38,
   "metadata": {},
   "outputs": [
    {
     "data": {
      "text/plain": [
       "'64.0% accuracy'"
      ]
     },
     "execution_count": 38,
     "metadata": {},
     "output_type": "execute_result"
    }
   ],
   "source": [
    "F\"{(pos_assignemnts_counter + neg_assignemnts_counter)/ len(all_review_ids):.1%} accuracy\""
   ]
  },
  {
   "cell_type": "markdown",
   "metadata": {},
   "source": [
    "Selecting useful features"
   ]
  },
  {
   "cell_type": "code",
   "execution_count": 39,
   "metadata": {},
   "outputs": [],
   "source": [
    "useless = nltk.corpus.stopwords.words(\"english\")\n",
    "useless.extend([w.lower() for w in nltk.corpus.names.words()])\n",
    "\n",
    "def skip_unwanted_words(pos_tuple):\n",
    "    word, tag = pos_tuple\n",
    "    if not word.isalpha() or word in useless:\n",
    "        return False\n",
    "    if tag.startswith(\"NN\"):\n",
    "        return False\n",
    "    return True\n",
    "\n",
    "positive_words = [word for word, tag in filter(\n",
    "    skip_unwanted_words,\n",
    "    nltk.pos_tag(nltk.corpus.movie_reviews.words(categories=[\"pos\"]))\n",
    ")]\n",
    "negative_words = [word for word, tag in filter(\n",
    "    skip_unwanted_words,\n",
    "    nltk.pos_tag(nltk.corpus.movie_reviews.words(categories=[\"neg\"]))\n",
    ")]"
   ]
  },
  {
   "cell_type": "code",
   "execution_count": 40,
   "metadata": {},
   "outputs": [],
   "source": [
    "positive_fd = nltk.FreqDist(positive_words)\n",
    "negative_fd = nltk.FreqDist(negative_words)\n",
    "\n",
    "common_set = set(positive_fd).intersection(negative_fd)\n",
    "\n",
    "for word in common_set:\n",
    "    del positive_fd[word]\n",
    "    del negative_fd[word]\n",
    "\n",
    "top_100_positive = {word for word, count in positive_fd.most_common(100)}\n",
    "top_100_negative = {word for word, count in negative_fd.most_common(100)}"
   ]
  },
  {
   "cell_type": "code",
   "execution_count": 41,
   "metadata": {},
   "outputs": [],
   "source": [
    "positive_bigram_finder = nltk.collocations.BigramCollocationFinder.from_words([\n",
    "    w for w in nltk.corpus.movie_reviews.words(categories=[\"pos\"])\n",
    "    if w.isalpha() and w not in useless\n",
    "])\n",
    "negative_bigram_finder = nltk.collocations.BigramCollocationFinder.from_words([\n",
    "    w for w in nltk.corpus.movie_reviews.words(categories=[\"neg\"])\n",
    "    if w.isalpha() and w not in useless\n",
    "])"
   ]
  },
  {
   "cell_type": "code",
   "execution_count": 42,
   "metadata": {},
   "outputs": [
    {
     "data": {
      "text/plain": [
       "[(('special', 'effects'), 179),\n",
       " (('new', 'york'), 131),\n",
       " (('even', 'though'), 120),\n",
       " (('one', 'best'), 117),\n",
       " (('year', 'old'), 106),\n",
       " (('science', 'fiction'), 96),\n",
       " (('high', 'school'), 89),\n",
       " (('pulp', 'fiction'), 78),\n",
       " (('sci', 'fi'), 78),\n",
       " (('real', 'life'), 73)]"
      ]
     },
     "execution_count": 42,
     "metadata": {},
     "output_type": "execute_result"
    }
   ],
   "source": [
    "positive_bigram_finder.ngram_fd.most_common(10)"
   ]
  },
  {
   "cell_type": "code",
   "execution_count": 43,
   "metadata": {},
   "outputs": [],
   "source": [
    "positive_trigram_finder = nltk.collocations.TrigramCollocationFinder.from_words([\n",
    "    w for w in nltk.corpus.movie_reviews.words(categories=[\"pos\"])\n",
    "    if w.isalpha() and w not in useless\n",
    "])\n",
    "negative_trigram_finder = nltk.collocations.TrigramCollocationFinder.from_words([\n",
    "    w for w in nltk.corpus.movie_reviews.words(categories=[\"neg\"])\n",
    "    if w.isalpha() and w not in useless\n",
    "])"
   ]
  },
  {
   "cell_type": "code",
   "execution_count": 44,
   "metadata": {},
   "outputs": [
    {
     "data": {
      "text/plain": [
       "[(('know', 'last', 'summer'), 39),\n",
       " (('new', 'york', 'city'), 24),\n",
       " (('saturday', 'night', 'live'), 17),\n",
       " (('still', 'know', 'last'), 14),\n",
       " (('first', 'half', 'hour'), 12),\n",
       " (('little', 'known', 'facts'), 12),\n",
       " (('film', 'takes', 'place'), 11),\n",
       " (('little', 'creaky', 'still'), 11),\n",
       " (('creaky', 'still', 'better'), 11),\n",
       " (('still', 'better', 'staying'), 11)]"
      ]
     },
     "execution_count": 44,
     "metadata": {},
     "output_type": "execute_result"
    }
   ],
   "source": [
    "negative_trigram_finder.ngram_fd.most_common(10)"
   ]
  },
  {
   "cell_type": "markdown",
   "metadata": {},
   "source": [
    "Function to extract features from revies and count number of top 100 positive words:"
   ]
  },
  {
   "cell_type": "code",
   "execution_count": 45,
   "metadata": {},
   "outputs": [],
   "source": [
    "def find_features(input_text):\n",
    "    features = {}\n",
    "    words_counter = 0\n",
    "    compound_scores = []\n",
    "    positive_scores = []\n",
    "    \n",
    "    for phrase in nltk.sent_tokenize(input_text):\n",
    "        for word in nltk.word_tokenize(phrase):\n",
    "            if word.lower() in top_100_positive:\n",
    "                words_counter += 1\n",
    "        compound_scores.append(sia.polarity_scores(phrase)[\"compound\"])\n",
    "        positive_scores.append(sia.polarity_scores(phrase)[\"pos\"])\n",
    "        \n",
    "    features[\"mean_compound\"] = mean(compound_scores) + 1 # adding 1 to make sure the result is positive\n",
    "    features[\"mean_positive\"] = mean(positive_scores) \n",
    "    features[\"words_counter\"] = words_counter\n",
    "    \n",
    "    return features"
   ]
  },
  {
   "cell_type": "code",
   "execution_count": 46,
   "metadata": {},
   "outputs": [],
   "source": [
    "features = [\n",
    "    (find_features(nltk.corpus.movie_reviews.raw(review)), \"pos\")\n",
    "    for review in nltk.corpus.movie_reviews.fileids(categories=[\"pos\"])\n",
    "]\n",
    "features.extend([\n",
    "    (find_features(nltk.corpus.movie_reviews.raw(review)), \"neg\")\n",
    "    for review in nltk.corpus.movie_reviews.fileids(categories=[\"neg\"])\n",
    "])"
   ]
  },
  {
   "cell_type": "markdown",
   "metadata": {},
   "source": [
    "Training Naive Bayes Classifier with reviews database"
   ]
  },
  {
   "cell_type": "code",
   "execution_count": 47,
   "metadata": {},
   "outputs": [
    {
     "name": "stdout",
     "output_type": "stream",
     "text": [
      "Most Informative Features\n",
      "           words_counter = 4                 pos : neg    =      4.7 : 1.0\n",
      "           words_counter = 2                 pos : neg    =      3.3 : 1.0\n",
      "           words_counter = 1                 pos : neg    =      1.7 : 1.0\n",
      "           words_counter = 0                 neg : pos    =      1.6 : 1.0\n",
      "           mean_positive = 0.10004761904761905    neg : pos    =      1.0 : 1.0\n",
      "           mean_positive = 0.1095            neg : pos    =      1.0 : 1.0\n"
     ]
    }
   ],
   "source": [
    "train_set = len(features) // 4\n",
    "shuffle(features) \n",
    "\n",
    "nb_classifier = nltk.NaiveBayesClassifier.train(features[:train_set])\n",
    "nb_classifier.show_most_informative_features(10)"
   ]
  },
  {
   "cell_type": "markdown",
   "metadata": {},
   "source": [
    "testing out on some example reviews:"
   ]
  },
  {
   "cell_type": "code",
   "execution_count": 48,
   "metadata": {},
   "outputs": [],
   "source": [
    "example_review = \"\"\"You'll have to have your wits about you and your brain fully switched on watching Oppenheimer as it could easily get away from a nonattentive viewer. This is intelligent filmmaking which shows it's audience great respect. It fires dialogue packed with information at a relentless pace and jumps to very different times in Oppenheimer's life continuously through it's 3 hour runtime. There are visual clues to guide the viewer through these times but again you'll have to get to grips with these quite quickly. This relentlessness helps to express the urgency with which the US attacked it's chase for the atomic bomb before Germany could do the same. An absolute career best performance from (the consistenly brilliant) Cillian Murphy anchors the film. This is a nailed on Oscar performance. In fact the whole cast are fantastic (apart maybe for the sometimes overwrought Emily Blunt performance). RDJ is also particularly brilliant in a return to proper acting after his decade or so of calling it in. The screenplay is dense and layered (I'd say it was a thick as a Bible), cinematography is quite stark and spare for the most part but imbued with rich, lucious colour in moments (especially scenes with Florence Pugh), the score is beautiful at times but mostly anxious and oppressive, adding to the relentless pacing. The 3 hour runtime flies by. All in all I found it an intense, taxing but highly rewarding watch. This is film making at it finest. A really great watch.\"\"\""
   ]
  },
  {
   "cell_type": "code",
   "execution_count": 49,
   "metadata": {},
   "outputs": [
    {
     "data": {
      "text/plain": [
       "'pos'"
      ]
     },
     "execution_count": 49,
     "metadata": {},
     "output_type": "execute_result"
    }
   ],
   "source": [
    "example_review_features = find_features(example_review)\n",
    "nb_classifier.classify(example_review_features)"
   ]
  },
  {
   "cell_type": "code",
   "execution_count": 50,
   "metadata": {},
   "outputs": [
    {
     "data": {
      "text/plain": [
       "{'mean_compound': 1.3346,\n",
       " 'mean_positive': 0.19242857142857142,\n",
       " 'words_counter': 1}"
      ]
     },
     "execution_count": 50,
     "metadata": {},
     "output_type": "execute_result"
    }
   ],
   "source": [
    "find_features(example_review)"
   ]
  },
  {
   "cell_type": "code",
   "execution_count": 51,
   "metadata": {},
   "outputs": [],
   "source": [
    "another_review = \"\"\"The film's universe and settings are fantastic. The casting is really good too, with Gosling excelling in the role of Ken.\n",
    "Regrettably, however, the film completely misses the chance to appeal to people who grew up with Barbie. Instead, we're left with a film that almost divides and pits men against women, in an attempt to make it a feminist and political film.\n",
    "Instead of seeing a light, fun film, I saw a rather heavy-handed movie whose storyline is centered around patriarchy.\n",
    "It's a real shame, because the film's potential is pretty amazing. I came away disappointed, but not totally disgusted either.\"\"\""
   ]
  },
  {
   "cell_type": "code",
   "execution_count": 52,
   "metadata": {},
   "outputs": [
    {
     "data": {
      "text/plain": [
       "'neg'"
      ]
     },
     "execution_count": 52,
     "metadata": {},
     "output_type": "execute_result"
    }
   ],
   "source": [
    "another_review_features = find_features(another_review)\n",
    "nb_classifier.classify(another_review_features)"
   ]
  },
  {
   "cell_type": "code",
   "execution_count": 53,
   "metadata": {},
   "outputs": [
    {
     "data": {
      "text/plain": [
       "{'mean_compound': 1.348642857142857,\n",
       " 'mean_positive': 0.2512857142857143,\n",
       " 'words_counter': 0}"
      ]
     },
     "execution_count": 53,
     "metadata": {},
     "output_type": "execute_result"
    }
   ],
   "source": [
    "find_features(another_review)"
   ]
  },
  {
   "cell_type": "markdown",
   "metadata": {},
   "source": [
    "## Comparing classifiers"
   ]
  },
  {
   "cell_type": "code",
   "execution_count": 54,
   "metadata": {},
   "outputs": [],
   "source": [
    "from sklearn.naive_bayes import BernoulliNB, ComplementNB, MultinomialNB\n",
    "from sklearn.linear_model import LogisticRegression\n",
    "from sklearn.neural_network import MLPClassifier\n",
    "from sklearn.neighbors import KNeighborsClassifier\n",
    "from sklearn.tree import DecisionTreeClassifier\n",
    "from sklearn.ensemble import RandomForestClassifier, AdaBoostClassifier\n",
    "from sklearn.discriminant_analysis import QuadraticDiscriminantAnalysis"
   ]
  },
  {
   "cell_type": "markdown",
   "metadata": {},
   "source": [
    "For the sake of this particular notebook detailed specification, of all these Classifiers above, is not required, so instead, default options will be used."
   ]
  },
  {
   "cell_type": "code",
   "execution_count": 55,
   "metadata": {},
   "outputs": [],
   "source": [
    "all_classifiers = {\n",
    "    \"BernoulliNB\": BernoulliNB(),\n",
    "    \"ComplementNB\": ComplementNB(),\n",
    "    \"MultinomialNB\": MultinomialNB(),\n",
    "    \"LogisticRegression\": LogisticRegression,\n",
    "    \"MLPClassifier\": MLPClassifier(max_iter=2000),\n",
    "    \"KNeighborsClassifier\": KNeighborsClassifier(),\n",
    "    \"DecisionTreeClassifier\": DecisionTreeClassifier(),\n",
    "    \"RandomForestClassifier\": RandomForestClassifier(),\n",
    "    \"AdaBoostClassifier\": AdaBoostClassifier(),\n",
    "    \"QuadraticDiscriminantAnalysis\": QuadraticDiscriminantAnalysis(),\n",
    "}"
   ]
  },
  {
   "cell_type": "code",
   "execution_count": 61,
   "metadata": {},
   "outputs": [],
   "source": [
    "def run_classifiers_training(sa_classifiers): \n",
    "    run_only_once = 1\n",
    "    if run_only_once:\n",
    "        for name, sa_classifier in sa_classifiers.items():\n",
    "            sa_classifier = nltk.classify.SklearnClassifier(sa_classifier)\n",
    "            sa_classifier.train(features[:train_set])\n",
    "            accuracy = nltk.classify.accuracy(sa_classifier, features[train_set:])\n",
    "            print(F\"{accuracy:.2%} - {name}\")\n",
    "    run_only_once = run_only_once * 0"
   ]
  },
  {
   "cell_type": "code",
   "execution_count": 63,
   "metadata": {},
   "outputs": [
    {
     "name": "stderr",
     "output_type": "stream",
     "text": [
      "2023/08/17 22:45:34 INFO mlflow.utils.autologging_utils: Created MLflow autologging run with ID 'b44a7de2ac77491f99e068e749663ebf', which will track hyperparameters, performance metrics, model artifacts, and lineage information for the current sklearn workflow\n",
      "2023/08/17 22:45:34 WARNING mlflow.sklearn: Failed to log training dataset information to MLflow Tracking. Reason: 'numpy.ndarray' object has no attribute 'toarray'\n"
     ]
    }
   ],
   "source": [
    "run_classifiers_training(all_classifiers)"
   ]
  },
  {
   "cell_type": "code",
   "execution_count": null,
   "metadata": {},
   "outputs": [],
   "source": []
  }
 ],
 "metadata": {
  "kernelspec": {
   "display_name": "Python 3.11.4 ('venv': venv)",
   "language": "python",
   "name": "python3"
  },
  "language_info": {
   "codemirror_mode": {
    "name": "ipython",
    "version": 3
   },
   "file_extension": ".py",
   "mimetype": "text/x-python",
   "name": "python",
   "nbconvert_exporter": "python",
   "pygments_lexer": "ipython3",
   "version": "3.11.4"
  },
  "orig_nbformat": 4,
  "vscode": {
   "interpreter": {
    "hash": "9f2ce9b95b5dc79469a8b00a7ed9df379c5e72be974cea67dabd7f9870d3baed"
   }
  }
 },
 "nbformat": 4,
 "nbformat_minor": 2
}
