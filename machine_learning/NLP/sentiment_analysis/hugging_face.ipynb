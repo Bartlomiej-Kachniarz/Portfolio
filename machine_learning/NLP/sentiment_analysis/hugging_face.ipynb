{
 "cells": [
  {
   "cell_type": "code",
   "execution_count": 1,
   "metadata": {},
   "outputs": [
    {
     "name": "stderr",
     "output_type": "stream",
     "text": [
      "/Users/Bartek/Desktop/Bartek/Programowanie/Portfolio/venv/lib/python3.11/site-packages/tqdm/auto.py:21: TqdmWarning: IProgress not found. Please update jupyter and ipywidgets. See https://ipywidgets.readthedocs.io/en/stable/user_install.html\n",
      "  from .autonotebook import tqdm as notebook_tqdm\n"
     ]
    }
   ],
   "source": [
    "from transformers import pipeline"
   ]
  },
  {
   "cell_type": "code",
   "execution_count": 2,
   "metadata": {},
   "outputs": [
    {
     "name": "stderr",
     "output_type": "stream",
     "text": [
      "No model was supplied, defaulted to distilbert-base-uncased-finetuned-sst-2-english and revision af0f99b (https://huggingface.co/distilbert-base-uncased-finetuned-sst-2-english).\n",
      "Using a pipeline without specifying a model name and revision in production is not recommended.\n"
     ]
    }
   ],
   "source": [
    "pipeline_sa = pipeline(\"sentiment-analysis\")"
   ]
  },
  {
   "cell_type": "code",
   "execution_count": 3,
   "metadata": {},
   "outputs": [],
   "source": [
    "input_data = [\"I don't know how you can be so stupid\", \"You mean a lot to me\", \"We are not friends anymore.\"]"
   ]
  },
  {
   "cell_type": "code",
   "execution_count": 4,
   "metadata": {},
   "outputs": [
    {
     "data": {
      "text/plain": [
       "[{'label': 'NEGATIVE', 'score': 0.9943351149559021},\n",
       " {'label': 'POSITIVE', 'score': 0.8073984384536743},\n",
       " {'label': 'NEGATIVE', 'score': 0.998809814453125}]"
      ]
     },
     "execution_count": 4,
     "metadata": {},
     "output_type": "execute_result"
    }
   ],
   "source": [
    "pipeline_sa(input_data)"
   ]
  },
  {
   "cell_type": "markdown",
   "metadata": {},
   "source": [
    "Sentiment analysis using roBERTa"
   ]
  },
  {
   "cell_type": "code",
   "execution_count": 5,
   "metadata": {},
   "outputs": [],
   "source": [
    "from transformers import (AutoModelForSequenceClassification, \n",
    "                          TFAutoModelForSequenceClassification,\n",
    "                          AutoTokenizer)\n",
    "import numpy as np\n",
    "from scipy.special import softmax\n",
    "import csv\n",
    "import urllib.request"
   ]
  },
  {
   "cell_type": "code",
   "execution_count": 6,
   "metadata": {},
   "outputs": [],
   "source": [
    "def preprocess_text(text):\n",
    "    new = []\n",
    "    \n",
    "    for chunk in text.split(\" \"):\n",
    "        chunk = '@user' if chunk.startswith('@') and len(chunk) > 1 else chunk\n",
    "        chunk = 'http' if chunk.startswith('http') else chunk\n",
    "        \n",
    "        new.append(chunk)\n",
    "    return \" \".join(new)"
   ]
  },
  {
   "cell_type": "code",
   "execution_count": 7,
   "metadata": {},
   "outputs": [],
   "source": [
    "task = 'sentiment'\n",
    "MODEL = f\"cardiffnlp/twitter-roberta-base-{task}\""
   ]
  },
  {
   "cell_type": "code",
   "execution_count": 9,
   "metadata": {},
   "outputs": [],
   "source": [
    "tokenizer = AutoTokenizer.from_pretrained(MODEL)"
   ]
  },
  {
   "cell_type": "code",
   "execution_count": 10,
   "metadata": {},
   "outputs": [],
   "source": [
    "labels = []\n",
    "mapping = f\"https://raw.githubusercontent.com/cardiffnlp/tweeteval/main/datasets/{task}/mapping.txt\"\n",
    "\n",
    "with urllib.request.urlopen(mapping) as m:\n",
    "    html = m.read().decode(\"utf-8\").split(\"\\n\")\n",
    "    csv_reader = csv.reader(html, delimiter=\"\\t\")\n",
    "\n",
    "labels = [row[1] for row in csv_reader if len(row) > 1]"
   ]
  },
  {
   "cell_type": "code",
   "execution_count": 11,
   "metadata": {},
   "outputs": [
    {
     "data": {
      "text/plain": [
       "['negative', 'neutral', 'positive']"
      ]
     },
     "execution_count": 11,
     "metadata": {},
     "output_type": "execute_result"
    }
   ],
   "source": [
    "labels"
   ]
  },
  {
   "cell_type": "markdown",
   "metadata": {},
   "source": [
    "Pretraining:"
   ]
  },
  {
   "cell_type": "code",
   "execution_count": 12,
   "metadata": {},
   "outputs": [],
   "source": [
    "model = AutoModelForSequenceClassification.from_pretrained(MODEL)\n",
    "model.save_pretrained(MODEL)"
   ]
  },
  {
   "cell_type": "code",
   "execution_count": 13,
   "metadata": {},
   "outputs": [],
   "source": [
    "example_text = \"Have a nice day! :D\"\n",
    "example_text_2 = \"Don't raise your voice.\""
   ]
  },
  {
   "cell_type": "code",
   "execution_count": 14,
   "metadata": {},
   "outputs": [],
   "source": [
    "pp_example_text = preprocess_text(example_text)\n",
    "pp_example_text_2 = preprocess_text(example_text_2)\n",
    "\n",
    "encoded_text = tokenizer(pp_example_text, return_tensors='pt')\n",
    "encoded_text_2 = tokenizer(pp_example_text_2, return_tensors='pt')"
   ]
  },
  {
   "cell_type": "code",
   "execution_count": 15,
   "metadata": {},
   "outputs": [],
   "source": [
    "sa_output = model(**encoded_text)\n",
    "sa_output_2 = model(**encoded_text_2)"
   ]
  },
  {
   "cell_type": "code",
   "execution_count": 16,
   "metadata": {},
   "outputs": [],
   "source": [
    "scores = sa_output[0][0].detach().numpy()\n",
    "scores = softmax(scores)\n",
    "\n",
    "scores_2 = sa_output_2[0][0].detach().numpy()\n",
    "scores_2 = softmax(scores_2)"
   ]
  },
  {
   "cell_type": "code",
   "execution_count": 17,
   "metadata": {},
   "outputs": [
    {
     "data": {
      "text/plain": [
       "array([0.00145376, 0.01081944, 0.98772687], dtype=float32)"
      ]
     },
     "execution_count": 17,
     "metadata": {},
     "output_type": "execute_result"
    }
   ],
   "source": [
    "scores"
   ]
  },
  {
   "cell_type": "code",
   "execution_count": 18,
   "metadata": {},
   "outputs": [
    {
     "data": {
      "text/plain": [
       "array([0.51257545, 0.46419644, 0.02322812], dtype=float32)"
      ]
     },
     "execution_count": 18,
     "metadata": {},
     "output_type": "execute_result"
    }
   ],
   "source": [
    "scores_2"
   ]
  },
  {
   "cell_type": "code",
   "execution_count": 19,
   "metadata": {},
   "outputs": [],
   "source": [
    "rank = np.argsort(scores)\n",
    "rank = rank[::-1]\n",
    "\n",
    "rank_2 = np.argsort(scores_2)\n",
    "rank_2 = rank_2[::-1]"
   ]
  },
  {
   "cell_type": "code",
   "execution_count": 20,
   "metadata": {},
   "outputs": [
    {
     "name": "stdout",
     "output_type": "stream",
     "text": [
      "Have a nice day! :D\n",
      "1 positive 0.9877\n",
      "2 neutral 0.0108\n",
      "3 negative 0.0015\n"
     ]
    }
   ],
   "source": [
    "print(example_text)\n",
    "for i in range(scores.shape[0]):\n",
    "    label = labels[rank[i]]\n",
    "    score = scores[rank[i]]\n",
    "    \n",
    "    print(f\"{i+1} {label} {np.round(float(score), 4)}\")"
   ]
  },
  {
   "cell_type": "code",
   "execution_count": 21,
   "metadata": {},
   "outputs": [
    {
     "name": "stdout",
     "output_type": "stream",
     "text": [
      "Don't raise your voice.\n",
      "1 positive 0.0232\n",
      "2 neutral 0.4642\n",
      "3 negative 0.5126\n"
     ]
    }
   ],
   "source": [
    "print(example_text_2)\n",
    "for i in range(scores_2.shape[0]):\n",
    "    label = labels[rank[i]]\n",
    "    score = scores_2[rank[i]]\n",
    "    \n",
    "    print(f\"{i+1} {label} {np.round(float(score), 4)}\")"
   ]
  }
 ],
 "metadata": {
  "kernelspec": {
   "display_name": "Python 3.11.4 ('venv': venv)",
   "language": "python",
   "name": "python3"
  },
  "language_info": {
   "codemirror_mode": {
    "name": "ipython",
    "version": 3
   },
   "file_extension": ".py",
   "mimetype": "text/x-python",
   "name": "python",
   "nbconvert_exporter": "python",
   "pygments_lexer": "ipython3",
   "version": "3.11.8"
  },
  "orig_nbformat": 4,
  "vscode": {
   "interpreter": {
    "hash": "9f2ce9b95b5dc79469a8b00a7ed9df379c5e72be974cea67dabd7f9870d3baed"
   }
  }
 },
 "nbformat": 4,
 "nbformat_minor": 2
}
