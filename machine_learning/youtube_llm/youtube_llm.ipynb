{
 "cells": [
  {
   "cell_type": "markdown",
   "metadata": {},
   "source": [
    "Notebook of summarizing a YouTube video using LLM model."
   ]
  },
  {
   "cell_type": "markdown",
   "metadata": {},
   "source": [
    "First, we download automatically generated subtitles from videos:"
   ]
  },
  {
   "cell_type": "code",
   "execution_count": 1,
   "metadata": {},
   "outputs": [],
   "source": [
    "from youtube_transcript_api import YouTubeTranscriptApi"
   ]
  },
  {
   "cell_type": "code",
   "execution_count": 2,
   "metadata": {},
   "outputs": [],
   "source": [
    "def get_id(url):\n",
    "    return url.split(\"watch?v=\")[-1]"
   ]
  },
  {
   "cell_type": "code",
   "execution_count": 3,
   "metadata": {},
   "outputs": [
    {
     "data": {
      "text/plain": [
       "[{'text': 'what exactly is antimatter', 'start': 0.92, 'duration': 5.08},\n",
       " {'text': 'what happens when matter and antimatter',\n",
       "  'start': 3.84,\n",
       "  'duration': 3.6},\n",
       " {'text': 'collide', 'start': 6.0, 'duration': 3.42},\n",
       " {'text': 'how did antimatter come to be discovered',\n",
       "  'start': 7.44,\n",
       "  'duration': 4.26},\n",
       " {'text': \"and why don't we encounter antimatter in\",\n",
       "  'start': 9.42,\n",
       "  'duration': 4.02},\n",
       " {'text': 'our daily lives', 'start': 11.7, 'duration': 3.84},\n",
       " {'text': 'all of these concerns and many more',\n",
       "  'start': 13.44,\n",
       "  'duration': 5.22},\n",
       " {'text': 'arise when one considers antimatter',\n",
       "  'start': 15.54,\n",
       "  'duration': 5.34},\n",
       " {'text': 'but first and foremost let us first',\n",
       "  'start': 18.66,\n",
       "  'duration': 5.1},\n",
       " {'text': 'Define and comprehend anti-matter',\n",
       "  'start': 20.88,\n",
       "  'duration': 6.5}]"
      ]
     },
     "execution_count": 3,
     "metadata": {},
     "output_type": "execute_result"
    }
   ],
   "source": [
    "yt_video_link = \"https://www.youtube.com/watch?v=i3DPKC0Xa3c\"\n",
    "\n",
    "transcript = YouTubeTranscriptApi.get_transcript(get_id(yt_video_link))\n",
    "transcript[:10]"
   ]
  },
  {
   "cell_type": "markdown",
   "metadata": {},
   "source": [
    "We need to join all the specific transcripts into a single one."
   ]
  },
  {
   "cell_type": "code",
   "execution_count": 4,
   "metadata": {},
   "outputs": [
    {
     "data": {
      "text/plain": [
       "\"what exactly is antimatter what happens when matter and antimatter collide how did antimatter come to be discovered and why don't we encounter antimatter in our daily lives all of these concerns and many more arise when one considers antimatter but first and foremost let us first Define and comprehend anti-matter hello and welcome to Z be sure to subscribe to learn more about antimatter and other thought-provoking contents antimatter is the polar opposite of matter each subatomic particle such as an electron Proton or Neutron has an antiparticle such as an anti-electron anti-proton or anti-neutron the antiparticle will have the same mass as the particle but the sign of its charge and other quantum numbers will be different the lepton number is one for the electron and each of the other five members of the lepton family and the baryon number is one-third for each of the six quarks that comprise the baryon family antiparticles are intended to interact with other antibarticles in the same way that ordinary particles do when it comes to matter and antimatter the laws of physics are nearly symmetric in fact an antimatter Universe would be indistinguishable from ours in more detail the anti-electron is known as the positron which stands for positive electron and it is positively charged with a lepton number of minus one the positron and proton have the same mass the proton is a positively charged subatomic particle composed of three quarks with a baryon number of one the antiproton has the same mass as the proton but is negatively charged with a baryon number of -1 minus one-third provided by each of the three antiquarks that comprise the antiproton neutral subatomic particles like neutrons are fascinating the anti-neutron has the same mass and zero charge as the neutron but it has a baryon number of -1 minus one-third due to each of the three antiquarks that comprise the anti-neutron what happens when matter and antimatter collide the solution is fireworks when a positron and an electron interact they both annihilate producing two x-ray energy photons so we're lucky that antimatter is so scarce in the universe right now otherwise every time matter and antimatter interacted we would have been scorched by X-rays and gamma rays in fact if you make your anti-self you would both annihilate and release the equivalent energy of around 2 500 megatons nearly one-third the total energy of the world's nuclear Arsenal if you can create macroscopic amounts of antimatter and store it in isolation antimatter may make for some mighty strong Starship engines some Modern particle accelerators produce antiprotons on a regular basis for use in high energy physics studies now that we've established what antimatter is let's look at how physicists discovered it Paul direct one of the founding fathers of the new discipline of quantum mechanics was attempting to solve an equation that included the implications of special relativity Theory to describe the behavior of electrons in the microscopic Universe in 1928 surprisingly the equation allowed Solutions corresponding to electrons with negative energy traveling back in time any insecure physics student would have blessed with embarrassment and redone the math Direct on the other hand was certain of his math he reworked his faulty solution to represent an anti-electron with positive energy moving forward in time for years later Carl Anderson an experimental physicist confirmed direct correct by actually discovering the anti-electron the positron Anderson was awarded the Nobel Prize in 1936 for his discovery of the positron Dirac had already received the Nobel Prize in physics in 1933 for his contributions to Atomic physics do you want to know where Anderson's positrons came from Anderson found positrons in atmospheric Showers of subatomic particles caused by very high energy cosmic rays mainly protons interacting with atoms in Earth's atmosphere the story of the positron's prediction and subsequent Discovery is educational and demonstrates how important discoveries in physics are frequently produced Anderson's apparatus was a cloud chamber which was a standard instrument in nuclear physics Labs at the time a particle passing through a cloud chamber would create a trail of bubbles behind it a known magnetic field would curve the particle based on its charge in Anderson's Cloud Chambers positrons curled in the same way as electrons did but in the opposite direction these oppositely curved tracks were really detected several years before Anderson around the time of dirac's prediction but none of the physicists who saw them explored the problem further Anderson was the one who persisted tested and retested his data and so established the positron's reality this is analogous to dirac's discovery of negative energy electrons he did not merely dismiss the solutions as a mathematical curiosity but instead reinterpreted them in such a way that we discovered an entirely new aspect to the universe you can learn about different aspects of our universe on our YouTube channel but let us return to the story of antimatter antimatter is rare in today's Universe because it is produced by very rare nuclear processes that yield very little amounts of it this produces largely subatomic antimatter such as positrons antiprotons anti-neutrons and antimesins misons are the lighter cousins of the proton and neutron consisting of a quark and an anti-cork yes physicists invented and researched anti-hydrogen however this was done under extremely demanding laboratory settings that required complete isolation of the anti-hydrogen atoms so that they did not interact with the walls of their container and annihilate in a gamma-ray jet you're undoubtedly asking if antimatter has any purpose other than helping physicists to discover more about the universe yes the answer is yes antimatter is present every time a patient undergoes a pet scan to detect malignancies in the body and pet is an abbreviation for positron emission tomography the patient is given radioactive carbohydrates which accumulated tumor areas these radioactive carbohydrates then Decay gradually producing positrons as they do so the places from which the positrons are emerging are then mapped out by a specialized and very complex device providing a highly detailed Vision within the human body patients who have undergone pet scans are radioactive for a few days and are normally recommended to avoid contact with children and pregnant women due to the risks that radiation poses to youngsters and fetuses okay so we now know what antimatter is we know how it interacts with matter we know how to produce it here on Earth and in nature essentially under very special conditions and in very small amounts and we know that it exists for very short periods of time because it interacts quickly with ordinary matter but scientists still don't know why everything in the universe planets Stars galaxies is mostly non-antimatter this problem is so significant in physics that it has its own name the matter antimatter asymmetry problem to address this issue we must first investigate cosmology and high energy physics also known as particle physics to be completely honest the solution to the preceding dilemma is still being worked out by physicists nonetheless we'll try to get a very simplified version of the answers known portions the three-pronged theoretical framework for understanding matter antimatter asymmetry was developed over 50 years ago by physicist Andrei sakharov our journey begins at the very beginning with the big bang the Big Bang is the instant our universe was created The Big Bang produced exactly the same amount of matter and antimatter there was a positron for every electron and an anti-cork for every quark ons and neutrons on the other hand develop much later they developed just a few minutes after the big bang when practically all antimatter had vanished however we are getting ahead of ourselves Let Us return to the Big Bang the universe was an extraordinarily hot soup of particles and antiparticles and intense radiation during the first fraction of a fraction of a second after the big bang particles and antiparticles annihilated each other to form very energetic photons and the energetic photons could interact with one other to produce particle antiparticle pairs again all while being watched over by particle physics laws if it hadn't been for an incredible cosmological phenomenon the first prom the universe would have remained in this blazing thermal equilibrium for Ians with nothing fascinating happening the universe is growing the universe's expansion resulted in Cooling radiation energy depleted to the point that Photon interactions were no longer powerful enough to form particle enter particle pairs as a result the replenishment of the abundance of the couple's ceased if no other process is intervened the particles and antiparticles would have annihilated each other over time leaving us with a world made up entirely of photons and no matter or antimatter we wouldn't be here to talk about it the expansion of the universe prevents particle antiparticle pairs from being renewed other high energy physics processes must now be involved in order to produce the matter antimatter asymmetry bringing us to the second prom remember that antiparticles have the opposite baryon number as particles energy momentum charge lepton number and baryon number must all be conserved in high energy physics reactions a quantity is considered to be preserved if it's value before and after the reaction is the same all of the rules of high energy physics appear to require that the aforementioned quantities be strictly conserved because there is no antimatter in the universe the conservation of baryon number must be violated to some extent under particular conditions in order to produce the matter antimatter asymmetry seen today how far does it go approximately one part in a billion what evidence do we have astrophysicists know that for every particle in the universe there are around a billion photons this suggests that there were only a billion antiparticles for every billion particles the billion particles will annihilate with the billion antiparticles yielding roughly a billion photons in the end resulting in one particle and a billion photons the particle to Photon ratio measured by astrophysicists however there is no evidence of a breach of baryon number conservation and particle physics Labs as of yet furthermore there is no theoretical process in particle physics mainstream Paradigm the standard model in which the baryon number is not conserved fully comprehend the matter antimatter imbalance new physics must be developed the so-called CP violation is the third prong required to comprehend the matter antimatter asymmetry if you reverse the signs of the charges see of all the particles involved in a process and look at the reaction via mirror P parity the laws of physics including conservation laws should be the same a CP violation happens when the consequences of a reaction change after reversing the sign of the charges and taking the reaction's mirror image in the early Universe CP violation is required to make more particles than antiparticles since the 1980s hints of CP violation have been seen in particle physics labs and processes involving chemozons also known as chaons and other subatomic particles however the quantity of violation discovered is insufficient to explain the whole scale of the matter antimatter asymmetry naturally additional experiments are required for nearly a century antimatter has provided deep insights into physics except for its Rarity we know practically everything about antimatter understanding why this is the case will undoubtedly teach us some new physics this tale is being written in major particle physics Labs throughout the world including CERN in Geneva Switzerland with so much work it's only a matter of time before the matter antimatter asymmetry is resolved all right everyone here's where the video ends thanks for watching and don't forget to like share and subscribe [Music] foreign\""
      ]
     },
     "execution_count": 4,
     "metadata": {},
     "output_type": "execute_result"
    }
   ],
   "source": [
    "transcipt_full = \" \".join([line[\"text\"] for line in transcript])\n",
    "transcipt_full"
   ]
  },
  {
   "cell_type": "markdown",
   "metadata": {},
   "source": [
    "The result does not contain any punctuation characters. Therefore, it is necessary to add these characters to our result. This is especially important because LLM (Large Language Models) usually require input to contain punctuation characters."
   ]
  },
  {
   "cell_type": "code",
   "execution_count": 5,
   "metadata": {},
   "outputs": [
    {
     "name": "stderr",
     "output_type": "stream",
     "text": [
      "/Users/Bartek/Desktop/Bartek/Programowanie/Python/Portfolio/venv/lib/python3.11/site-packages/tqdm/auto.py:21: TqdmWarning: IProgress not found. Please update jupyter and ipywidgets. See https://ipywidgets.readthedocs.io/en/stable/user_install.html\n",
      "  from .autonotebook import tqdm as notebook_tqdm\n"
     ]
    }
   ],
   "source": [
    "from rpunct import RestorePuncts\n",
    "restore_punct = RestorePuncts()"
   ]
  },
  {
   "cell_type": "code",
   "execution_count": null,
   "metadata": {},
   "outputs": [],
   "source": [
    "restored_punct_transcript = restore_punct.punctuate(transcipt_full)"
   ]
  },
  {
   "cell_type": "code",
   "execution_count": 9,
   "metadata": {},
   "outputs": [
    {
     "data": {
      "text/plain": [
       "\"What exactly is Antimatter? What happens when matter and antimatter collide? How did antimatter come to be discovered? and why don't we encounter antimatter in our daily lives? All of these concerns and many more arise when one considers antimatter. But first and foremost, let us first Define and comprehend anti-matter Hello, and welcome to Z. Be sure to subscribe to learn more about antimatter and other thought-provoking contents. Antimatter is the polar opposite of matter. Each subatomic particle, such as an electron, Proton or Neutron has an antiparticle, such as an anti-electron anti-proton or anti-neutron The antiparticle will have the same mass as the particle, but the sign of its charge and other quantum numbers will be different. The lepton number is one for the electron and each of the other five members of the lepton family, and the baryon number is one-third for each of the six quarks that comprise the baryon family. Antiparticles are intended to interact with other antibarticles in the same way that ordinary particles do when it comes to matter and antimatter. The laws of physics are nearly symmetric. In fact, an antimatter Universe would be indistinguishable from ours. In more detail, the anti-electron is known as the positron, which stands for positive electron, and it is positively charged with a lepton number of minus one. The positron and proton have the same mass. The proton is a positively charged subatomic particle composed of three quarks with a baryon number of one. The antiproton has the same mass as the proton, but is negatively charged with a baryon number of -1 minus one-third provided by each of the three antiquarks that comprise the antiproton. Neutral subatomic particles like neutrons are fascinating. The anti-neutron has the same mass and zero charge as the neutron, but it has a baryon number of -1 minus one-third Due to each of the three antiquarks that comprise the anti-neutron what happens when matter and antimatter collide? The solution is fireworks. when a positron and an electron interact, They both annihilate, producing two X-ray energy photons. So we're lucky that antimatter is so scarce in the universe right now. Otherwise, every time matter and antimatter interacted, we would have been scorched by X-rays and gamma rays. In fact, if you make your anti-self you would both annihilate and release the equivalent energy of around 2 500 megatons, nearly one-third the total energy of the world's nuclear. Arsenal If you can create macroscopic amounts of antimatter and store it in isolation, antimatter may make for some mighty strong Starship engines. Some Modern particle accelerators produce antiprotons on a regular basis for use in high energy physics studies. Now that we've established what Antimatter is, let's look at how physicists discovered it: Paul Direct: One of the founding fathers of the new discipline of Quantum Mechanics was attempting to solve an equation that included the implications of Special Relativity Theory to describe the behavior of electrons in the microscopic Universe in 1928. Surprisingly, the equation allowed Solutions corresponding to electrons with negative energy traveling back in time Any insecure physics student would have blessed with embarrassment and redone the math. Direct on the other hand, was certain of his math. He reworked his faulty solution to represent an anti-electron with positive energy moving forward in time for years later. Carl Anderson An experimental physicist confirmed direct correct by actually discovering the anti-electron The Positron. Anderson Was awarded the Nobel Prize in 1936 for his discovery of the Positron. Dirac Had already received the Nobel Prize in Physics in 1933 for his contributions to Atomic physics. Do you want to know where Anderson's positrons came from? Anderson Found positrons in atmospheric Showers of subatomic particles caused by very high energy cosmic rays mainly protons interacting with atoms in Earth's atmosphere. The story of the positron's prediction and subsequent Discovery is educational and demonstrates how important discoveries in physics are frequently produced. Anderson's apparatus was a cloud chamber, which was a standard instrument in nuclear physics. Labs At the time, a particle passing through a cloud chamber would create a trail of bubbles behind it. A known magnetic field would curve the particle based on its charge in Anderson's Cloud Chambers positrons curled in the same way as electrons did, but in the opposite direction. These oppositely curved tracks were really detected several years before Anderson around the time of Dirac's prediction, but none of the physicists who saw them explored the problem further. Anderson was the one who persisted, tested and retested his data, and so established the positron's reality. This is analogous to Dirac's discovery of negative energy electrons. He did not merely dismiss the solutions as a mathematical curiosity, but instead reinterpreted them in such a way that we discovered an entirely new aspect to the universe. You can learn about different aspects of our universe on our YouTube channel. But let us return to the story of antimatter. Antimatter is rare in today's Universe because it is produced by very rare nuclear processes that yield very little amounts of it. This produces largely subatomic antimatter such as Positrons, antiprotons, anti-neutrons and antimesins. Misons are the lighter cousins of the proton and neutron, consisting of a quark and an anti-cork Yes, physicists invented and researched anti-hydrogen However, this was done under extremely demanding laboratory settings that required complete isolation of the anti-hydrogen atoms so that they did not interact with the walls of their container and annihilate in a gamma-ray jet. You're undoubtedly asking if antimatter has any purpose other than helping physicists to discover more about the universe. Yes, the answer is yes, antimatter is present every time a patient undergoes a Pet scan to detect malignancies in the body and Pet is an abbreviation for positron emission tomography. The patient is given radioactive carbohydrates which accumulated tumor areas. These radioactive carbohydrates then Decay gradually producing positrons. As they do so, the places from which the positrons are emerging are then mapped out by a specialized and very complex device providing a highly detailed Vision within the human body. Patients who have undergone Pet scans are radioactive for a few days and are normally recommended to avoid contact with children and pregnant women due to the risks that radiation poses to youngsters and fetuses. Okay, so we now know what antimatter is. We know how it interacts with matter. We know how to produce it here on Earth and in nature, essentially under very special conditions and in very small amounts. And we know that it exists for very short periods of time because it interacts quickly with ordinary matter. But scientists still don't know why everything in the universe planets Stars galaxies is mostly non-antimatter This problem is so significant in physics that it has its own name, the Matter Antimatter Asymmetry problem. To address this issue, we must first investigate Cosmology and high Energy physics, also known as particle Physics. To be completely honest, the solution to the preceding dilemma is still being worked out by physicists. Nonetheless, we'll try to get a very simplified version of the answers known portions. The three-pronged theoretical framework for understanding matter. Antimatter asymmetry was developed over 50 years ago by physicist Andrei Sakharov. Our journey begins at the very beginning with the Big Bang. The Big Bang is the instant our universe was created. The Big Bang produced exactly the same amount of matter and antimatter. There was a positron for every electron and an anti-cork for every quark ons and neutrons on the other hand, develop much later. They developed just a few minutes after the Big Bang when practically all antimatter had vanished. However, we are getting ahead of ourselves. Let Us Return to the Big Bang The universe was an extraordinarily hot soup of particles and antiparticles and intense radiation during the first fraction of a fraction of a second. after the Big Bang, particles and antiparticles annihilated each other to form very energetic photons, and the energetic photons could interact with one other to produce particle antiparticle pairs again, all while being watched over by particle physics laws. If it hadn't been for an incredible cosmological phenomenon, the first Prom, the universe would have remained in this blazing thermal equilibrium for Ians. With nothing fascinating happening, the universe is growing. The universe's expansion resulted in Cooling radiation energy depleted to the point that Photon interactions were no longer powerful enough to form particle enter particle pairs. As a result, the replenishment of the abundance of the couple's ceased. If no other process is intervened, the particles and antiparticles would have annihilated each other over time, leaving us with a world made up entirely of photons and no matter or antimatter, We wouldn't be here to talk about it. The expansion of the universe prevents particle antiparticle pairs from being renewed. Other high energy physics processes must now be involved in order to produce the matter antimatter asymmetry, bringing us to the second prom. Remember that antiparticles have the opposite baryon number as particles. energy, momentum, charge, lepton number, and baryon number must all be conserved In high energy physics reactions, a quantity is considered to be preserved if it's value before and after the reaction is the same. All of the rules of high energy physics appear to require that the aforementioned quantities be strictly conserved. Because there is no antimatter in the universe, the conservation of baryon number must be violated to some extent under particular conditions in order to produce the matter antimatter asymmetry seen today. How far does it go? Approximately one part in a billion? What evidence do we have? Astrophysicists know that for every particle in the universe, there are around a billion photons. This suggests that there were only a billion antiparticles. For every billion particles, the billion particles will annihilate, with the billion antiparticles yielding roughly a billion photons In the end, resulting in one particle and a billion photons. The particle to Photon ratio measured by astrophysicists. However, there is no evidence of a breach of baryon number. Conservation and Particle Physics Labs as of yet. Furthermore, there is no theoretical process in particle physics mainstream. Paradigm The standard model in which the baryon number is not conserved. Fully comprehend the matter antimatter imbalance. New physics must be developed. The so-called CP violation is the third prong required to comprehend the matter antimatter asymmetry. If you reverse the signs of the charges, see of all the particles involved in a process, and look at the reaction via mirror. P parity. The laws of physics, including conservation laws, should be the same. A CP violation happens when the consequences of a reaction change. After reversing the sign of the charges and taking the reaction's mirror image in the early Universe CP violation is required to make more particles than antiparticles. Since the 1980s, hints of CP violation have been seen in particle physics labs and processes involving Chemozons also known as Chaons and other subatomic particles. However, the quantity of violation discovered is insufficient to explain the whole scale of the matter antimatter asymmetry. Naturally, additional experiments are required. For nearly a century, Antimatter has provided deep insights into physics except for its Rarity. We know practically everything about Antimatter. Understanding why this is the case will undoubtedly teach us some new physics. This tale is being written in major particle physics Labs throughout the world, including CERN in Geneva Switzerland With so much work, it's only a matter of time before the matter antimatter asymmetry is resolved. All right, everyone. here's where the video ends. Thanks for watching and don't forget to like, share, and subscribe. [Music] Foreign.\""
      ]
     },
     "execution_count": 9,
     "metadata": {},
     "output_type": "execute_result"
    }
   ],
   "source": [
    "restored_punct_transcript"
   ]
  },
  {
   "cell_type": "code",
   "execution_count": 13,
   "metadata": {},
   "outputs": [],
   "source": [
    "import openai"
   ]
  },
  {
   "cell_type": "code",
   "execution_count": 14,
   "metadata": {},
   "outputs": [],
   "source": [
    "with open(\"openai_key.txt\") as f:\n",
    "    openai.api_key = f.readline()"
   ]
  },
  {
   "cell_type": "code",
   "execution_count": 17,
   "metadata": {},
   "outputs": [],
   "source": [
    "prompt = f\"Summarize this transcript: \\ntext = '{restored_punct_transcript}'\""
   ]
  },
  {
   "cell_type": "code",
   "execution_count": null,
   "metadata": {},
   "outputs": [],
   "source": [
    "# ChatCompletion request of openai API makes it work as with ChatGPT\n",
    "\n",
    "response = openai.ChatCompletion.create(\n",
    "    model=\"gpt-3.5-turbo\",\n",
    "    messages=[\n",
    "        {\n",
    "            \"role\": \"user\", # \"user\" or \"assistant\"\n",
    "            \"content\": prompt # user's input or assistant's reply\n",
    "        }\n",
    "    ],\n",
    "    temperature=1, # randomness\n",
    "    max_tokens=256,\n",
    "    top_p=1, # Top-p (nucleus) sampling parameter, higher values make output more focused\n",
    "    frequency_penalty=0, # Frequency penalty discourages the model from repeating words or phrases\n",
    "    presence_penalty=0 # Presence penalty discourages the model from adding verbose or unnecessary words\n",
    ")"
   ]
  },
  {
   "cell_type": "code",
   "execution_count": null,
   "metadata": {},
   "outputs": [],
   "source": [
    "print(response[\"choices\"][0][\"message\"][\"content\"])"
   ]
  },
  {
   "cell_type": "markdown",
   "metadata": {},
   "source": [
    "Since I do not have a paid OpenAI account this API will not allow any tokens to be submitted."
   ]
  },
  {
   "cell_type": "markdown",
   "metadata": {},
   "source": []
  }
 ],
 "metadata": {
  "kernelspec": {
   "display_name": "venv",
   "language": "python",
   "name": "python3"
  },
  "language_info": {
   "codemirror_mode": {
    "name": "ipython",
    "version": 3
   },
   "file_extension": ".py",
   "mimetype": "text/x-python",
   "name": "python",
   "nbconvert_exporter": "python",
   "pygments_lexer": "ipython3",
   "version": "3.11.5"
  },
  "orig_nbformat": 4
 },
 "nbformat": 4,
 "nbformat_minor": 2
}
