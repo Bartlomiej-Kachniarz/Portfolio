{
 "cells": [
  {
   "cell_type": "code",
   "execution_count": 1,
   "metadata": {},
   "outputs": [],
   "source": [
    "import psycopg2\n",
    "import os\n",
    "from dotenv import load_dotenv\n",
    "from sqlalchemy import create_engine, Integer, Column, String\n",
    "from sqlalchemy.ext.declarative import declarative_base\n",
    "from sqlalchemy.orm import sessionmaker"
   ]
  },
  {
   "cell_type": "code",
   "execution_count": 2,
   "metadata": {},
   "outputs": [
    {
     "data": {
      "text/plain": [
       "True"
      ]
     },
     "execution_count": 2,
     "metadata": {},
     "output_type": "execute_result"
    }
   ],
   "source": [
    "load_dotenv()"
   ]
  },
  {
   "cell_type": "code",
   "execution_count": 3,
   "metadata": {},
   "outputs": [],
   "source": [
    "USER = os.getenv(\"USERNAME_PG\")\n",
    "PASSWORD = os.getenv(\"PASSWORD_PG\")"
   ]
  },
  {
   "cell_type": "code",
   "execution_count": 4,
   "metadata": {},
   "outputs": [],
   "source": [
    "db_connection_string = 'postgresql+psycopg2://' + USER + ':' + PASSWORD + '@localhost:5432/sql_app_dev'"
   ]
  },
  {
   "cell_type": "code",
   "execution_count": 5,
   "metadata": {},
   "outputs": [],
   "source": [
    "db_engine = create_engine(db_connection_string)"
   ]
  },
  {
   "cell_type": "code",
   "execution_count": 6,
   "metadata": {},
   "outputs": [],
   "source": [
    "Session = sessionmaker(db_engine)\n",
    "session = Session() # session needs to be called"
   ]
  },
  {
   "cell_type": "code",
   "execution_count": 7,
   "metadata": {},
   "outputs": [
    {
     "name": "stderr",
     "output_type": "stream",
     "text": [
      "/var/folders/t1/1qxx9snn6396k8pncnk12jrw0000gp/T/ipykernel_15254/3585108450.py:1: MovedIn20Warning: Deprecated API features detected! These feature(s) are not compatible with SQLAlchemy 2.0. To prevent incompatible upgrades prior to updating applications, ensure requirements files are pinned to \"sqlalchemy<2.0\". Set environment variable SQLALCHEMY_WARN_20=1 to show all deprecation warnings.  Set environment variable SQLALCHEMY_SILENCE_UBER_WARNING=1 to silence this message. (Background on SQLAlchemy 2.0 at: https://sqlalche.me/e/b8d9)\n",
      "  base = declarative_base()\n"
     ]
    }
   ],
   "source": [
    "base = declarative_base()"
   ]
  },
  {
   "cell_type": "code",
   "execution_count": 8,
   "metadata": {},
   "outputs": [],
   "source": [
    "class Product(base):\n",
    "    __tablename__ = 'products'\n",
    "    product_id = Column(Integer, primary_key=True)\n",
    "    product_name = Column(String)\n",
    "    product_type = Column(String)"
   ]
  },
  {
   "cell_type": "code",
   "execution_count": 9,
   "metadata": {},
   "outputs": [
    {
     "name": "stdout",
     "output_type": "stream",
     "text": [
      "Reflector oven\n",
      "Convection microwave\n",
      "Pressure fryer\n",
      "Multicooker\n",
      "Food steamer\n",
      "Chapati maker\n",
      "Mess kit\n",
      "Rotisserie\n",
      "Sous-vide cooker\n",
      "Rocket mass heater\n",
      "Cheesemelter\n",
      "Hot plate\n",
      "Flattop grill\n",
      "Wet grinder\n",
      "Masonry oven\n",
      "Chocolatera\n",
      "Turkey fryer\n",
      "Bread machine\n",
      "Roasting jack\n",
      "Brasero (heater)\n",
      "Susceptor\n",
      "Slow cooker\n",
      "Butane torch\n",
      "Microwave oven\n",
      "Solar cooker\n",
      "Deep fryer\n",
      "Popcorn maker\n",
      "Russian oven\n",
      "Clome oven\n",
      "Convection oven\n",
      "Beehive oven\n",
      "Toaster and toaster ovens\n",
      "Field kitchen\n",
      "Corn roaster\n",
      "Self-cleaning oven\n",
      "Wood-fired oven\n",
      "Kitchener range\n",
      "Rice polisher\n",
      "Soy milk maker\n",
      "Crepe maker\n",
      "Oven\n",
      "Hot box (appliance)\n",
      "Combi steamer\n",
      "Rice cooker\n",
      "Fire pot\n",
      "Salamander broiler\n",
      "Vacuum fryer\n",
      "Fufu Machine\n",
      "Tabun oven\n",
      "Pancake machine\n",
      "Barbecue grill\n",
      "Panini sandwich grill\n",
      "Air fryer\n",
      "Chorkor oven\n",
      "Communal oven\n",
      "Pressure cooker\n",
      "Halogen oven\n",
      "Instant Pot\n",
      "Waffle iron\n",
      "Stove\n",
      "Earth oven\n",
      "Electric cooker\n",
      "Espresso machine\n",
      "Coffee pot\n"
     ]
    }
   ],
   "source": [
    "products = session.query(Product)\n",
    "for product in products:\n",
    "    print(product.product_name)"
   ]
  },
  {
   "cell_type": "code",
   "execution_count": 10,
   "metadata": {},
   "outputs": [
    {
     "name": "stdout",
     "output_type": "stream",
     "text": [
      "Pressure fryer\n",
      "Turkey fryer\n",
      "Deep fryer\n",
      "Vacuum fryer\n",
      "Air fryer\n"
     ]
    }
   ],
   "source": [
    "products_fryer = session.query(Product).filter(Product.product_type == 'fryer')\n",
    "for product in products_fryer:\n",
    "    print(product.product_name)"
   ]
  },
  {
   "cell_type": "code",
   "execution_count": 11,
   "metadata": {},
   "outputs": [],
   "source": [
    "class Supplier(base):\n",
    "    __tablename__ = 'suppliers'\n",
    "    supplier_id = Column(Integer, primary_key=True)\n",
    "    supplier_name = Column(String)\n",
    "    supplier_region = Column(String)\n",
    "    supplier_level = Column(Integer)"
   ]
  }
 ],
 "metadata": {
  "kernelspec": {
   "display_name": "venv",
   "language": "python",
   "name": "python3"
  },
  "language_info": {
   "codemirror_mode": {
    "name": "ipython",
    "version": 3
   },
   "file_extension": ".py",
   "mimetype": "text/x-python",
   "name": "python",
   "nbconvert_exporter": "python",
   "pygments_lexer": "ipython3",
   "version": "3.11.6"
  }
 },
 "nbformat": 4,
 "nbformat_minor": 2
}
