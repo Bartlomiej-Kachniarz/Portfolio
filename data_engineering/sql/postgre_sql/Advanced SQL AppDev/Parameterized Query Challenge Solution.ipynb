{
 "cells": [
  {
   "cell_type": "code",
   "execution_count": 1,
   "metadata": {
    "collapsed": true
   },
   "outputs": [],
   "source": [
    "import psycopg2\n",
    "import os"
   ]
  },
  {
   "cell_type": "code",
   "execution_count": 2,
   "metadata": {},
   "outputs": [],
   "source": [
    "os.environ['USERNAME_PG'] = 'Bartek'\n",
    "os.environ['PASSWORD_PG'] = 'qwertyPOSTGRES159+'"
   ]
  },
  {
   "cell_type": "code",
   "execution_count": 3,
   "metadata": {
    "collapsed": true
   },
   "outputs": [],
   "source": [
    "USER = os.environ['USERNAME_PG']\n",
    "PASSWORD = os.environ['PASSWORD_PG']"
   ]
  },
  {
   "cell_type": "code",
   "execution_count": 4,
   "metadata": {},
   "outputs": [],
   "source": [
    "conn = psycopg2.connect(database='sql_app_dev',\n",
    "                        user=USER,\n",
    "                        password=PASSWORD,\n",
    "                        port=5432 )"
   ]
  },
  {
   "cell_type": "code",
   "execution_count": 5,
   "metadata": {},
   "outputs": [],
   "source": [
    "def get_products_by_type(db_conn, prod_type):\n",
    "    cursor = db_conn.cursor()\n",
    "    sql_string = \"SELECT * FROM products WHERE product_type = %s\"\n",
    "    cursor.execute(sql_string, [prod_type])\n",
    "    return(cursor.fetchall())"
   ]
  },
  {
   "cell_type": "code",
   "execution_count": 6,
   "metadata": {},
   "outputs": [
    {
     "data": {
      "text/plain": [
       "[(1, 'Reflector oven', 'oven'),\n",
       " (2, 'Convection microwave', 'oven'),\n",
       " (15, 'Masonry oven', 'oven'),\n",
       " (24, 'Microwave oven', 'oven'),\n",
       " (32, 'Russian oven', 'oven'),\n",
       " (33, 'Clome oven', 'oven'),\n",
       " (34, 'Convection oven', 'oven'),\n",
       " (37, 'Beehive oven', 'oven'),\n",
       " (38, 'Toaster and toaster ovens', 'oven'),\n",
       " (41, 'Self-cleaning oven', 'oven'),\n",
       " (42, 'Wood-fired oven', 'oven'),\n",
       " (43, 'Kitchener range', 'oven'),\n",
       " (47, 'Oven', 'oven'),\n",
       " (48, 'Hot box (appliance)', 'oven'),\n",
       " (58, 'Tabun oven', 'oven'),\n",
       " (67, 'Chorkor oven', 'oven'),\n",
       " (72, 'Communal oven', 'oven'),\n",
       " (74, 'Halogen oven', 'oven'),\n",
       " (78, 'Stove', 'oven'),\n",
       " (80, 'Earth oven', 'oven')]"
      ]
     },
     "execution_count": 6,
     "metadata": {},
     "output_type": "execute_result"
    }
   ],
   "source": [
    "all_ovens_ = get_products_by_type(conn, 'oven')\n",
    "all_ovens_"
   ]
  },
  {
   "cell_type": "code",
   "execution_count": 7,
   "metadata": {},
   "outputs": [
    {
     "name": "stdout",
     "output_type": "stream",
     "text": [
      "[(4, 1, 1, Decimal('296.47')), (23, 1, 4, Decimal('30.99')), (57, 1, 4, Decimal('124.53')), (63, 1, 2, Decimal('131.79'))] \n",
      "\n",
      "fetchall_cnt_: 1\n",
      "[(5, 2, 2, Decimal('270.24')), (21, 2, 2, Decimal('196.39'))] \n",
      "\n",
      "fetchall_cnt_: 2\n",
      "[(9, 15, 3, Decimal('53.26')), (38, 15, 2, Decimal('299.62')), (41, 15, 2, Decimal('158.61'))] \n",
      "\n",
      "fetchall_cnt_: 3\n",
      "[(3, 24, 5, Decimal('131.20')), (32, 24, 5, Decimal('60.54')), (36, 24, 5, Decimal('93.13')), (49, 24, 4, Decimal('228.74')), (81, 24, 2, Decimal('283.90'))] \n",
      "\n",
      "fetchall_cnt_: 4\n",
      "[(24, 32, 3, Decimal('70.57'))] \n",
      "\n",
      "fetchall_cnt_: 5\n",
      "[(38, 33, 4, Decimal('236.11')), (40, 33, 1, Decimal('227.86')), (61, 33, 2, Decimal('45.44')), (82, 33, 3, Decimal('29.96'))] \n",
      "\n",
      "fetchall_cnt_: 6\n",
      "[(12, 34, 3, Decimal('251.16')), (28, 34, 4, Decimal('72.18')), (69, 34, 5, Decimal('73.06')), (71, 34, 2, Decimal('75.19'))] \n",
      "\n",
      "fetchall_cnt_: 7\n",
      "[(35, 37, 4, Decimal('211.71')), (49, 37, 1, Decimal('162.63')), (51, 37, 5, Decimal('271.15')), (61, 37, 2, Decimal('256.34'))] \n",
      "\n",
      "fetchall_cnt_: 8\n",
      "[(56, 38, 4, Decimal('262.44')), (67, 38, 5, Decimal('237.32')), (71, 38, 5, Decimal('286.17')), (75, 38, 4, Decimal('96.06'))] \n",
      "\n",
      "fetchall_cnt_: 9\n",
      "[] \n",
      "\n",
      "fetchall_cnt_: 10\n",
      "[(8, 42, 2, Decimal('99.52')), (18, 42, 1, Decimal('281.35'))] \n",
      "\n",
      "fetchall_cnt_: 11\n",
      "[(46, 43, 5, Decimal('207.13'))] \n",
      "\n",
      "fetchall_cnt_: 12\n",
      "[(16, 47, 1, Decimal('246.68')), (45, 47, 1, Decimal('26.16')), (48, 47, 3, Decimal('262.16'))] \n",
      "\n",
      "fetchall_cnt_: 13\n",
      "[(12, 48, 4, Decimal('20.08')), (21, 48, 5, Decimal('52.86')), (41, 48, 3, Decimal('148.91')), (43, 48, 4, Decimal('120.45')), (59, 48, 2, Decimal('164.11')), (85, 48, 5, Decimal('232.08'))] \n",
      "\n",
      "fetchall_cnt_: 14\n",
      "[(2, 58, 5, Decimal('102.97')), (25, 58, 4, Decimal('85.03')), (28, 58, 2, Decimal('289.46')), (38, 58, 3, Decimal('255.12')), (40, 58, 2, Decimal('247.79')), (80, 58, 1, Decimal('95.93'))] \n",
      "\n",
      "fetchall_cnt_: 15\n",
      "[(46, 67, 3, Decimal('257.33'))] \n",
      "\n",
      "fetchall_cnt_: 16\n",
      "[(14, 72, 2, Decimal('118.64')), (77, 72, 3, Decimal('103.48'))] \n",
      "\n",
      "fetchall_cnt_: 17\n",
      "[(27, 74, 1, Decimal('202.45')), (50, 74, 5, Decimal('290.62')), (62, 74, 4, Decimal('158.41'))] \n",
      "\n",
      "fetchall_cnt_: 18\n",
      "[(23, 78, 3, Decimal('245.55')), (24, 78, 4, Decimal('21.83'))] \n",
      "\n",
      "fetchall_cnt_: 19\n",
      "[(2, 80, 1, Decimal('181.54')), (26, 80, 3, Decimal('30.75')), (58, 80, 3, Decimal('185.41')), (68, 80, 5, Decimal('175.18')), (82, 80, 2, Decimal('140.09'))] \n",
      "\n",
      "fetchall_cnt_: 20\n"
     ]
    }
   ],
   "source": [
    "cursor_ = conn.cursor()\n",
    "fetchall_cnt_ = 0\n",
    "\n",
    "for oven in all_ovens_:\n",
    "    oven_id = oven[0]\n",
    "    sql_string = \"SELECT * FROM product_orders WHERE product_id = %s\"\n",
    "    cursor_.execute(sql_string, [oven_id])\n",
    "    oven_order = cursor_.fetchall()\n",
    "    fetchall_cnt_ += 1\n",
    "    print(oven_order, \"\\n\")\n",
    "    print(f\"fetchall_cnt_: {fetchall_cnt_}\")"
   ]
  },
  {
   "cell_type": "code",
   "execution_count": 8,
   "metadata": {},
   "outputs": [],
   "source": [
    "def get_product_orders_by_type(db_conn, prod_type):\n",
    "    cursor = db_conn.cursor()\n",
    "    sql_string = \"SELECT po.* FROM product_orders as po \\\n",
    "                    INNER JOIN products as p ON po.product_id = p.product_id \\\n",
    "                    WHERE p.product_type = %s\"\n",
    "    cursor.execute(sql_string, [prod_type])\n",
    "    return(cursor.fetchall())"
   ]
  },
  {
   "cell_type": "code",
   "execution_count": 9,
   "metadata": {},
   "outputs": [
    {
     "data": {
      "text/plain": [
       "[(2, 58, 5, Decimal('102.97')),\n",
       " (2, 80, 1, Decimal('181.54')),\n",
       " (3, 24, 5, Decimal('131.20')),\n",
       " (4, 1, 1, Decimal('296.47')),\n",
       " (5, 2, 2, Decimal('270.24')),\n",
       " (8, 42, 2, Decimal('99.52')),\n",
       " (9, 15, 3, Decimal('53.26')),\n",
       " (12, 34, 3, Decimal('251.16')),\n",
       " (12, 48, 4, Decimal('20.08')),\n",
       " (14, 72, 2, Decimal('118.64')),\n",
       " (16, 47, 1, Decimal('246.68')),\n",
       " (18, 42, 1, Decimal('281.35')),\n",
       " (21, 2, 2, Decimal('196.39')),\n",
       " (21, 48, 5, Decimal('52.86')),\n",
       " (23, 1, 4, Decimal('30.99')),\n",
       " (23, 78, 3, Decimal('245.55')),\n",
       " (24, 32, 3, Decimal('70.57')),\n",
       " (24, 78, 4, Decimal('21.83')),\n",
       " (25, 58, 4, Decimal('85.03')),\n",
       " (26, 80, 3, Decimal('30.75')),\n",
       " (27, 74, 1, Decimal('202.45')),\n",
       " (28, 34, 4, Decimal('72.18')),\n",
       " (28, 58, 2, Decimal('289.46')),\n",
       " (32, 24, 5, Decimal('60.54')),\n",
       " (35, 37, 4, Decimal('211.71')),\n",
       " (36, 24, 5, Decimal('93.13')),\n",
       " (38, 15, 2, Decimal('299.62')),\n",
       " (38, 33, 4, Decimal('236.11')),\n",
       " (38, 58, 3, Decimal('255.12')),\n",
       " (40, 33, 1, Decimal('227.86')),\n",
       " (40, 58, 2, Decimal('247.79')),\n",
       " (41, 15, 2, Decimal('158.61')),\n",
       " (41, 48, 3, Decimal('148.91')),\n",
       " (43, 48, 4, Decimal('120.45')),\n",
       " (45, 47, 1, Decimal('26.16')),\n",
       " (46, 43, 5, Decimal('207.13')),\n",
       " (46, 67, 3, Decimal('257.33')),\n",
       " (48, 47, 3, Decimal('262.16')),\n",
       " (49, 24, 4, Decimal('228.74')),\n",
       " (49, 37, 1, Decimal('162.63')),\n",
       " (50, 74, 5, Decimal('290.62')),\n",
       " (51, 37, 5, Decimal('271.15')),\n",
       " (56, 38, 4, Decimal('262.44')),\n",
       " (57, 1, 4, Decimal('124.53')),\n",
       " (58, 80, 3, Decimal('185.41')),\n",
       " (59, 48, 2, Decimal('164.11')),\n",
       " (61, 33, 2, Decimal('45.44')),\n",
       " (61, 37, 2, Decimal('256.34')),\n",
       " (62, 74, 4, Decimal('158.41')),\n",
       " (63, 1, 2, Decimal('131.79')),\n",
       " (67, 38, 5, Decimal('237.32')),\n",
       " (68, 80, 5, Decimal('175.18')),\n",
       " (69, 34, 5, Decimal('73.06')),\n",
       " (71, 34, 2, Decimal('75.19')),\n",
       " (71, 38, 5, Decimal('286.17')),\n",
       " (75, 38, 4, Decimal('96.06')),\n",
       " (77, 72, 3, Decimal('103.48')),\n",
       " (80, 58, 1, Decimal('95.93')),\n",
       " (81, 24, 2, Decimal('283.90')),\n",
       " (82, 33, 3, Decimal('29.96')),\n",
       " (82, 80, 2, Decimal('140.09')),\n",
       " (85, 48, 5, Decimal('232.08'))]"
      ]
     },
     "execution_count": 9,
     "metadata": {},
     "output_type": "execute_result"
    }
   ],
   "source": [
    "get_product_orders_by_type(conn, 'oven')"
   ]
  },
  {
   "cell_type": "code",
   "execution_count": 18,
   "metadata": {},
   "outputs": [],
   "source": [
    "def get_product_orders_by_type_min_quantity(db_conn, prod_type, min_quantity):\n",
    "    cursor = db_conn.cursor()\n",
    "    sql_string = \"  SELECT po.* \\\n",
    "                    FROM product_orders po \\\n",
    "                        INNER JOIN products p ON p.product_id = po.product_id \\\n",
    "                        WHERE p.product_type = %s \\\n",
    "                            AND po.quantity > %s\"\n",
    "    cursor.execute(sql_string, [prod_type, min_quantity])\n",
    "    return(cursor.fetchall())"
   ]
  },
  {
   "cell_type": "code",
   "execution_count": 22,
   "metadata": {},
   "outputs": [
    {
     "data": {
      "text/plain": [
       "[(2, 58, 5, Decimal('102.97')),\n",
       " (3, 24, 5, Decimal('131.20')),\n",
       " (12, 48, 4, Decimal('20.08')),\n",
       " (21, 48, 5, Decimal('52.86')),\n",
       " (23, 1, 4, Decimal('30.99')),\n",
       " (24, 78, 4, Decimal('21.83')),\n",
       " (25, 58, 4, Decimal('85.03')),\n",
       " (28, 34, 4, Decimal('72.18')),\n",
       " (32, 24, 5, Decimal('60.54')),\n",
       " (35, 37, 4, Decimal('211.71')),\n",
       " (36, 24, 5, Decimal('93.13')),\n",
       " (38, 33, 4, Decimal('236.11')),\n",
       " (43, 48, 4, Decimal('120.45')),\n",
       " (46, 43, 5, Decimal('207.13')),\n",
       " (49, 24, 4, Decimal('228.74')),\n",
       " (50, 74, 5, Decimal('290.62')),\n",
       " (51, 37, 5, Decimal('271.15')),\n",
       " (56, 38, 4, Decimal('262.44')),\n",
       " (57, 1, 4, Decimal('124.53')),\n",
       " (62, 74, 4, Decimal('158.41')),\n",
       " (67, 38, 5, Decimal('237.32')),\n",
       " (68, 80, 5, Decimal('175.18')),\n",
       " (69, 34, 5, Decimal('73.06')),\n",
       " (71, 38, 5, Decimal('286.17')),\n",
       " (75, 38, 4, Decimal('96.06')),\n",
       " (85, 48, 5, Decimal('232.08'))]"
      ]
     },
     "execution_count": 22,
     "metadata": {},
     "output_type": "execute_result"
    }
   ],
   "source": [
    "get_product_orders_by_type_min_quantity(conn, 'oven', 3)"
   ]
  },
  {
   "cell_type": "code",
   "execution_count": null,
   "metadata": {},
   "outputs": [],
   "source": []
  }
 ],
 "metadata": {
  "kernelspec": {
   "display_name": "Python 3",
   "language": "python",
   "name": "python3"
  },
  "language_info": {
   "codemirror_mode": {
    "name": "ipython",
    "version": 3
   },
   "file_extension": ".py",
   "mimetype": "text/x-python",
   "name": "python",
   "nbconvert_exporter": "python",
   "pygments_lexer": "ipython3",
   "version": "3.11.6"
  }
 },
 "nbformat": 4,
 "nbformat_minor": 2
}
