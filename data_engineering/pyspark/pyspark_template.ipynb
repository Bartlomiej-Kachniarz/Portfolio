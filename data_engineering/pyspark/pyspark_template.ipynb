{
 "cells": [
  {
   "cell_type": "code",
   "execution_count": 1,
   "metadata": {},
   "outputs": [],
   "source": [
    "from pyspark import SparkConf\n",
    "from pyspark.sql import SparkSession\n",
    "\n",
    "class SparkSessionManager:\n",
    "    def __init__(self):\n",
    "        self.spark = None\n",
    "\n",
    "    def start_session(self, conf):\n",
    "        self.spark = SparkSession.builder.config(conf=conf).getOrCreate()\n",
    "        print(\"Started Spark Session...\")\n",
    "    \n",
    "    def stop_session(self):\n",
    "        if self.spark is not None:\n",
    "            self.spark.stop()\n",
    "            print(\"Stopped Spark Session.\")"
   ]
  },
  {
   "cell_type": "code",
   "execution_count": 2,
   "metadata": {},
   "outputs": [
    {
     "name": "stderr",
     "output_type": "stream",
     "text": [
      "Setting default log level to \"WARN\".\n",
      "To adjust logging level use sc.setLogLevel(newLevel). For SparkR, use setLogLevel(newLevel).\n",
      "24/04/13 18:55:03 WARN NativeCodeLoader: Unable to load native-hadoop library for your platform... using builtin-java classes where applicable\n",
      "24/04/13 18:55:04 WARN Utils: Service 'SparkUI' could not bind on port 4040. Attempting port 4041.\n"
     ]
    },
    {
     "name": "stdout",
     "output_type": "stream",
     "text": [
      "Started Spark Session...\n"
     ]
    }
   ],
   "source": [
    "from pyspark.sql import Row\n",
    "from pyspark_1 import spark_config\n",
    "\n",
    "spark_session_manager = SparkSessionManager()\n",
    "\n",
    "spark_session_manager.start_session(spark_config)\n",
    "\n",
    "data_dummy_1 = [\n",
    "    Row(name=\"Jan\", age=89, city=\"Katowice\", disease=\"colorectal cancer\"),\n",
    "    Row(name=\"Marlena\", age=32, city=\"Sopot\", disease=\"anal fissure\"),\n",
    "    Row(name=\"Joanna\", age=65, city=\"Warsaw\", disease=\"heartattack\"),\n",
    "    Row(name=\"Robert\", age=20, city=\"Kraków\", disease=\"liver failure\"),\n",
    "    Row(name=\"Karol\", age=43, city=\"Łódź\", disease=\"stuck buttplug\"),\n",
    "    Row(name=\"Bartłomiej\", age=25, city=\"Warsaw\", disease=\"Drug addictions\"),\n",
    "]"
   ]
  },
  {
   "cell_type": "code",
   "execution_count": 3,
   "metadata": {},
   "outputs": [],
   "source": [
    "df_1 = spark_session_manager.spark.createDataFrame(data_dummy_1)"
   ]
  },
  {
   "cell_type": "code",
   "execution_count": 4,
   "metadata": {},
   "outputs": [
    {
     "name": "stderr",
     "output_type": "stream",
     "text": [
      "                                                                                \r"
     ]
    },
    {
     "name": "stdout",
     "output_type": "stream",
     "text": [
      "+----------+---+--------+-----------------+\n",
      "|      name|age|    city|          disease|\n",
      "+----------+---+--------+-----------------+\n",
      "|       Jan| 89|Katowice|colorectal cancer|\n",
      "|   Marlena| 32|   Sopot|     anal fissure|\n",
      "|    Joanna| 65|  Warsaw|      heartattack|\n",
      "|    Robert| 20|  Kraków|    liver failure|\n",
      "|     Karol| 43|    Łódź|   stuck buttplug|\n",
      "|Bartłomiej| 25|  Warsaw|  Drug addictions|\n",
      "+----------+---+--------+-----------------+\n",
      "\n"
     ]
    }
   ],
   "source": [
    "df_1.show()"
   ]
  },
  {
   "cell_type": "code",
   "execution_count": 5,
   "metadata": {},
   "outputs": [
    {
     "name": "stdout",
     "output_type": "stream",
     "text": [
      "Stopped Spark Session.\n"
     ]
    }
   ],
   "source": [
    "spark_session_manager.stop_session()"
   ]
  },
  {
   "cell_type": "code",
   "execution_count": 6,
   "metadata": {},
   "outputs": [
    {
     "name": "stdout",
     "output_type": "stream",
     "text": [
      "Started Spark Session...\n"
     ]
    },
    {
     "name": "stderr",
     "output_type": "stream",
     "text": [
      "24/04/13 18:55:09 WARN Utils: Service 'SparkUI' could not bind on port 4040. Attempting port 4041.\n"
     ]
    }
   ],
   "source": [
    "spark_session_manager.start_session(conf=spark_config)"
   ]
  },
  {
   "cell_type": "code",
   "execution_count": 7,
   "metadata": {},
   "outputs": [],
   "source": [
    "data_dummy_2 = [\n",
    "    Row(name=\"Bożena\", age=59, city=\"Lublin\", disease=\"Retinopatia\"),\n",
    "    Row(name=\"Laura\", age=17, city=\"Wrocław\", disease=\"stomach cancer\"),\n",
    "    Row(name=\"Zbigniew\", age=95, city=\"Tarnów\", disease=\"reumatism\"),\n",
    "    Row(name=\"Alicja\", age=67, city=\"Białystok\", disease=\"megaloblastoma\"),\n",
    "    Row(name=\"Eustachy\", age=25, city=\"Warsaw\", disease=\"brain hemorrhage\"),\n",
    "    Row(name=\"Stanisław\", age=50, city=\"Szczecin\", disease=\"meningitis\"),\n",
    "]"
   ]
  },
  {
   "cell_type": "code",
   "execution_count": 8,
   "metadata": {},
   "outputs": [],
   "source": [
    "df_2 = spark_session_manager.spark.createDataFrame(data_dummy_2)"
   ]
  },
  {
   "cell_type": "code",
   "execution_count": 9,
   "metadata": {},
   "outputs": [],
   "source": [
    "from pyspark_1 import Preprocessing\n",
    "\n",
    "pp_1 = Preprocessing(df_1)\n",
    "pp_2 = Preprocessing(df_2)"
   ]
  },
  {
   "cell_type": "code",
   "execution_count": 10,
   "metadata": {},
   "outputs": [],
   "source": [
    "transformed_df_1 = pp_1.transform(df_1)\n",
    "transformed_df_2 = pp_2.transform(df_2)"
   ]
  }
 ],
 "metadata": {
  "kernelspec": {
   "display_name": "venv",
   "language": "python",
   "name": "python3"
  },
  "language_info": {
   "codemirror_mode": {
    "name": "ipython",
    "version": 3
   },
   "file_extension": ".py",
   "mimetype": "text/x-python",
   "name": "python",
   "nbconvert_exporter": "python",
   "pygments_lexer": "ipython3",
   "version": "3.11.8"
  }
 },
 "nbformat": 4,
 "nbformat_minor": 2
}
