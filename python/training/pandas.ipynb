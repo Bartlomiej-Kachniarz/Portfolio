{
 "cells": [
  {
   "cell_type": "markdown",
   "metadata": {},
   "source": [
    "# Pandas"
   ]
  },
  {
   "cell_type": "markdown",
   "metadata": {},
   "source": [
    "## `DateTime` objects"
   ]
  },
  {
   "cell_type": "code",
   "execution_count": 1,
   "metadata": {},
   "outputs": [],
   "source": [
    "import pandas as pd"
   ]
  },
  {
   "cell_type": "code",
   "execution_count": 2,
   "metadata": {},
   "outputs": [
    {
     "data": {
      "text/plain": [
       "0     2.0\n",
       "1    -3.0\n",
       "2    51.3\n",
       "3    52.0\n",
       "dtype: float64"
      ]
     },
     "execution_count": 2,
     "metadata": {},
     "output_type": "execute_result"
    }
   ],
   "source": [
    "s = pd.Series([2, -3, 51.3, 52])\n",
    "s"
   ]
  },
  {
   "cell_type": "code",
   "execution_count": 3,
   "metadata": {},
   "outputs": [
    {
     "data": {
      "text/plain": [
       "0    7.389056e+00\n",
       "1    4.978707e-02\n",
       "2    1.902422e+22\n",
       "3    3.831008e+22\n",
       "dtype: float64"
      ]
     },
     "execution_count": 3,
     "metadata": {},
     "output_type": "execute_result"
    }
   ],
   "source": [
    "import numpy as np\n",
    "np.exp(s)"
   ]
  },
  {
   "cell_type": "code",
   "execution_count": 4,
   "metadata": {},
   "outputs": [
    {
     "data": {
      "text/plain": [
       "0      2.4\n",
       "1      6.0\n",
       "2    375.3\n",
       "3     65.0\n",
       "dtype: float64"
      ]
     },
     "execution_count": 4,
     "metadata": {},
     "output_type": "execute_result"
    }
   ],
   "source": [
    "s_2 = pd.Series([0.4, 9, 324, 13])\n",
    "s + s_2"
   ]
  },
  {
   "cell_type": "code",
   "execution_count": 5,
   "metadata": {},
   "outputs": [
    {
     "data": {
      "text/plain": [
       "0     3.0\n",
       "1    -2.0\n",
       "2    52.3\n",
       "3    53.0\n",
       "dtype: float64"
      ]
     },
     "execution_count": 5,
     "metadata": {},
     "output_type": "execute_result"
    }
   ],
   "source": [
    "s + 1 # broadcasting"
   ]
  },
  {
   "cell_type": "code",
   "execution_count": 6,
   "metadata": {},
   "outputs": [
    {
     "data": {
      "text/plain": [
       "0    False\n",
       "1     True\n",
       "2    False\n",
       "3    False\n",
       "dtype: bool"
      ]
     },
     "execution_count": 6,
     "metadata": {},
     "output_type": "execute_result"
    }
   ],
   "source": [
    "s < 0"
   ]
  },
  {
   "cell_type": "code",
   "execution_count": 7,
   "metadata": {},
   "outputs": [
    {
     "data": {
      "text/plain": [
       "Bob      25\n",
       "Alice    26\n",
       "Chris    64\n",
       "Dan      62\n",
       "dtype: int64"
      ]
     },
     "execution_count": 7,
     "metadata": {},
     "output_type": "execute_result"
    }
   ],
   "source": [
    "s_3 = pd.Series([25, 26, 64, 62], index=[\"Bob\", \"Alice\", \"Chris\", \"Dan\"])\n",
    "s_3"
   ]
  },
  {
   "cell_type": "code",
   "execution_count": 8,
   "metadata": {},
   "outputs": [
    {
     "data": {
      "text/plain": [
       "25"
      ]
     },
     "execution_count": 8,
     "metadata": {},
     "output_type": "execute_result"
    }
   ],
   "source": [
    "s_3[\"Bob\"]"
   ]
  },
  {
   "cell_type": "code",
   "execution_count": 9,
   "metadata": {},
   "outputs": [
    {
     "data": {
      "text/plain": [
       "25"
      ]
     },
     "execution_count": 9,
     "metadata": {},
     "output_type": "execute_result"
    }
   ],
   "source": [
    "s_3[0]"
   ]
  },
  {
   "cell_type": "code",
   "execution_count": 10,
   "metadata": {},
   "outputs": [
    {
     "data": {
      "text/plain": [
       "25"
      ]
     },
     "execution_count": 10,
     "metadata": {},
     "output_type": "execute_result"
    }
   ],
   "source": [
    "s_3.loc[\"Bob\"]"
   ]
  },
  {
   "cell_type": "code",
   "execution_count": 11,
   "metadata": {},
   "outputs": [
    {
     "data": {
      "text/plain": [
       "26"
      ]
     },
     "execution_count": 11,
     "metadata": {},
     "output_type": "execute_result"
    }
   ],
   "source": [
    "s_3.iloc[1]"
   ]
  },
  {
   "cell_type": "code",
   "execution_count": 12,
   "metadata": {},
   "outputs": [],
   "source": [
    "slice_2 = s_2.iloc[1:3]"
   ]
  },
  {
   "cell_type": "code",
   "execution_count": 13,
   "metadata": {},
   "outputs": [
    {
     "data": {
      "text/plain": [
       "1      9.0\n",
       "2    324.0\n",
       "dtype: float64"
      ]
     },
     "execution_count": 13,
     "metadata": {},
     "output_type": "execute_result"
    }
   ],
   "source": [
    "slice_2 # the index didn't change"
   ]
  },
  {
   "cell_type": "code",
   "execution_count": 14,
   "metadata": {},
   "outputs": [
    {
     "data": {
      "text/plain": [
       "Bob       89\n",
       "Anne      55\n",
       "Chris     70\n",
       "Dan      100\n",
       "dtype: int64"
      ]
     },
     "execution_count": 14,
     "metadata": {},
     "output_type": "execute_result"
    }
   ],
   "source": [
    "heights = {\"Bob\":89, \"Anne\":55, \"Chris\":70, \"Dan\":100}\n",
    "s_4 = pd.Series(heights)\n",
    "s_4"
   ]
  },
  {
   "cell_type": "code",
   "execution_count": 15,
   "metadata": {},
   "outputs": [
    {
     "data": {
      "text/plain": [
       "Dan    100\n",
       "Bob     89\n",
       "dtype: int64"
      ]
     },
     "execution_count": 15,
     "metadata": {},
     "output_type": "execute_result"
    }
   ],
   "source": [
    "s_5 = pd.Series(heights, index=[\"Dan\", \"Bob\"])\n",
    "s_5"
   ]
  },
  {
   "cell_type": "code",
   "execution_count": 16,
   "metadata": {},
   "outputs": [
    {
     "name": "stdout",
     "output_type": "stream",
     "text": [
      "Index(['Bob', 'Alice', 'Chris', 'Dan'], dtype='object') \n",
      " Index(['Bob', 'Anne', 'Chris', 'Dan'], dtype='object')\n"
     ]
    },
    {
     "data": {
      "text/plain": [
       "Alice      NaN\n",
       "Anne       NaN\n",
       "Bob      114.0\n",
       "Chris    134.0\n",
       "Dan      162.0\n",
       "dtype: float64"
      ]
     },
     "execution_count": 16,
     "metadata": {},
     "output_type": "execute_result"
    }
   ],
   "source": [
    "print(s_3.keys(),\"\\n\", s_4.keys())\n",
    "\n",
    "s_3 + s_4"
   ]
  },
  {
   "cell_type": "code",
   "execution_count": 17,
   "metadata": {},
   "outputs": [
    {
     "data": {
      "text/plain": [
       "Random        42\n",
       "Values        42\n",
       "Everywhere    42\n",
       "Have          42\n",
       "Seed          42\n",
       "Equal         42\n",
       "To            42\n",
       "dtype: int64"
      ]
     },
     "execution_count": 17,
     "metadata": {},
     "output_type": "execute_result"
    }
   ],
   "source": [
    "s_6 = pd.Series(42, [\"Random\", \"Values\", \"Everywhere\", \"Have\", \"Seed\", \"Equal\", \"To\"])\n",
    "s_6"
   ]
  },
  {
   "cell_type": "code",
   "execution_count": 18,
   "metadata": {},
   "outputs": [
    {
     "data": {
      "text/plain": [
       "Bob       89\n",
       "Anne      55\n",
       "Chris     70\n",
       "Dan      100\n",
       "Name: Heights, dtype: int64"
      ]
     },
     "execution_count": 18,
     "metadata": {},
     "output_type": "execute_result"
    }
   ],
   "source": [
    "s_7 = pd.Series(heights, name=\"Heights\")\n",
    "s_7"
   ]
  },
  {
   "cell_type": "code",
   "execution_count": 19,
   "metadata": {},
   "outputs": [
    {
     "data": {
      "image/png": "[encoded data removed]",
      "text/plain": [
       "<Figure size 640x480 with 1 Axes>"
      ]
     },
     "metadata": {},
     "output_type": "display_data"
    }
   ],
   "source": [
    "%matplotlib inline\n",
    "import matplotlib.pyplot as plt\n",
    "\n",
    "s_7.plot()\n",
    "plt.show()"
   ]
  },
  {
   "cell_type": "code",
   "execution_count": 20,
   "metadata": {},
   "outputs": [
    {
     "data": {
      "text/plain": [
       "DatetimeIndex(['1998-07-31 19:20:00', '1999-04-30 19:20:00',\n",
       "               '2000-01-31 19:20:00', '2000-10-31 19:20:00',\n",
       "               '2001-07-31 19:20:00', '2002-04-30 19:20:00',\n",
       "               '2003-01-31 19:20:00', '2003-10-31 19:20:00',\n",
       "               '2004-07-31 19:20:00', '2005-04-30 19:20:00'],\n",
       "              dtype='datetime64[ns]', freq='9M')"
      ]
     },
     "execution_count": 20,
     "metadata": {},
     "output_type": "execute_result"
    }
   ],
   "source": [
    "dates = pd.date_range('1998-07-21 7:20pm', periods=100, freq='9M')\n",
    "dates[:10]"
   ]
  },
  {
   "cell_type": "code",
   "execution_count": 21,
   "metadata": {},
   "outputs": [],
   "source": [
    "temperatures = np.array(20 * np.random.rand(100) + 0.45*(np.random.randint(4, size=100))**2 + 5.25*np.random.randint(3, size=100))"
   ]
  },
  {
   "cell_type": "code",
   "execution_count": 22,
   "metadata": {},
   "outputs": [
    {
     "data": {
      "text/plain": [
       "<Axes: >"
      ]
     },
     "execution_count": 22,
     "metadata": {},
     "output_type": "execute_result"
    },
    {
     "data": {
      "image/png": "[encoded data removed]",
      "text/plain": [
       "<Figure size 640x480 with 1 Axes>"
      ]
     },
     "metadata": {},
     "output_type": "display_data"
    }
   ],
   "source": [
    "temp_series = pd.Series(temperatures, dates)\n",
    "temp_series.plot()"
   ]
  },
  {
   "cell_type": "markdown",
   "metadata": {},
   "source": [
    "If we want to change the sample size, we need to resample."
   ]
  },
  {
   "cell_type": "code",
   "execution_count": 23,
   "metadata": {},
   "outputs": [
    {
     "data": {
      "text/plain": [
       "1998-12-31    21.002621\n",
       "2003-12-31    10.518135\n",
       "2008-12-31    13.856792\n",
       "2013-12-31     5.669455\n",
       "2018-12-31     5.308753\n",
       "2023-12-31     1.027025\n",
       "2028-12-31     2.078077\n",
       "2033-12-31     7.672156\n",
       "2038-12-31     9.050379\n",
       "2043-12-31     2.668694\n",
       "2048-12-31    13.886806\n",
       "2053-12-31     9.082259\n",
       "2058-12-31     3.351798\n",
       "2063-12-31     5.729870\n",
       "2068-12-31     7.510638\n",
       "2073-12-31    12.370217\n",
       "Freq: 5A-DEC, dtype: float64"
      ]
     },
     "execution_count": 23,
     "metadata": {},
     "output_type": "execute_result"
    }
   ],
   "source": [
    "temp_series_2 = temp_series.resample(\"5Y\").apply(np.min)\n",
    "temp_series_2"
   ]
  },
  {
   "cell_type": "code",
   "execution_count": 24,
   "metadata": {},
   "outputs": [
    {
     "data": {
      "text/plain": [
       "1998-07-31    21.002621\n",
       "1999-01-31          NaN\n",
       "1999-07-31    10.518135\n",
       "2000-01-31    15.702349\n",
       "2000-07-31          NaN\n",
       "                ...    \n",
       "2071-01-31          NaN\n",
       "2071-07-31    16.636142\n",
       "2072-01-31    23.399368\n",
       "2072-07-31          NaN\n",
       "2073-01-31    22.994610\n",
       "Freq: 6M, Length: 150, dtype: float64"
      ]
     },
     "execution_count": 24,
     "metadata": {},
     "output_type": "execute_result"
    }
   ],
   "source": [
    "temp_series_3 = temp_series.resample(\"6M\").mean()\n",
    "temp_series_3"
   ]
  },
  {
   "cell_type": "code",
   "execution_count": 25,
   "metadata": {},
   "outputs": [
    {
     "data": {
      "text/plain": [
       "1998-07-31    21.002621\n",
       "1999-01-31    10.936962\n",
       "1999-07-31    10.518135\n",
       "2000-01-31    15.702349\n",
       "2000-07-31    22.043933\n",
       "                ...    \n",
       "2071-01-31    17.780420\n",
       "2071-07-31    16.636142\n",
       "2072-01-31    23.399368\n",
       "2072-07-31    29.673905\n",
       "2073-01-31    22.994610\n",
       "Freq: 6M, Length: 150, dtype: float64"
      ]
     },
     "execution_count": 25,
     "metadata": {},
     "output_type": "execute_result"
    }
   ],
   "source": [
    "temp_series_3a = temp_series.resample(\"6M\").mean().interpolate(method=\"cubicspline\")\n",
    "temp_series_3a"
   ]
  },
  {
   "cell_type": "code",
   "execution_count": 26,
   "metadata": {},
   "outputs": [
    {
     "data": {
      "text/plain": [
       "1998-12-31    21.002621\n",
       "2003-12-31    24.098039\n",
       "2008-12-31    22.378014\n",
       "2013-12-31    27.964518\n",
       "2018-12-31    26.291118\n",
       "2023-12-31    32.242044\n",
       "2028-12-31    23.020053\n",
       "2033-12-31    33.214306\n",
       "2038-12-31    29.659878\n",
       "2043-12-31    23.251113\n",
       "2048-12-31    32.491972\n",
       "2053-12-31    28.940419\n",
       "2058-12-31    33.326671\n",
       "2063-12-31    13.192143\n",
       "2068-12-31    24.498012\n",
       "2073-12-31    23.399368\n",
       "Freq: 5A-DEC, dtype: float64"
      ]
     },
     "execution_count": 26,
     "metadata": {},
     "output_type": "execute_result"
    }
   ],
   "source": [
    "temp_series_4 = temp_series.resample(\"5Y\").apply(np.max)\n",
    "temp_series_4"
   ]
  },
  {
   "cell_type": "code",
   "execution_count": 27,
   "metadata": {},
   "outputs": [
    {
     "data": {
      "image/png": "[encoded data removed]",
      "text/plain": [
       "<Figure size 640x480 with 1 Axes>"
      ]
     },
     "metadata": {},
     "output_type": "display_data"
    }
   ],
   "source": [
    "temp_series.plot(label=\"9M period\")\n",
    "temp_series_2.plot(label=\"5Y min\")\n",
    "temp_series_3a.plot(label=\"6M interpolated\")\n",
    "temp_series_4.plot(label=\"5Y max\")\n",
    "\n",
    "plt.legend()\n",
    "plt.show()"
   ]
  },
  {
   "cell_type": "markdown",
   "metadata": {},
   "source": [
    "Time zones"
   ]
  },
  {
   "cell_type": "code",
   "execution_count": 28,
   "metadata": {},
   "outputs": [
    {
     "data": {
      "text/plain": [
       "1998-07-31 19:20:00-07:00    21.002621\n",
       "1999-04-30 19:20:00-07:00    10.518135\n",
       "2000-01-31 19:20:00-08:00    15.702349\n",
       "2000-10-31 19:20:00-08:00    23.753141\n",
       "2001-07-31 19:20:00-07:00    18.553532\n",
       "                               ...    \n",
       "2069-10-31 19:20:00-08:00    12.370217\n",
       "2070-07-31 19:20:00-08:00    18.295451\n",
       "2071-04-30 19:20:00-08:00    16.636142\n",
       "2072-01-31 19:20:00-08:00    23.399368\n",
       "2072-10-31 19:20:00-08:00    22.994610\n",
       "Length: 100, dtype: float64"
      ]
     },
     "execution_count": 28,
     "metadata": {},
     "output_type": "execute_result"
    }
   ],
   "source": [
    "time_series_la = temp_series.tz_localize(\"America/Los_Angeles\")\n",
    "time_series_la"
   ]
  },
  {
   "cell_type": "code",
   "execution_count": 31,
   "metadata": {},
   "outputs": [
    {
     "data": {
      "text/plain": [
       "1998-08-01 04:20:00+02:00    21.002621\n",
       "1999-05-01 04:20:00+02:00    10.518135\n",
       "2000-02-01 04:20:00+01:00    15.702349\n",
       "2000-11-01 04:20:00+01:00    23.753141\n",
       "2001-08-01 04:20:00+02:00    18.553532\n",
       "                               ...    \n",
       "2069-11-01 04:20:00+01:00    12.370217\n",
       "2070-08-01 04:20:00+01:00    18.295451\n",
       "2071-05-01 04:20:00+01:00    16.636142\n",
       "2072-02-01 04:20:00+01:00    23.399368\n",
       "2072-11-01 04:20:00+01:00    22.994610\n",
       "Length: 100, dtype: float64"
      ]
     },
     "execution_count": 31,
     "metadata": {},
     "output_type": "execute_result"
    }
   ],
   "source": [
    "time_series_waw = time_series_la.tz_convert(\"Europe/Warsaw\")\n",
    "time_series_waw"
   ]
  },
  {
   "cell_type": "markdown",
   "metadata": {},
   "source": [
    "## Periods\n",
    "\n",
    "`pd.period_range()` returns `PeriodIndex` object"
   ]
  },
  {
   "cell_type": "code",
   "execution_count": 33,
   "metadata": {},
   "outputs": [
    {
     "data": {
      "text/plain": [
       "PeriodIndex(['2023Q1', '2023Q2', '2023Q3', '2023Q4', '2024Q1', '2024Q2',\n",
       "             '2024Q3', '2024Q4', '2025Q1', '2025Q2'],\n",
       "            dtype='period[Q-DEC]')"
      ]
     },
     "execution_count": 33,
     "metadata": {},
     "output_type": "execute_result"
    }
   ],
   "source": [
    "quarters = pd.period_range('2023Q1', periods=10, freq='Q')\n",
    "quarters"
   ]
  },
  {
   "cell_type": "code",
   "execution_count": 34,
   "metadata": {},
   "outputs": [
    {
     "data": {
      "text/plain": [
       "PeriodIndex(['2024Q2', '2024Q3', '2024Q4', '2025Q1', '2025Q2', '2025Q3',\n",
       "             '2025Q4', '2026Q1', '2026Q2', '2026Q3'],\n",
       "            dtype='period[Q-DEC]')"
      ]
     },
     "execution_count": 34,
     "metadata": {},
     "output_type": "execute_result"
    }
   ],
   "source": [
    "quarters + 5 # adds 5 quarters to every instance"
   ]
  },
  {
   "cell_type": "code",
   "execution_count": 36,
   "metadata": {},
   "outputs": [
    {
     "data": {
      "text/plain": [
       "PeriodIndex(['2023-03', '2023-06', '2023-09', '2023-12', '2024-03', '2024-06',\n",
       "             '2024-09', '2024-12', '2025-03', '2025-06'],\n",
       "            dtype='period[M]')"
      ]
     },
     "execution_count": 36,
     "metadata": {},
     "output_type": "execute_result"
    }
   ],
   "source": [
    "quarters.asfreq(\"M\") # converts to month. Last month of the period is shown by default."
   ]
  },
  {
   "cell_type": "code",
   "execution_count": 37,
   "metadata": {},
   "outputs": [
    {
     "data": {
      "text/plain": [
       "PeriodIndex(['2023-01', '2023-04', '2023-07', '2023-10', '2024-01', '2024-04',\n",
       "             '2024-07', '2024-10', '2025-01', '2025-04'],\n",
       "            dtype='period[M]')"
      ]
     },
     "execution_count": 37,
     "metadata": {},
     "output_type": "execute_result"
    }
   ],
   "source": [
    "quarters.asfreq(\"M\", how=\"START\")"
   ]
  },
  {
   "cell_type": "code",
   "execution_count": 39,
   "metadata": {},
   "outputs": [
    {
     "data": {
      "text/plain": [
       "PeriodIndex(['2023', '2023', '2023', '2023', '2024', '2024', '2024', '2024',\n",
       "             '2025', '2025'],\n",
       "            dtype='period[A-DEC]')"
      ]
     },
     "execution_count": 39,
     "metadata": {},
     "output_type": "execute_result"
    }
   ],
   "source": [
    "quarters.asfreq(\"A\") # Annum - year"
   ]
  },
  {
   "cell_type": "code",
   "execution_count": 41,
   "metadata": {},
   "outputs": [
    {
     "data": {
      "text/plain": [
       "2023Q1    210\n",
       "2023Q2    340\n",
       "2023Q3    520\n",
       "2023Q4    300\n",
       "2024Q1    490\n",
       "2024Q2    420\n",
       "2024Q3    380\n",
       "2024Q4    270\n",
       "2025Q1    330\n",
       "2025Q2    500\n",
       "Freq: Q-DEC, dtype: int64"
      ]
     },
     "execution_count": 41,
     "metadata": {},
     "output_type": "execute_result"
    }
   ],
   "source": [
    "quarterly_revenue = pd.Series([210, 340, 520, 300, 490, 420, 380, 270, 330, 500], index=quarters) \n",
    "# the length of values and index needs to align\n",
    "quarterly_revenue"
   ]
  },
  {
   "cell_type": "code",
   "execution_count": 42,
   "metadata": {},
   "outputs": [
    {
     "data": {
      "text/plain": [
       "<Axes: >"
      ]
     },
     "execution_count": 42,
     "metadata": {},
     "output_type": "execute_result"
    },
    {
     "data": {
      "image/png": "[encoded data removed]",
      "text/plain": [
       "<Figure size 640x480 with 1 Axes>"
      ]
     },
     "metadata": {},
     "output_type": "display_data"
    }
   ],
   "source": [
    "quarterly_revenue.plot()"
   ]
  },
  {
   "cell_type": "code",
   "execution_count": 44,
   "metadata": {},
   "outputs": [
    {
     "data": {
      "text/plain": [
       "2023-03-31 23:59:59.999999999    210\n",
       "2023-06-30 23:59:59.999999999    340\n",
       "2023-09-30 23:59:59.999999999    520\n",
       "2023-12-31 23:59:59.999999999    300\n",
       "2024-03-31 23:59:59.999999999    490\n",
       "2024-06-30 23:59:59.999999999    420\n",
       "2024-09-30 23:59:59.999999999    380\n",
       "2024-12-31 23:59:59.999999999    270\n",
       "2025-03-31 23:59:59.999999999    330\n",
       "2025-06-30 23:59:59.999999999    500\n",
       "dtype: int64"
      ]
     },
     "execution_count": 44,
     "metadata": {},
     "output_type": "execute_result"
    }
   ],
   "source": [
    "last_hours = quarterly_revenue.to_timestamp(how=\"end\", freq=\"H\")\n",
    "last_hours"
   ]
  },
  {
   "cell_type": "code",
   "execution_count": 46,
   "metadata": {},
   "outputs": [
    {
     "data": {
      "text/plain": [
       "2023Q1    210\n",
       "2023Q2    340\n",
       "2023Q3    520\n",
       "2023Q4    300\n",
       "2024Q1    490\n",
       "2024Q2    420\n",
       "2024Q3    380\n",
       "2024Q4    270\n",
       "2025Q1    330\n",
       "2025Q2    500\n",
       "Freq: Q-DEC, dtype: int64"
      ]
     },
     "execution_count": 46,
     "metadata": {},
     "output_type": "execute_result"
    }
   ],
   "source": [
    "last_hours.to_period()"
   ]
  },
  {
   "cell_type": "code",
   "execution_count": 48,
   "metadata": {},
   "outputs": [
    {
     "data": {
      "text/plain": [
       "PeriodIndex(['2023-01-31 09:00', '2023-02-28 09:00', '2023-03-31 09:00',\n",
       "             '2023-04-28 09:00', '2023-05-31 09:00', '2023-06-30 09:00',\n",
       "             '2023-07-31 09:00', '2023-08-31 09:00', '2023-09-29 09:00',\n",
       "             '2023-10-31 09:00', '2023-11-30 09:00', '2023-12-29 09:00'],\n",
       "            dtype='period[H]')"
      ]
     },
     "execution_count": 48,
     "metadata": {},
     "output_type": "execute_result"
    }
   ],
   "source": [
    "months_2023 = pd.period_range(\"2023\", periods=12, freq=\"M\")\n",
    "one_day_after_last = months_2023.asfreq(\"D\") + 1\n",
    "last_business_days = one_day_after_last.to_timestamp() - pd.tseries.offsets.BDay()\n",
    "last_business_days.to_period(\"H\") + 9 # Last business days in every month of 2023."
   ]
  },
  {
   "cell_type": "markdown",
   "metadata": {},
   "source": [
    "## `DataFrame` objects"
   ]
  },
  {
   "cell_type": "code",
   "execution_count": 49,
   "metadata": {},
   "outputs": [
    {
     "data": {
      "text/html": [
       "<div>\n",
       "<style scoped>\n",
       "    .dataframe tbody tr th:only-of-type {\n",
       "        vertical-align: middle;\n",
       "    }\n",
       "\n",
       "    .dataframe tbody tr th {\n",
       "        vertical-align: top;\n",
       "    }\n",
       "\n",
       "    .dataframe thead th {\n",
       "        text-align: right;\n",
       "    }\n",
       "</style>\n",
       "<table border=\"1\" class=\"dataframe\">\n",
       "  <thead>\n",
       "    <tr style=\"text-align: right;\">\n",
       "      <th></th>\n",
       "      <th>weight</th>\n",
       "      <th>year_birth</th>\n",
       "      <th>children</th>\n",
       "      <th>hobby</th>\n",
       "    </tr>\n",
       "  </thead>\n",
       "  <tbody>\n",
       "    <tr>\n",
       "      <th>Anne</th>\n",
       "      <td>54</td>\n",
       "      <td>2005</td>\n",
       "      <td>2.0</td>\n",
       "      <td>Singing</td>\n",
       "    </tr>\n",
       "    <tr>\n",
       "      <th>Billy</th>\n",
       "      <td>93</td>\n",
       "      <td>1995</td>\n",
       "      <td>1.0</td>\n",
       "      <td>Riding</td>\n",
       "    </tr>\n",
       "    <tr>\n",
       "      <th>Susan</th>\n",
       "      <td>69</td>\n",
       "      <td>1997</td>\n",
       "      <td>NaN</td>\n",
       "      <td>Dancing</td>\n",
       "    </tr>\n",
       "    <tr>\n",
       "      <th>Tom</th>\n",
       "      <td>85</td>\n",
       "      <td>1990</td>\n",
       "      <td>0.0</td>\n",
       "      <td>NaN</td>\n",
       "    </tr>\n",
       "  </tbody>\n",
       "</table>\n",
       "</div>"
      ],
      "text/plain": [
       "       weight  year_birth  children    hobby\n",
       "Anne       54        2005       2.0  Singing\n",
       "Billy      93        1995       1.0   Riding\n",
       "Susan      69        1997       NaN  Dancing\n",
       "Tom        85        1990       0.0      NaN"
      ]
     },
     "execution_count": 49,
     "metadata": {},
     "output_type": "execute_result"
    }
   ],
   "source": [
    "customers = pd.DataFrame({\n",
    "    \"weight\": pd.Series([54, 85, 93, 69], index=[\"Anne\", \"Tom\", \"Billy\", \"Susan\"], name=\"Weight\"),\n",
    "    \"year_birth\": pd.Series([1990, 1995, 1997, 2005], index=[\"Tom\", \"Billy\", \"Susan\", \"Anne\"], name=\"Year\"),\n",
    "    \"children\": pd.Series([0, 2, 1], index=[\"Tom\", \"Anne\", \"Billy\"]),\n",
    "    \"hobby\": pd.Series([\"Riding\", \"Dancing\", \"Singing\"], index=[\"Billy\", \"Susan\", \"Anne\"], name=\"Hobby\")\n",
    "})\n",
    "customers"
   ]
  },
  {
   "cell_type": "code",
   "execution_count": 50,
   "metadata": {},
   "outputs": [
    {
     "data": {
      "text/plain": [
       "Anne     54\n",
       "Billy    93\n",
       "Susan    69\n",
       "Tom      85\n",
       "Name: weight, dtype: int64"
      ]
     },
     "execution_count": 50,
     "metadata": {},
     "output_type": "execute_result"
    }
   ],
   "source": [
    "customers[\"weight\"] # pd.Series"
   ]
  },
  {
   "cell_type": "code",
   "execution_count": 51,
   "metadata": {},
   "outputs": [
    {
     "data": {
      "text/html": [
       "<div>\n",
       "<style scoped>\n",
       "    .dataframe tbody tr th:only-of-type {\n",
       "        vertical-align: middle;\n",
       "    }\n",
       "\n",
       "    .dataframe tbody tr th {\n",
       "        vertical-align: top;\n",
       "    }\n",
       "\n",
       "    .dataframe thead th {\n",
       "        text-align: right;\n",
       "    }\n",
       "</style>\n",
       "<table border=\"1\" class=\"dataframe\">\n",
       "  <thead>\n",
       "    <tr style=\"text-align: right;\">\n",
       "      <th></th>\n",
       "      <th>weight</th>\n",
       "      <th>children</th>\n",
       "    </tr>\n",
       "  </thead>\n",
       "  <tbody>\n",
       "    <tr>\n",
       "      <th>Anne</th>\n",
       "      <td>54</td>\n",
       "      <td>2.0</td>\n",
       "    </tr>\n",
       "    <tr>\n",
       "      <th>Billy</th>\n",
       "      <td>93</td>\n",
       "      <td>1.0</td>\n",
       "    </tr>\n",
       "    <tr>\n",
       "      <th>Susan</th>\n",
       "      <td>69</td>\n",
       "      <td>NaN</td>\n",
       "    </tr>\n",
       "    <tr>\n",
       "      <th>Tom</th>\n",
       "      <td>85</td>\n",
       "      <td>0.0</td>\n",
       "    </tr>\n",
       "  </tbody>\n",
       "</table>\n",
       "</div>"
      ],
      "text/plain": [
       "       weight  children\n",
       "Anne       54       2.0\n",
       "Billy      93       1.0\n",
       "Susan      69       NaN\n",
       "Tom        85       0.0"
      ]
     },
     "execution_count": 51,
     "metadata": {},
     "output_type": "execute_result"
    }
   ],
   "source": [
    "customers[[\"weight\", \"children\"]]"
   ]
  },
  {
   "cell_type": "code",
   "execution_count": 54,
   "metadata": {},
   "outputs": [
    {
     "data": {
      "text/html": [
       "<div>\n",
       "<style scoped>\n",
       "    .dataframe tbody tr th:only-of-type {\n",
       "        vertical-align: middle;\n",
       "    }\n",
       "\n",
       "    .dataframe tbody tr th {\n",
       "        vertical-align: top;\n",
       "    }\n",
       "\n",
       "    .dataframe thead th {\n",
       "        text-align: right;\n",
       "    }\n",
       "</style>\n",
       "<table border=\"1\" class=\"dataframe\">\n",
       "  <thead>\n",
       "    <tr style=\"text-align: right;\">\n",
       "      <th></th>\n",
       "      <th>year_birth</th>\n",
       "      <th>children</th>\n",
       "      <th>hobby</th>\n",
       "      <th>city</th>\n",
       "    </tr>\n",
       "  </thead>\n",
       "  <tbody>\n",
       "    <tr>\n",
       "      <th>Billy</th>\n",
       "      <td>1995</td>\n",
       "      <td>1.0</td>\n",
       "      <td>Riding</td>\n",
       "      <td>NaN</td>\n",
       "    </tr>\n",
       "    <tr>\n",
       "      <th>Tom</th>\n",
       "      <td>1990</td>\n",
       "      <td>0.0</td>\n",
       "      <td>NaN</td>\n",
       "      <td>NaN</td>\n",
       "    </tr>\n",
       "    <tr>\n",
       "      <th>Susan</th>\n",
       "      <td>1997</td>\n",
       "      <td>NaN</td>\n",
       "      <td>Dancing</td>\n",
       "      <td>NaN</td>\n",
       "    </tr>\n",
       "  </tbody>\n",
       "</table>\n",
       "</div>"
      ],
      "text/plain": [
       "       year_birth  children    hobby  city\n",
       "Billy        1995       1.0   Riding   NaN\n",
       "Tom          1990       0.0      NaN   NaN\n",
       "Susan        1997       NaN  Dancing   NaN"
      ]
     },
     "execution_count": 54,
     "metadata": {},
     "output_type": "execute_result"
    }
   ],
   "source": [
    "df_2 = pd.DataFrame(\n",
    "    customers,\n",
    "    columns=[\"year_birth\", \"children\", \"hobby\", \"city\"],\n",
    "    index=[\"Billy\", \"Tom\", \"Susan\"]\n",
    ")\n",
    "df_2 # new DataFrame created from part of the customers dataframe"
   ]
  },
  {
   "cell_type": "code",
   "execution_count": 55,
   "metadata": {},
   "outputs": [
    {
     "data": {
      "text/html": [
       "<div>\n",
       "<style scoped>\n",
       "    .dataframe tbody tr th:only-of-type {\n",
       "        vertical-align: middle;\n",
       "    }\n",
       "\n",
       "    .dataframe tbody tr th {\n",
       "        vertical-align: top;\n",
       "    }\n",
       "\n",
       "    .dataframe thead th {\n",
       "        text-align: right;\n",
       "    }\n",
       "</style>\n",
       "<table border=\"1\" class=\"dataframe\">\n",
       "  <thead>\n",
       "    <tr style=\"text-align: right;\">\n",
       "      <th></th>\n",
       "      <th>Weight</th>\n",
       "      <th>Children</th>\n",
       "      <th>Hobby</th>\n",
       "      <th>Year of Birth</th>\n",
       "    </tr>\n",
       "  </thead>\n",
       "  <tbody>\n",
       "    <tr>\n",
       "      <th>Alex</th>\n",
       "      <td>67</td>\n",
       "      <td>NaN</td>\n",
       "      <td>Swimming</td>\n",
       "      <td>1990</td>\n",
       "    </tr>\n",
       "    <tr>\n",
       "      <th>Robert</th>\n",
       "      <td>94</td>\n",
       "      <td>3.0</td>\n",
       "      <td>Dancing</td>\n",
       "      <td>2000</td>\n",
       "    </tr>\n",
       "    <tr>\n",
       "      <th>Victoria</th>\n",
       "      <td>56</td>\n",
       "      <td>0.0</td>\n",
       "      <td>Basketball</td>\n",
       "      <td>1998</td>\n",
       "    </tr>\n",
       "  </tbody>\n",
       "</table>\n",
       "</div>"
      ],
      "text/plain": [
       "          Weight  Children       Hobby  Year of Birth\n",
       "Alex          67       NaN    Swimming           1990\n",
       "Robert        94       3.0     Dancing           2000\n",
       "Victoria      56       0.0  Basketball           1998"
      ]
     },
     "execution_count": 55,
     "metadata": {},
     "output_type": "execute_result"
    }
   ],
   "source": [
    "values = [\n",
    "    [67, np.nan, \"Swimming\", 1990],\n",
    "    [94, 3, \"Dancing\", 2000],\n",
    "    [56, 0, \"Basketball\", 1998]\n",
    "]\n",
    "\n",
    "df_3 = pd.DataFrame(\n",
    "    values,\n",
    "    columns=[\"Weight\", \"Children\", \"Hobby\", \"Year of Birth\"],\n",
    "    index=[\"Alex\", \"Robert\", \"Victoria\"]\n",
    ")\n",
    "\n",
    "df_3"
   ]
  },
  {
   "cell_type": "code",
   "execution_count": 57,
   "metadata": {},
   "outputs": [
    {
     "data": {
      "text/html": [
       "<div>\n",
       "<style scoped>\n",
       "    .dataframe tbody tr th:only-of-type {\n",
       "        vertical-align: middle;\n",
       "    }\n",
       "\n",
       "    .dataframe tbody tr th {\n",
       "        vertical-align: top;\n",
       "    }\n",
       "\n",
       "    .dataframe thead th {\n",
       "        text-align: right;\n",
       "    }\n",
       "</style>\n",
       "<table border=\"1\" class=\"dataframe\">\n",
       "  <thead>\n",
       "    <tr style=\"text-align: right;\">\n",
       "      <th></th>\n",
       "      <th>year_birth</th>\n",
       "      <th>children</th>\n",
       "      <th>hobby</th>\n",
       "      <th>weight</th>\n",
       "    </tr>\n",
       "  </thead>\n",
       "  <tbody>\n",
       "    <tr>\n",
       "      <th>Billy</th>\n",
       "      <td>67</td>\n",
       "      <td>NaN</td>\n",
       "      <td>Swimming</td>\n",
       "      <td>1990</td>\n",
       "    </tr>\n",
       "    <tr>\n",
       "      <th>Susan</th>\n",
       "      <td>94</td>\n",
       "      <td>3</td>\n",
       "      <td>Dancing</td>\n",
       "      <td>2000</td>\n",
       "    </tr>\n",
       "    <tr>\n",
       "      <th>Tom</th>\n",
       "      <td>56</td>\n",
       "      <td>0</td>\n",
       "      <td>NaN</td>\n",
       "      <td>1998</td>\n",
       "    </tr>\n",
       "  </tbody>\n",
       "</table>\n",
       "</div>"
      ],
      "text/plain": [
       "      year_birth children     hobby weight\n",
       "Billy         67      NaN  Swimming   1990\n",
       "Susan         94        3   Dancing   2000\n",
       "Tom           56        0       NaN   1998"
      ]
     },
     "execution_count": 57,
     "metadata": {},
     "output_type": "execute_result"
    }
   ],
   "source": [
    "masked_array = np.ma.asarray(values, dtype=object)\n",
    "masked_array[(0, 2), (1, 2)] = np.ma.masked\n",
    "\n",
    "df_4 = pd.DataFrame(\n",
    "    masked_array,\n",
    "    columns=[\"year_birth\", \"children\", \"hobby\", \"weight\"],\n",
    "    index=[\"Billy\", \"Susan\", \"Tom\"]\n",
    ")\n",
    "\n",
    "df_4"
   ]
  },
  {
   "cell_type": "markdown",
   "metadata": {},
   "source": [
    "## MultiIndexing"
   ]
  },
  {
   "cell_type": "code",
   "execution_count": 59,
   "metadata": {},
   "outputs": [
    {
     "data": {
      "text/html": [
       "<div>\n",
       "<style scoped>\n",
       "    .dataframe tbody tr th:only-of-type {\n",
       "        vertical-align: middle;\n",
       "    }\n",
       "\n",
       "    .dataframe tbody tr th {\n",
       "        vertical-align: top;\n",
       "    }\n",
       "\n",
       "    .dataframe thead tr th {\n",
       "        text-align: left;\n",
       "    }\n",
       "</style>\n",
       "<table border=\"1\" class=\"dataframe\">\n",
       "  <thead>\n",
       "    <tr>\n",
       "      <th></th>\n",
       "      <th></th>\n",
       "      <th colspan=\"2\" halign=\"left\">public</th>\n",
       "      <th colspan=\"2\" halign=\"left\">private</th>\n",
       "    </tr>\n",
       "    <tr>\n",
       "      <th></th>\n",
       "      <th></th>\n",
       "      <th>year_birth</th>\n",
       "      <th>hobby</th>\n",
       "      <th>weight</th>\n",
       "      <th>children</th>\n",
       "    </tr>\n",
       "  </thead>\n",
       "  <tbody>\n",
       "    <tr>\n",
       "      <th>London</th>\n",
       "      <th>Alice</th>\n",
       "      <td>1994</td>\n",
       "      <td>Bicycles</td>\n",
       "      <td>64</td>\n",
       "      <td>NaN</td>\n",
       "    </tr>\n",
       "    <tr>\n",
       "      <th>Paris</th>\n",
       "      <th>Bob</th>\n",
       "      <td>2003</td>\n",
       "      <td>Swimming</td>\n",
       "      <td>79</td>\n",
       "      <td>3.0</td>\n",
       "    </tr>\n",
       "    <tr>\n",
       "      <th>Warsaw</th>\n",
       "      <th>George</th>\n",
       "      <td>2001</td>\n",
       "      <td>Football</td>\n",
       "      <td>92</td>\n",
       "      <td>1.0</td>\n",
       "    </tr>\n",
       "  </tbody>\n",
       "</table>\n",
       "</div>"
      ],
      "text/plain": [
       "                  public           private         \n",
       "              year_birth     hobby  weight children\n",
       "London Alice        1994  Bicycles      64      NaN\n",
       "Paris  Bob          2003  Swimming      79      3.0\n",
       "Warsaw George       2001  Football      92      1.0"
      ]
     },
     "execution_count": 59,
     "metadata": {},
     "output_type": "execute_result"
    }
   ],
   "source": [
    "df_5 = pd.DataFrame(\n",
    "    {\n",
    "        (\"public\", \"year_birth\"):\n",
    "            {(\"London\", \"Alice\"):1994, (\"Paris\", \"Bob\"):2003, (\"Warsaw\", \"George\"):2001},\n",
    "        (\"public\", \"hobby\"):\n",
    "            {(\"London\", \"Alice\"):\"Bicycles\", (\"Paris\", \"Bob\"):\"Swimming\", (\"Warsaw\", \"George\"):\"Football\"},\n",
    "        (\"private\", \"weight\"):\n",
    "            {(\"London\", \"Alice\"):64, (\"Paris\", \"Bob\"):79, (\"Warsaw\", \"George\"):92},\n",
    "        (\"private\", \"children\"):\n",
    "            {(\"London\", \"Alice\"):np.nan, (\"Paris\", \"Bob\"):3, (\"Warsaw\", \"George\"):1},\n",
    "    }\n",
    ")\n",
    "\n",
    "df_5"
   ]
  },
  {
   "cell_type": "code",
   "execution_count": 60,
   "metadata": {},
   "outputs": [
    {
     "data": {
      "text/html": [
       "<div>\n",
       "<style scoped>\n",
       "    .dataframe tbody tr th:only-of-type {\n",
       "        vertical-align: middle;\n",
       "    }\n",
       "\n",
       "    .dataframe tbody tr th {\n",
       "        vertical-align: top;\n",
       "    }\n",
       "\n",
       "    .dataframe thead th {\n",
       "        text-align: right;\n",
       "    }\n",
       "</style>\n",
       "<table border=\"1\" class=\"dataframe\">\n",
       "  <thead>\n",
       "    <tr style=\"text-align: right;\">\n",
       "      <th></th>\n",
       "      <th></th>\n",
       "      <th>weight</th>\n",
       "      <th>children</th>\n",
       "    </tr>\n",
       "  </thead>\n",
       "  <tbody>\n",
       "    <tr>\n",
       "      <th>London</th>\n",
       "      <th>Alice</th>\n",
       "      <td>64</td>\n",
       "      <td>NaN</td>\n",
       "    </tr>\n",
       "    <tr>\n",
       "      <th>Paris</th>\n",
       "      <th>Bob</th>\n",
       "      <td>79</td>\n",
       "      <td>3.0</td>\n",
       "    </tr>\n",
       "    <tr>\n",
       "      <th>Warsaw</th>\n",
       "      <th>George</th>\n",
       "      <td>92</td>\n",
       "      <td>1.0</td>\n",
       "    </tr>\n",
       "  </tbody>\n",
       "</table>\n",
       "</div>"
      ],
      "text/plain": [
       "               weight  children\n",
       "London Alice       64       NaN\n",
       "Paris  Bob         79       3.0\n",
       "Warsaw George      92       1.0"
      ]
     },
     "execution_count": 60,
     "metadata": {},
     "output_type": "execute_result"
    }
   ],
   "source": [
    "df_5[\"private\"]"
   ]
  },
  {
   "cell_type": "code",
   "execution_count": 61,
   "metadata": {},
   "outputs": [
    {
     "data": {
      "text/plain": [
       "London  Alice     Bicycles\n",
       "Paris   Bob       Swimming\n",
       "Warsaw  George    Football\n",
       "Name: (public, hobby), dtype: object"
      ]
     },
     "execution_count": 61,
     "metadata": {},
     "output_type": "execute_result"
    }
   ],
   "source": [
    "df_5[\"public\", \"hobby\"]"
   ]
  },
  {
   "cell_type": "markdown",
   "metadata": {},
   "source": [
    "## Deleting level"
   ]
  },
  {
   "cell_type": "code",
   "execution_count": 62,
   "metadata": {},
   "outputs": [
    {
     "data": {
      "text/html": [
       "<div>\n",
       "<style scoped>\n",
       "    .dataframe tbody tr th:only-of-type {\n",
       "        vertical-align: middle;\n",
       "    }\n",
       "\n",
       "    .dataframe tbody tr th {\n",
       "        vertical-align: top;\n",
       "    }\n",
       "\n",
       "    .dataframe thead tr th {\n",
       "        text-align: left;\n",
       "    }\n",
       "</style>\n",
       "<table border=\"1\" class=\"dataframe\">\n",
       "  <thead>\n",
       "    <tr>\n",
       "      <th></th>\n",
       "      <th></th>\n",
       "      <th colspan=\"2\" halign=\"left\">public</th>\n",
       "      <th colspan=\"2\" halign=\"left\">private</th>\n",
       "    </tr>\n",
       "    <tr>\n",
       "      <th></th>\n",
       "      <th></th>\n",
       "      <th>year_birth</th>\n",
       "      <th>hobby</th>\n",
       "      <th>weight</th>\n",
       "      <th>children</th>\n",
       "    </tr>\n",
       "  </thead>\n",
       "  <tbody>\n",
       "    <tr>\n",
       "      <th>London</th>\n",
       "      <th>Alice</th>\n",
       "      <td>1994</td>\n",
       "      <td>Bicycles</td>\n",
       "      <td>64</td>\n",
       "      <td>NaN</td>\n",
       "    </tr>\n",
       "    <tr>\n",
       "      <th>Paris</th>\n",
       "      <th>Bob</th>\n",
       "      <td>2003</td>\n",
       "      <td>Swimming</td>\n",
       "      <td>79</td>\n",
       "      <td>3.0</td>\n",
       "    </tr>\n",
       "    <tr>\n",
       "      <th>Warsaw</th>\n",
       "      <th>George</th>\n",
       "      <td>2001</td>\n",
       "      <td>Football</td>\n",
       "      <td>92</td>\n",
       "      <td>1.0</td>\n",
       "    </tr>\n",
       "  </tbody>\n",
       "</table>\n",
       "</div>"
      ],
      "text/plain": [
       "                  public           private         \n",
       "              year_birth     hobby  weight children\n",
       "London Alice        1994  Bicycles      64      NaN\n",
       "Paris  Bob          2003  Swimming      79      3.0\n",
       "Warsaw George       2001  Football      92      1.0"
      ]
     },
     "execution_count": 62,
     "metadata": {},
     "output_type": "execute_result"
    }
   ],
   "source": [
    "df_5"
   ]
  },
  {
   "cell_type": "code",
   "execution_count": 68,
   "metadata": {},
   "outputs": [
    {
     "data": {
      "text/html": [
       "<div>\n",
       "<style scoped>\n",
       "    .dataframe tbody tr th:only-of-type {\n",
       "        vertical-align: middle;\n",
       "    }\n",
       "\n",
       "    .dataframe tbody tr th {\n",
       "        vertical-align: top;\n",
       "    }\n",
       "\n",
       "    .dataframe thead th {\n",
       "        text-align: right;\n",
       "    }\n",
       "</style>\n",
       "<table border=\"1\" class=\"dataframe\">\n",
       "  <thead>\n",
       "    <tr style=\"text-align: right;\">\n",
       "      <th></th>\n",
       "      <th></th>\n",
       "      <th>year_birth</th>\n",
       "      <th>hobby</th>\n",
       "      <th>weight</th>\n",
       "      <th>children</th>\n",
       "    </tr>\n",
       "  </thead>\n",
       "  <tbody>\n",
       "    <tr>\n",
       "      <th>London</th>\n",
       "      <th>Alice</th>\n",
       "      <td>1994</td>\n",
       "      <td>Bicycles</td>\n",
       "      <td>64</td>\n",
       "      <td>NaN</td>\n",
       "    </tr>\n",
       "    <tr>\n",
       "      <th>Paris</th>\n",
       "      <th>Bob</th>\n",
       "      <td>2003</td>\n",
       "      <td>Swimming</td>\n",
       "      <td>79</td>\n",
       "      <td>3.0</td>\n",
       "    </tr>\n",
       "    <tr>\n",
       "      <th>Warsaw</th>\n",
       "      <th>George</th>\n",
       "      <td>2001</td>\n",
       "      <td>Football</td>\n",
       "      <td>92</td>\n",
       "      <td>1.0</td>\n",
       "    </tr>\n",
       "  </tbody>\n",
       "</table>\n",
       "</div>"
      ],
      "text/plain": [
       "               year_birth     hobby  weight  children\n",
       "London Alice         1994  Bicycles      64       NaN\n",
       "Paris  Bob           2003  Swimming      79       3.0\n",
       "Warsaw George        2001  Football      92       1.0"
      ]
     },
     "execution_count": 68,
     "metadata": {},
     "output_type": "execute_result"
    }
   ],
   "source": [
    "df_5.columns = df_5.columns.droplevel(level=0)\n",
    "df_5"
   ]
  },
  {
   "cell_type": "code",
   "execution_count": null,
   "metadata": {},
   "outputs": [],
   "source": []
  }
 ],
 "metadata": {
  "kernelspec": {
   "display_name": "venv",
   "language": "python",
   "name": "python3"
  },
  "language_info": {
   "codemirror_mode": {
    "name": "ipython",
    "version": 3
   },
   "file_extension": ".py",
   "mimetype": "text/x-python",
   "name": "python",
   "nbconvert_exporter": "python",
   "pygments_lexer": "ipython3",
   "version": "3.11.5"
  },
  "orig_nbformat": 4
 },
 "nbformat": 4,
 "nbformat_minor": 2
}
