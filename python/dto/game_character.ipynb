{
 "cells": [
  {
   "cell_type": "markdown",
   "metadata": {},
   "source": [
    "# DTO\n",
    "DTOs can be created even using basic dictionary syntax.\n",
    "### Basic classes ###"
   ]
  },
  {
   "cell_type": "code",
   "execution_count": 1,
   "metadata": {},
   "outputs": [],
   "source": [
    "class Damage:\n",
    "    def __init__(self, type: str) -> None:\n",
    "        self.type = type\n",
    "\n",
    "    def __repr__(self) -> str:\n",
    "        return f\"Damage(type={self.type})\"\n",
    "\n",
    "    def __eq__(self, other) -> bool:\n",
    "        return self.type == other.type\n",
    "\n",
    "\n",
    "class CharacterDTO:\n",
    "    def __init__(self, name: str, health: float, damage: Damage) -> None:\n",
    "        self.name = name\n",
    "        self.health = health\n",
    "        self.damage = damage\n",
    "\n",
    "\n",
    "# or using kwargs:\n",
    "\n",
    "class AnotherCharacterDTO:\n",
    "    def __init__(self, **kwargs) -> None:\n",
    "        self.name = kwargs['name']\n",
    "        self.health = kwargs['health']\n",
    "        self.damage = kwargs['damage']"
   ]
  },
  {
   "cell_type": "code",
   "execution_count": 2,
   "metadata": {},
   "outputs": [],
   "source": [
    "character_w = {\n",
    "    \"name\": \"Warrior\",\n",
    "    \"health\": 1000,\n",
    "    \"damage\": Damage(\"physical\")\n",
    "}\n",
    "\n",
    "character_m = AnotherCharacterDTO(\n",
    "    name=\"Mage\",\n",
    "    health=800,\n",
    "    damage=Damage(\"magical\")\n",
    ")"
   ]
  },
  {
   "cell_type": "code",
   "execution_count": 3,
   "metadata": {},
   "outputs": [
    {
     "data": {
      "text/plain": [
       "'Warrior'"
      ]
     },
     "execution_count": 3,
     "metadata": {},
     "output_type": "execute_result"
    }
   ],
   "source": [
    "character_w[\"name\"]"
   ]
  },
  {
   "cell_type": "code",
   "execution_count": 4,
   "metadata": {},
   "outputs": [
    {
     "data": {
      "text/plain": [
       "Damage(type=magical)"
      ]
     },
     "execution_count": 4,
     "metadata": {},
     "output_type": "execute_result"
    }
   ],
   "source": [
    "character_m.damage"
   ]
  },
  {
   "cell_type": "markdown",
   "metadata": {},
   "source": [
    "### Dataclasses"
   ]
  },
  {
   "cell_type": "markdown",
   "metadata": {},
   "source": [
    "- by default add automatically generated dunder methods __init__, __repr__ and __eq__\n",
    "\n",
    "- `__init__` method takes all fields as method parameters and sets their values to instance attributes with the same names:"
   ]
  },
  {
   "cell_type": "code",
   "execution_count": 5,
   "metadata": {},
   "outputs": [],
   "source": [
    "from dataclasses import dataclass\n",
    "\n",
    "@dataclass\n",
    "class AltCharacterDTO:\n",
    "    name: str\n",
    "    health: float\n",
    "    damage: Damage\n",
    "\n",
    "\n",
    "# support both positional and keyword arguments:\n",
    "\n",
    "character_p = AltCharacterDTO(\n",
    "    name=\"Priest\",\n",
    "    health=900,\n",
    "    damage=Damage(type=\"magical\")\n",
    ")"
   ]
  },
  {
   "cell_type": "code",
   "execution_count": 6,
   "metadata": {},
   "outputs": [
    {
     "name": "stdout",
     "output_type": "stream",
     "text": [
      "AltCharacterDTO(name='Priest', health=900, damage=Damage(type=magical))\n"
     ]
    }
   ],
   "source": [
    "print(character_p)"
   ]
  },
  {
   "cell_type": "markdown",
   "metadata": {},
   "source": [
    "Dataclasses have already implemented `__repr__` and `__eq__` methods"
   ]
  },
  {
   "cell_type": "markdown",
   "metadata": {},
   "source": [
    "### NamedTuples"
   ]
  },
  {
   "cell_type": "code",
   "execution_count": 7,
   "metadata": {},
   "outputs": [],
   "source": [
    "from collections import namedtuple # as a factory method\n",
    "\n",
    "character_nt = namedtuple(\"character\", [\"name\", \"health\", \"damage\"])"
   ]
  },
  {
   "cell_type": "code",
   "execution_count": 8,
   "metadata": {},
   "outputs": [
    {
     "name": "stdout",
     "output_type": "stream",
     "text": [
      "Error: 'type' object is not iterable\n"
     ]
    }
   ],
   "source": [
    "try:\n",
    "    for field in character_nt: # not iterable\n",
    "        print(field)\n",
    "except TypeError as e:\n",
    "    print(f\"Error: {e}\")"
   ]
  },
  {
   "cell_type": "markdown",
   "metadata": {},
   "source": [
    "added to Python 3.5 as a typed version in typed module and later enhanced with variable annotations syntax in Python 3.6:"
   ]
  },
  {
   "cell_type": "code",
   "execution_count": 9,
   "metadata": {},
   "outputs": [],
   "source": [
    "from typing import NamedTuple # as a class\n",
    "\n",
    "class CharacterNT(NamedTuple):\n",
    "    name: str\n",
    "    health: float\n",
    "    damage: Damage"
   ]
  },
  {
   "cell_type": "code",
   "execution_count": 10,
   "metadata": {},
   "outputs": [
    {
     "data": {
      "text/plain": [
       "CharacterNT(name='Archer', health=500, damage=Damage(type=true damage))"
      ]
     },
     "execution_count": 10,
     "metadata": {},
     "output_type": "execute_result"
    }
   ],
   "source": [
    "character_a = CharacterNT(\"Archer\", 500, Damage(\"true damage\"))\n",
    "character_a"
   ]
  },
  {
   "cell_type": "code",
   "execution_count": 11,
   "metadata": {},
   "outputs": [
    {
     "name": "stdout",
     "output_type": "stream",
     "text": [
      "Archer\n",
      "500\n",
      "Damage(type=true damage)\n"
     ]
    }
   ],
   "source": [
    "for field in character_a: # iterable\n",
    "    print(field)"
   ]
  },
  {
   "cell_type": "code",
   "execution_count": 12,
   "metadata": {},
   "outputs": [],
   "source": [
    "from typing import TypedDict\n",
    "\n",
    "class CharacterTD(TypedDict):\n",
    "    name: str\n",
    "    health: float\n",
    "    damage: Damage"
   ]
  },
  {
   "cell_type": "markdown",
   "metadata": {},
   "source": [
    "TypedDict:\n",
    "- mutable\n",
    "- `__repr__` and `__eq__` handled\n",
    "- iterable in dict kind of way\n",
    "- don't support default values\n",
    "- can provide typing for existing dictionaries\n",
    "- since those are still dictionaries, after all, they can be directly serialized to JSON data structures."
   ]
  },
  {
   "cell_type": "code",
   "execution_count": 13,
   "metadata": {},
   "outputs": [
    {
     "data": {
      "text/plain": [
       "{'name': 'Tank', 'health': 2000, 'damage': Damage(type=physical)}"
      ]
     },
     "execution_count": 13,
     "metadata": {},
     "output_type": "execute_result"
    }
   ],
   "source": [
    "character_t = CharacterTD(\n",
    "    name=\"Tank\",\n",
    "    health=2000,\n",
    "    damage=Damage(\"physical\")\n",
    ")\n",
    "character_t"
   ]
  }
 ],
 "metadata": {
  "kernelspec": {
   "display_name": "venv",
   "language": "python",
   "name": "python3"
  },
  "language_info": {
   "codemirror_mode": {
    "name": "ipython",
    "version": 3
   },
   "file_extension": ".py",
   "mimetype": "text/x-python",
   "name": "python",
   "nbconvert_exporter": "python",
   "pygments_lexer": "ipython3",
   "version": "3.11.5"
  },
  "orig_nbformat": 4
 },
 "nbformat": 4,
 "nbformat_minor": 2
}
