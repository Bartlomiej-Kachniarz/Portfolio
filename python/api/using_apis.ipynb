{
 "cells": [
  {
   "cell_type": "markdown",
   "metadata": {},
   "source": [
    "RealPython Tutorial: \"https://realpython.com/python-api/\""
   ]
  },
  {
   "cell_type": "code",
   "execution_count": 2,
   "metadata": {},
   "outputs": [],
   "source": [
    "import requests\n",
    "\n",
    "response = requests.get(\"https://randomuser.me/api\")"
   ]
  },
  {
   "cell_type": "code",
   "execution_count": 7,
   "metadata": {},
   "outputs": [
    {
     "data": {
      "text/plain": [
       "'{\"results\":[{\"gender\":\"male\",\"name\":{\"title\":\"Mr\",\"first\":\"Tanveer\",\"last\":\"Thampy\"},\"location\":{\"street\":{\"number\":6097,\"name\":\"Car St\"},\"city\":\"Bardhaman\",\"state\":\"Nagaland\",\"country\":\"India\",\"postcode\":53763,\"coordinates\":{\"latitude\":\"12.4377\",\"longitude\":\"-155.9130\"},\"timezone\":{\"offset\":\"+4:30\",\"description\":\"Kabul\"}},\"email\":\"tanveer.thampy@example.com\",\"login\":{\"uuid\":\"efa911b7-6b69-4fe5-85cd-87fe677e2157\",\"username\":\"silverswan600\",\"password\":\"finish\",\"salt\":\"AUxL95tH\",\"md5\":\"585afea8e0cd5f3466a56da00c7ce84c\",\"sha1\":\"7d0e675881aab457a67ee5a7bce0a35754698769\",\"sha256\":\"9722c6bbb11f3f9022cf8ac9f96818f3e0b5ffa4dd12136b382148a9f35572ad\"},\"dob\":{\"date\":\"1970-06-10T13:12:16.774Z\",\"age\":53},\"registered\":{\"date\":\"2021-12-29T23:08:22.608Z\",\"age\":2},\"phone\":\"8449103442\",\"cell\":\"8477235633\",\"id\":{\"name\":\"UIDAI\",\"value\":\"292485081312\"},\"picture\":{\"large\":\"https://randomuser.me/api/portraits/men/90.jpg\",\"medium\":\"https://randomuser.me/api/portraits/med/men/90.jpg\",\"thumbnail\":\"https://randomuser.me/api/portraits/thumb/men/90.jpg\"},\"nat\":\"IN\"}],\"info\":{\"seed\":\"ef8eca4dd602c7e0\",\"results\":1,\"page\":1,\"version\":\"1.4\"}}'"
      ]
     },
     "execution_count": 7,
     "metadata": {},
     "output_type": "execute_result"
    }
   ],
   "source": [
    "response.text"
   ]
  },
  {
   "cell_type": "code",
   "execution_count": 8,
   "metadata": {},
   "outputs": [
    {
     "data": {
      "text/plain": [
       "'{\"message\":\"The Cat API\",\"version\":\"1.3.9\"}'"
      ]
     },
     "execution_count": 8,
     "metadata": {},
     "output_type": "execute_result"
    }
   ],
   "source": [
    "response = requests.get(\"https://api.thecatapi.com/\")\n",
    "response.text"
   ]
  },
  {
   "cell_type": "code",
   "execution_count": 9,
   "metadata": {},
   "outputs": [
    {
     "data": {
      "text/plain": [
       "200"
      ]
     },
     "execution_count": 9,
     "metadata": {},
     "output_type": "execute_result"
    }
   ],
   "source": [
    "response.status_code"
   ]
  },
  {
   "cell_type": "code",
   "execution_count": 12,
   "metadata": {},
   "outputs": [
    {
     "data": {
      "text/plain": [
       "{'x-dns-prefetch-control': 'off', 'x-frame-options': 'SAMEORIGIN', 'strict-transport-security': 'max-age=15552000; includeSubDomains', 'x-download-options': 'noopen', 'x-content-type-options': 'nosniff', 'x-xss-protection': '1; mode=block', 'vary': 'Origin', 'content-type': 'application/json; charset=utf-8', 'x-response-time': '0ms', 'X-Cloud-Trace-Context': 'e1b871dda3d46b3ca5a82199d7492c40', 'Date': 'Sun, 28 Jan 2024 18:27:53 GMT', 'Server': 'Google Frontend', 'Content-Length': '43'}"
      ]
     },
     "execution_count": 12,
     "metadata": {},
     "output_type": "execute_result"
    }
   ],
   "source": [
    "response.headers"
   ]
  },
  {
   "cell_type": "code",
   "execution_count": 13,
   "metadata": {},
   "outputs": [
    {
     "data": {
      "text/plain": [
       "<PreparedRequest [GET]>"
      ]
     },
     "execution_count": 13,
     "metadata": {},
     "output_type": "execute_result"
    }
   ],
   "source": [
    "response.request"
   ]
  },
  {
   "cell_type": "code",
   "execution_count": 14,
   "metadata": {},
   "outputs": [],
   "source": [
    "request = response.request"
   ]
  },
  {
   "cell_type": "code",
   "execution_count": 16,
   "metadata": {},
   "outputs": [
    {
     "data": {
      "text/plain": [
       "'https://api.thecatapi.com/'"
      ]
     },
     "execution_count": 16,
     "metadata": {},
     "output_type": "execute_result"
    }
   ],
   "source": [
    "request.url"
   ]
  },
  {
   "cell_type": "code",
   "execution_count": 17,
   "metadata": {},
   "outputs": [
    {
     "data": {
      "text/plain": [
       "<Response [404]>"
      ]
     },
     "execution_count": 17,
     "metadata": {},
     "output_type": "execute_result"
    }
   ],
   "source": [
    "response_wrong = requests.get(\"https://api.thecatapi.com/v1/breedz\")\n",
    "response_wrong"
   ]
  },
  {
   "cell_type": "code",
   "execution_count": 29,
   "metadata": {},
   "outputs": [
    {
     "data": {
      "text/plain": [
       "{'User-Agent': 'python-requests/2.31.0', 'Accept-Encoding': 'gzip, deflate', 'Accept': '*/*', 'Connection': 'keep-alive'}"
      ]
     },
     "execution_count": 29,
     "metadata": {},
     "output_type": "execute_result"
    }
   ],
   "source": [
    "response.request.headers"
   ]
  },
  {
   "cell_type": "code",
   "execution_count": 28,
   "metadata": {},
   "outputs": [
    {
     "data": {
      "text/plain": [
       "'application/json; charset=utf-8'"
      ]
     },
     "execution_count": 28,
     "metadata": {},
     "output_type": "execute_result"
    }
   ],
   "source": [
    "response.headers.get(\"Content-Type\")"
   ]
  },
  {
   "cell_type": "code",
   "execution_count": 30,
   "metadata": {},
   "outputs": [
    {
     "data": {
      "text/plain": [
       "'image/png'"
      ]
     },
     "execution_count": 30,
     "metadata": {},
     "output_type": "execute_result"
    }
   ],
   "source": [
    "url = \"https://image-charts.com/chart?chs=700x125&cht=ls&chd=t:23,15,28\"\n",
    "response = requests.get(url=url)\n",
    "response.headers.get(\"Content-Type\")"
   ]
  },
  {
   "cell_type": "code",
   "execution_count": 34,
   "metadata": {},
   "outputs": [
    {
     "data": {
      "text/plain": [
       "'Abyssinian'"
      ]
     },
     "execution_count": 34,
     "metadata": {},
     "output_type": "execute_result"
    }
   ],
   "source": [
    "response = requests.get(\"https://api.thecatapi.com/v1/breeds/abys\")\n",
    "response.json()['name']"
   ]
  },
  {
   "cell_type": "code",
   "execution_count": 42,
   "metadata": {},
   "outputs": [
    {
     "data": {
      "text/plain": [
       "{'results': [{'gender': 'male',\n",
       "   'name': {'title': 'Mr', 'first': 'Uwe', 'last': 'Grebe'},\n",
       "   'location': {'street': {'number': 1595, 'name': 'Kirchplatz'},\n",
       "    'city': 'Neustadt In Sachsen',\n",
       "    'state': 'Rheinland-Pfalz',\n",
       "    'country': 'Germany',\n",
       "    'postcode': 89590,\n",
       "    'coordinates': {'latitude': '5.9204', 'longitude': '157.7261'},\n",
       "    'timezone': {'offset': '-4:00',\n",
       "     'description': 'Atlantic Time (Canada), Caracas, La Paz'}},\n",
       "   'email': 'uwe.grebe@example.com',\n",
       "   'login': {'uuid': '44289ae5-9994-4b21-9b54-4719bd838d42',\n",
       "    'username': 'silvergoose351',\n",
       "    'password': 'beach1',\n",
       "    'salt': 'wLMIrTie',\n",
       "    'md5': '772b8474f47aba3c06fcb9ca03627a97',\n",
       "    'sha1': '2de61f10763d1a7e4448b0dee59c1224593bec1a',\n",
       "    'sha256': '7ac397f7c46223f732dfb3f25640cacd706861aea05f5c1adf789e7117013ecf'},\n",
       "   'dob': {'date': '1961-10-01T09:25:08.649Z', 'age': 62},\n",
       "   'registered': {'date': '2011-10-03T19:30:28.045Z', 'age': 12},\n",
       "   'phone': '0578-5258218',\n",
       "   'cell': '0170-1511440',\n",
       "   'id': {'name': 'SVNR', 'value': '81 011061 G 201'},\n",
       "   'picture': {'large': 'https://randomuser.me/api/portraits/men/10.jpg',\n",
       "    'medium': 'https://randomuser.me/api/portraits/med/men/10.jpg',\n",
       "    'thumbnail': 'https://randomuser.me/api/portraits/thumb/men/10.jpg'},\n",
       "   'nat': 'DE'}],\n",
       " 'info': {'seed': '8c298de58004f22d',\n",
       "  'results': 1,\n",
       "  'page': 1,\n",
       "  'version': '1.4'}}"
      ]
     },
     "execution_count": 42,
     "metadata": {},
     "output_type": "execute_result"
    }
   ],
   "source": [
    "# query parameters:\n",
    "requests.get(\"https://randomuser.me/api/?gender=male&nat=de\").json()"
   ]
  },
  {
   "cell_type": "code",
   "execution_count": 43,
   "metadata": {},
   "outputs": [
    {
     "data": {
      "text/plain": [
       "{'results': [{'gender': 'female',\n",
       "   'name': {'title': 'Ms', 'first': 'Kristin', 'last': 'Thompson'},\n",
       "   'location': {'street': {'number': 6343, 'name': 'Ranchview Dr'},\n",
       "    'city': 'Stamford',\n",
       "    'state': 'Kansas',\n",
       "    'country': 'United States',\n",
       "    'postcode': 86656,\n",
       "    'coordinates': {'latitude': '-31.6751', 'longitude': '15.3817'},\n",
       "    'timezone': {'offset': '-10:00', 'description': 'Hawaii'}},\n",
       "   'email': 'kristin.thompson@example.com',\n",
       "   'login': {'uuid': 'eb1aad5d-4a66-4ae0-98ef-c0975dbe95b0',\n",
       "    'username': 'tinyzebra819',\n",
       "    'password': 'knights',\n",
       "    'salt': 'sNzAQ6dZ',\n",
       "    'md5': 'eabc367abd3fcbff5659d3955345652a',\n",
       "    'sha1': '7e6ed0dd246dc472b69bd8e0098b0bdde2d7cefd',\n",
       "    'sha256': '3a86b85eb3bbb1f2db7f4962200c8be97c3c76cdf0769af5ed4451973312cb11'},\n",
       "   'dob': {'date': '1944-09-08T23:43:44.077Z', 'age': 79},\n",
       "   'registered': {'date': '2013-11-04T03:51:07.371Z', 'age': 10},\n",
       "   'phone': '(486) 963-7020',\n",
       "   'cell': '(418) 288-6923',\n",
       "   'id': {'name': 'SSN', 'value': '750-87-3812'},\n",
       "   'picture': {'large': 'https://randomuser.me/api/portraits/women/43.jpg',\n",
       "    'medium': 'https://randomuser.me/api/portraits/med/women/43.jpg',\n",
       "    'thumbnail': 'https://randomuser.me/api/portraits/thumb/women/43.jpg'},\n",
       "   'nat': 'US'}],\n",
       " 'info': {'seed': 'd4819b01c6c3bd9e',\n",
       "  'results': 1,\n",
       "  'page': 1,\n",
       "  'version': '1.4'}}"
      ]
     },
     "execution_count": 43,
     "metadata": {},
     "output_type": "execute_result"
    }
   ],
   "source": [
    "query_params = {\"gender\": \"female\", \"nat\": \"us\"}\n",
    "requests.get(\"https://randomuser.me/api/\", params=query_params).json()"
   ]
  },
  {
   "cell_type": "code",
   "execution_count": 44,
   "metadata": {},
   "outputs": [
    {
     "data": {
      "text/plain": [
       "<Response [200]>"
      ]
     },
     "execution_count": 44,
     "metadata": {},
     "output_type": "execute_result"
    }
   ],
   "source": [
    "endpoint = \"https://api.nasa.gov/mars-photos/api/v1/rovers/curiosity/photos\"\n",
    "# Replace DEMO_KEY below with your own key if you generated one.\n",
    "api_key = \"DEMO_KEY\"\n",
    "query_params = {\"api_key\": api_key, \"earth_date\": \"2020-07-01\"}\n",
    "response = requests.get(endpoint, params=query_params)\n",
    "response"
   ]
  },
  {
   "cell_type": "code",
   "execution_count": 46,
   "metadata": {},
   "outputs": [
    {
     "name": "stdout",
     "output_type": "stream",
     "text": [
      "Follow the link to start the authentication with GitHub: https://github.com/login?client_id=%3CREPLACE_WITH_CLIENT_ID%3E&return_to=%2Flogin%2Foauth%2Fauthorize%3Fclient_id%3D%253CREPLACE_WITH_CLIENT_ID%253E%26redirect_uri%3D%253CREPLACE_WITH_REDIRECT_URI%253E%26response_type%3Dcode%26scope%3Duser\n"
     ]
    },
    {
     "ename": "KeyError",
     "evalue": "'access_token'",
     "output_type": "error",
     "traceback": [
      "\u001b[0;31m---------------------------------------------------------------------------\u001b[0m",
      "\u001b[0;31mKeyError\u001b[0m                                  Traceback (most recent call last)",
      "Cell \u001b[0;32mIn[46], line 50\u001b[0m\n\u001b[1;32m     48\u001b[0m \u001b[38;5;28mprint\u001b[39m(\u001b[38;5;124mf\u001b[39m\u001b[38;5;124m\"\u001b[39m\u001b[38;5;124mFollow the link to start the authentication with GitHub: \u001b[39m\u001b[38;5;132;01m{\u001b[39;00mlink\u001b[38;5;132;01m}\u001b[39;00m\u001b[38;5;124m\"\u001b[39m)\n\u001b[1;32m     49\u001b[0m code \u001b[38;5;241m=\u001b[39m \u001b[38;5;28minput\u001b[39m(\u001b[38;5;124m\"\u001b[39m\u001b[38;5;124mGitHub code: \u001b[39m\u001b[38;5;124m\"\u001b[39m)\n\u001b[0;32m---> 50\u001b[0m access_token \u001b[38;5;241m=\u001b[39m \u001b[43mexchange_code_for_access_token\u001b[49m\u001b[43m(\u001b[49m\u001b[43mcode\u001b[49m\u001b[43m)\u001b[49m\n\u001b[1;32m     51\u001b[0m \u001b[38;5;28mprint\u001b[39m(\u001b[38;5;124mf\u001b[39m\u001b[38;5;124m\"\u001b[39m\u001b[38;5;124mExchanged code \u001b[39m\u001b[38;5;132;01m{\u001b[39;00mcode\u001b[38;5;132;01m}\u001b[39;00m\u001b[38;5;124m with access token: \u001b[39m\u001b[38;5;132;01m{\u001b[39;00maccess_token\u001b[38;5;132;01m}\u001b[39;00m\u001b[38;5;124m\"\u001b[39m)\n\u001b[1;32m     52\u001b[0m print_user_info(access_token\u001b[38;5;241m=\u001b[39maccess_token)\n",
      "Cell \u001b[0;32mIn[46], line 34\u001b[0m, in \u001b[0;36mexchange_code_for_access_token\u001b[0;34m(code)\u001b[0m\n\u001b[1;32m     32\u001b[0m endpoint \u001b[38;5;241m=\u001b[39m \u001b[38;5;124m\"\u001b[39m\u001b[38;5;124mhttps://github.com/login/oauth/access_token\u001b[39m\u001b[38;5;124m\"\u001b[39m\n\u001b[1;32m     33\u001b[0m response \u001b[38;5;241m=\u001b[39m requests\u001b[38;5;241m.\u001b[39mpost(endpoint, params\u001b[38;5;241m=\u001b[39mparams, headers\u001b[38;5;241m=\u001b[39mheaders)\u001b[38;5;241m.\u001b[39mjson()\n\u001b[0;32m---> 34\u001b[0m \u001b[38;5;28;01mreturn\u001b[39;00m \u001b[43mresponse\u001b[49m\u001b[43m[\u001b[49m\u001b[38;5;124;43m\"\u001b[39;49m\u001b[38;5;124;43maccess_token\u001b[39;49m\u001b[38;5;124;43m\"\u001b[39;49m\u001b[43m]\u001b[49m\n",
      "\u001b[0;31mKeyError\u001b[0m: 'access_token'"
     ]
    }
   ],
   "source": []
  },
  {
   "cell_type": "code",
   "execution_count": null,
   "metadata": {},
   "outputs": [],
   "source": []
  }
 ],
 "metadata": {
  "kernelspec": {
   "display_name": "venv",
   "language": "python",
   "name": "python3"
  },
  "language_info": {
   "codemirror_mode": {
    "name": "ipython",
    "version": 3
   },
   "file_extension": ".py",
   "mimetype": "text/x-python",
   "name": "python",
   "nbconvert_exporter": "python",
   "pygments_lexer": "ipython3",
   "version": "3.11.6"
  }
 },
 "nbformat": 4,
 "nbformat_minor": 2
}
